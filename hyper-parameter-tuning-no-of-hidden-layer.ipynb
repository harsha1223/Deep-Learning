{
 "cells": [
  {
   "cell_type": "markdown",
   "id": "beautiful-stocks",
   "metadata": {
    "papermill": {
     "duration": 0.021587,
     "end_time": "2021-06-01T11:14:58.661100",
     "exception": false,
     "start_time": "2021-06-01T11:14:58.639513",
     "status": "completed"
    },
    "tags": []
   },
   "source": [
    "# IMPORTING THE LIBRARIES"
   ]
  },
  {
   "cell_type": "code",
   "execution_count": 1,
   "id": "structured-bargain",
   "metadata": {
    "execution": {
     "iopub.execute_input": "2021-06-01T11:14:58.706306Z",
     "iopub.status.busy": "2021-06-01T11:14:58.705347Z",
     "iopub.status.idle": "2021-06-01T11:14:58.710541Z",
     "shell.execute_reply": "2021-06-01T11:14:58.709854Z",
     "shell.execute_reply.started": "2021-06-01T11:09:08.236453Z"
    },
    "papermill": {
     "duration": 0.028872,
     "end_time": "2021-06-01T11:14:58.710718",
     "exception": false,
     "start_time": "2021-06-01T11:14:58.681846",
     "status": "completed"
    },
    "tags": []
   },
   "outputs": [],
   "source": [
    "import numpy as np\n",
    "import matplotlib.pyplot as plt\n",
    "import pandas as pd\n",
    "import warnings\n",
    "warnings.filterwarnings(\"ignore\")"
   ]
  },
  {
   "cell_type": "markdown",
   "id": "private-savage",
   "metadata": {
    "papermill": {
     "duration": 0.020481,
     "end_time": "2021-06-01T11:14:58.751191",
     "exception": false,
     "start_time": "2021-06-01T11:14:58.730710",
     "status": "completed"
    },
    "tags": []
   },
   "source": [
    "# IMPORTING THE DATASET"
   ]
  },
  {
   "cell_type": "code",
   "execution_count": 2,
   "id": "norwegian-repeat",
   "metadata": {
    "execution": {
     "iopub.execute_input": "2021-06-01T11:14:58.796729Z",
     "iopub.status.busy": "2021-06-01T11:14:58.796158Z",
     "iopub.status.idle": "2021-06-01T11:14:58.837210Z",
     "shell.execute_reply": "2021-06-01T11:14:58.836710Z",
     "shell.execute_reply.started": "2021-06-01T11:09:08.284754Z"
    },
    "papermill": {
     "duration": 0.066633,
     "end_time": "2021-06-01T11:14:58.837357",
     "exception": false,
     "start_time": "2021-06-01T11:14:58.770724",
     "status": "completed"
    },
    "tags": []
   },
   "outputs": [],
   "source": [
    "data = pd.read_csv('../input/churn-modelling/Churn_Modelling.csv')"
   ]
  },
  {
   "cell_type": "code",
   "execution_count": 3,
   "id": "happy-consortium",
   "metadata": {
    "execution": {
     "iopub.execute_input": "2021-06-01T11:14:58.889548Z",
     "iopub.status.busy": "2021-06-01T11:14:58.888891Z",
     "iopub.status.idle": "2021-06-01T11:14:58.911147Z",
     "shell.execute_reply": "2021-06-01T11:14:58.911605Z",
     "shell.execute_reply.started": "2021-06-01T11:09:08.331800Z"
    },
    "papermill": {
     "duration": 0.054669,
     "end_time": "2021-06-01T11:14:58.911776",
     "exception": false,
     "start_time": "2021-06-01T11:14:58.857107",
     "status": "completed"
    },
    "tags": []
   },
   "outputs": [
    {
     "data": {
      "text/html": [
       "<div>\n",
       "<style scoped>\n",
       "    .dataframe tbody tr th:only-of-type {\n",
       "        vertical-align: middle;\n",
       "    }\n",
       "\n",
       "    .dataframe tbody tr th {\n",
       "        vertical-align: top;\n",
       "    }\n",
       "\n",
       "    .dataframe thead th {\n",
       "        text-align: right;\n",
       "    }\n",
       "</style>\n",
       "<table border=\"1\" class=\"dataframe\">\n",
       "  <thead>\n",
       "    <tr style=\"text-align: right;\">\n",
       "      <th></th>\n",
       "      <th>RowNumber</th>\n",
       "      <th>CustomerId</th>\n",
       "      <th>Surname</th>\n",
       "      <th>CreditScore</th>\n",
       "      <th>Geography</th>\n",
       "      <th>Gender</th>\n",
       "      <th>Age</th>\n",
       "      <th>Tenure</th>\n",
       "      <th>Balance</th>\n",
       "      <th>NumOfProducts</th>\n",
       "      <th>HasCrCard</th>\n",
       "      <th>IsActiveMember</th>\n",
       "      <th>EstimatedSalary</th>\n",
       "      <th>Exited</th>\n",
       "    </tr>\n",
       "  </thead>\n",
       "  <tbody>\n",
       "    <tr>\n",
       "      <th>0</th>\n",
       "      <td>1</td>\n",
       "      <td>15634602</td>\n",
       "      <td>Hargrave</td>\n",
       "      <td>619</td>\n",
       "      <td>France</td>\n",
       "      <td>Female</td>\n",
       "      <td>42</td>\n",
       "      <td>2</td>\n",
       "      <td>0.00</td>\n",
       "      <td>1</td>\n",
       "      <td>1</td>\n",
       "      <td>1</td>\n",
       "      <td>101348.88</td>\n",
       "      <td>1</td>\n",
       "    </tr>\n",
       "    <tr>\n",
       "      <th>1</th>\n",
       "      <td>2</td>\n",
       "      <td>15647311</td>\n",
       "      <td>Hill</td>\n",
       "      <td>608</td>\n",
       "      <td>Spain</td>\n",
       "      <td>Female</td>\n",
       "      <td>41</td>\n",
       "      <td>1</td>\n",
       "      <td>83807.86</td>\n",
       "      <td>1</td>\n",
       "      <td>0</td>\n",
       "      <td>1</td>\n",
       "      <td>112542.58</td>\n",
       "      <td>0</td>\n",
       "    </tr>\n",
       "    <tr>\n",
       "      <th>2</th>\n",
       "      <td>3</td>\n",
       "      <td>15619304</td>\n",
       "      <td>Onio</td>\n",
       "      <td>502</td>\n",
       "      <td>France</td>\n",
       "      <td>Female</td>\n",
       "      <td>42</td>\n",
       "      <td>8</td>\n",
       "      <td>159660.80</td>\n",
       "      <td>3</td>\n",
       "      <td>1</td>\n",
       "      <td>0</td>\n",
       "      <td>113931.57</td>\n",
       "      <td>1</td>\n",
       "    </tr>\n",
       "    <tr>\n",
       "      <th>3</th>\n",
       "      <td>4</td>\n",
       "      <td>15701354</td>\n",
       "      <td>Boni</td>\n",
       "      <td>699</td>\n",
       "      <td>France</td>\n",
       "      <td>Female</td>\n",
       "      <td>39</td>\n",
       "      <td>1</td>\n",
       "      <td>0.00</td>\n",
       "      <td>2</td>\n",
       "      <td>0</td>\n",
       "      <td>0</td>\n",
       "      <td>93826.63</td>\n",
       "      <td>0</td>\n",
       "    </tr>\n",
       "    <tr>\n",
       "      <th>4</th>\n",
       "      <td>5</td>\n",
       "      <td>15737888</td>\n",
       "      <td>Mitchell</td>\n",
       "      <td>850</td>\n",
       "      <td>Spain</td>\n",
       "      <td>Female</td>\n",
       "      <td>43</td>\n",
       "      <td>2</td>\n",
       "      <td>125510.82</td>\n",
       "      <td>1</td>\n",
       "      <td>1</td>\n",
       "      <td>1</td>\n",
       "      <td>79084.10</td>\n",
       "      <td>0</td>\n",
       "    </tr>\n",
       "  </tbody>\n",
       "</table>\n",
       "</div>"
      ],
      "text/plain": [
       "   RowNumber  CustomerId   Surname  CreditScore Geography  Gender  Age  \\\n",
       "0          1    15634602  Hargrave          619    France  Female   42   \n",
       "1          2    15647311      Hill          608     Spain  Female   41   \n",
       "2          3    15619304      Onio          502    France  Female   42   \n",
       "3          4    15701354      Boni          699    France  Female   39   \n",
       "4          5    15737888  Mitchell          850     Spain  Female   43   \n",
       "\n",
       "   Tenure    Balance  NumOfProducts  HasCrCard  IsActiveMember  \\\n",
       "0       2       0.00              1          1               1   \n",
       "1       1   83807.86              1          0               1   \n",
       "2       8  159660.80              3          1               0   \n",
       "3       1       0.00              2          0               0   \n",
       "4       2  125510.82              1          1               1   \n",
       "\n",
       "   EstimatedSalary  Exited  \n",
       "0        101348.88       1  \n",
       "1        112542.58       0  \n",
       "2        113931.57       1  \n",
       "3         93826.63       0  \n",
       "4         79084.10       0  "
      ]
     },
     "execution_count": 3,
     "metadata": {},
     "output_type": "execute_result"
    }
   ],
   "source": [
    "data.head()"
   ]
  },
  {
   "cell_type": "code",
   "execution_count": 4,
   "id": "applicable-beach",
   "metadata": {
    "execution": {
     "iopub.execute_input": "2021-06-01T11:14:58.955942Z",
     "iopub.status.busy": "2021-06-01T11:14:58.955378Z",
     "iopub.status.idle": "2021-06-01T11:14:58.959957Z",
     "shell.execute_reply": "2021-06-01T11:14:58.960393Z",
     "shell.execute_reply.started": "2021-06-01T11:09:08.354148Z"
    },
    "papermill": {
     "duration": 0.027911,
     "end_time": "2021-06-01T11:14:58.960563",
     "exception": false,
     "start_time": "2021-06-01T11:14:58.932652",
     "status": "completed"
    },
    "tags": []
   },
   "outputs": [],
   "source": [
    "# independent feature:\n",
    "X = data.iloc[:, 3:13]"
   ]
  },
  {
   "cell_type": "code",
   "execution_count": 5,
   "id": "psychological-postage",
   "metadata": {
    "execution": {
     "iopub.execute_input": "2021-06-01T11:14:59.004471Z",
     "iopub.status.busy": "2021-06-01T11:14:59.003846Z",
     "iopub.status.idle": "2021-06-01T11:14:59.007631Z",
     "shell.execute_reply": "2021-06-01T11:14:59.008093Z",
     "shell.execute_reply.started": "2021-06-01T11:09:08.371307Z"
    },
    "papermill": {
     "duration": 0.027535,
     "end_time": "2021-06-01T11:14:59.008267",
     "exception": false,
     "start_time": "2021-06-01T11:14:58.980732",
     "status": "completed"
    },
    "tags": []
   },
   "outputs": [],
   "source": [
    "# dependent feature :\n",
    "y = data.iloc[:, 13]"
   ]
  },
  {
   "cell_type": "code",
   "execution_count": 6,
   "id": "vocal-notification",
   "metadata": {
    "execution": {
     "iopub.execute_input": "2021-06-01T11:14:59.051564Z",
     "iopub.status.busy": "2021-06-01T11:14:59.050954Z",
     "iopub.status.idle": "2021-06-01T11:14:59.062797Z",
     "shell.execute_reply": "2021-06-01T11:14:59.063188Z",
     "shell.execute_reply.started": "2021-06-01T11:09:08.386153Z"
    },
    "papermill": {
     "duration": 0.03488,
     "end_time": "2021-06-01T11:14:59.063352",
     "exception": false,
     "start_time": "2021-06-01T11:14:59.028472",
     "status": "completed"
    },
    "tags": []
   },
   "outputs": [
    {
     "data": {
      "text/html": [
       "<div>\n",
       "<style scoped>\n",
       "    .dataframe tbody tr th:only-of-type {\n",
       "        vertical-align: middle;\n",
       "    }\n",
       "\n",
       "    .dataframe tbody tr th {\n",
       "        vertical-align: top;\n",
       "    }\n",
       "\n",
       "    .dataframe thead th {\n",
       "        text-align: right;\n",
       "    }\n",
       "</style>\n",
       "<table border=\"1\" class=\"dataframe\">\n",
       "  <thead>\n",
       "    <tr style=\"text-align: right;\">\n",
       "      <th></th>\n",
       "      <th>CreditScore</th>\n",
       "      <th>Geography</th>\n",
       "      <th>Gender</th>\n",
       "      <th>Age</th>\n",
       "      <th>Tenure</th>\n",
       "      <th>Balance</th>\n",
       "      <th>NumOfProducts</th>\n",
       "      <th>HasCrCard</th>\n",
       "      <th>IsActiveMember</th>\n",
       "      <th>EstimatedSalary</th>\n",
       "    </tr>\n",
       "  </thead>\n",
       "  <tbody>\n",
       "    <tr>\n",
       "      <th>0</th>\n",
       "      <td>619</td>\n",
       "      <td>France</td>\n",
       "      <td>Female</td>\n",
       "      <td>42</td>\n",
       "      <td>2</td>\n",
       "      <td>0.00</td>\n",
       "      <td>1</td>\n",
       "      <td>1</td>\n",
       "      <td>1</td>\n",
       "      <td>101348.88</td>\n",
       "    </tr>\n",
       "    <tr>\n",
       "      <th>1</th>\n",
       "      <td>608</td>\n",
       "      <td>Spain</td>\n",
       "      <td>Female</td>\n",
       "      <td>41</td>\n",
       "      <td>1</td>\n",
       "      <td>83807.86</td>\n",
       "      <td>1</td>\n",
       "      <td>0</td>\n",
       "      <td>1</td>\n",
       "      <td>112542.58</td>\n",
       "    </tr>\n",
       "    <tr>\n",
       "      <th>2</th>\n",
       "      <td>502</td>\n",
       "      <td>France</td>\n",
       "      <td>Female</td>\n",
       "      <td>42</td>\n",
       "      <td>8</td>\n",
       "      <td>159660.80</td>\n",
       "      <td>3</td>\n",
       "      <td>1</td>\n",
       "      <td>0</td>\n",
       "      <td>113931.57</td>\n",
       "    </tr>\n",
       "    <tr>\n",
       "      <th>3</th>\n",
       "      <td>699</td>\n",
       "      <td>France</td>\n",
       "      <td>Female</td>\n",
       "      <td>39</td>\n",
       "      <td>1</td>\n",
       "      <td>0.00</td>\n",
       "      <td>2</td>\n",
       "      <td>0</td>\n",
       "      <td>0</td>\n",
       "      <td>93826.63</td>\n",
       "    </tr>\n",
       "    <tr>\n",
       "      <th>4</th>\n",
       "      <td>850</td>\n",
       "      <td>Spain</td>\n",
       "      <td>Female</td>\n",
       "      <td>43</td>\n",
       "      <td>2</td>\n",
       "      <td>125510.82</td>\n",
       "      <td>1</td>\n",
       "      <td>1</td>\n",
       "      <td>1</td>\n",
       "      <td>79084.10</td>\n",
       "    </tr>\n",
       "  </tbody>\n",
       "</table>\n",
       "</div>"
      ],
      "text/plain": [
       "   CreditScore Geography  Gender  Age  Tenure    Balance  NumOfProducts  \\\n",
       "0          619    France  Female   42       2       0.00              1   \n",
       "1          608     Spain  Female   41       1   83807.86              1   \n",
       "2          502    France  Female   42       8  159660.80              3   \n",
       "3          699    France  Female   39       1       0.00              2   \n",
       "4          850     Spain  Female   43       2  125510.82              1   \n",
       "\n",
       "   HasCrCard  IsActiveMember  EstimatedSalary  \n",
       "0          1               1        101348.88  \n",
       "1          0               1        112542.58  \n",
       "2          1               0        113931.57  \n",
       "3          0               0         93826.63  \n",
       "4          1               1         79084.10  "
      ]
     },
     "execution_count": 6,
     "metadata": {},
     "output_type": "execute_result"
    }
   ],
   "source": [
    "X.head()"
   ]
  },
  {
   "cell_type": "code",
   "execution_count": 7,
   "id": "reserved-alert",
   "metadata": {
    "execution": {
     "iopub.execute_input": "2021-06-01T11:14:59.107741Z",
     "iopub.status.busy": "2021-06-01T11:14:59.107105Z",
     "iopub.status.idle": "2021-06-01T11:14:59.112428Z",
     "shell.execute_reply": "2021-06-01T11:14:59.112887Z",
     "shell.execute_reply.started": "2021-06-01T11:09:08.411273Z"
    },
    "papermill": {
     "duration": 0.029276,
     "end_time": "2021-06-01T11:14:59.113081",
     "exception": false,
     "start_time": "2021-06-01T11:14:59.083805",
     "status": "completed"
    },
    "tags": []
   },
   "outputs": [
    {
     "data": {
      "text/plain": [
       "0    1\n",
       "1    0\n",
       "2    1\n",
       "3    0\n",
       "4    0\n",
       "Name: Exited, dtype: int64"
      ]
     },
     "execution_count": 7,
     "metadata": {},
     "output_type": "execute_result"
    }
   ],
   "source": [
    "y.head()"
   ]
  },
  {
   "cell_type": "code",
   "execution_count": 8,
   "id": "hourly-charles",
   "metadata": {
    "execution": {
     "iopub.execute_input": "2021-06-01T11:14:59.157814Z",
     "iopub.status.busy": "2021-06-01T11:14:59.157211Z",
     "iopub.status.idle": "2021-06-01T11:14:59.167485Z",
     "shell.execute_reply": "2021-06-01T11:14:59.167021Z",
     "shell.execute_reply.started": "2021-06-01T11:09:08.425573Z"
    },
    "papermill": {
     "duration": 0.033647,
     "end_time": "2021-06-01T11:14:59.167641",
     "exception": false,
     "start_time": "2021-06-01T11:14:59.133994",
     "status": "completed"
    },
    "tags": []
   },
   "outputs": [],
   "source": [
    "# Create dummy variables :\n",
    "geography=pd.get_dummies(X[\"Geography\"],drop_first=True)"
   ]
  },
  {
   "cell_type": "code",
   "execution_count": 9,
   "id": "alive-belfast",
   "metadata": {
    "execution": {
     "iopub.execute_input": "2021-06-01T11:14:59.214273Z",
     "iopub.status.busy": "2021-06-01T11:14:59.213421Z",
     "iopub.status.idle": "2021-06-01T11:14:59.217790Z",
     "shell.execute_reply": "2021-06-01T11:14:59.217307Z",
     "shell.execute_reply.started": "2021-06-01T11:09:08.440411Z"
    },
    "papermill": {
     "duration": 0.029624,
     "end_time": "2021-06-01T11:14:59.217926",
     "exception": false,
     "start_time": "2021-06-01T11:14:59.188302",
     "status": "completed"
    },
    "tags": []
   },
   "outputs": [],
   "source": [
    "gender=pd.get_dummies(X['Gender'],drop_first=True)"
   ]
  },
  {
   "cell_type": "code",
   "execution_count": 10,
   "id": "violent-guess",
   "metadata": {
    "execution": {
     "iopub.execute_input": "2021-06-01T11:14:59.266762Z",
     "iopub.status.busy": "2021-06-01T11:14:59.265900Z",
     "iopub.status.idle": "2021-06-01T11:14:59.269227Z",
     "shell.execute_reply": "2021-06-01T11:14:59.268721Z",
     "shell.execute_reply.started": "2021-06-01T11:09:08.454016Z"
    },
    "papermill": {
     "duration": 0.030739,
     "end_time": "2021-06-01T11:14:59.269352",
     "exception": false,
     "start_time": "2021-06-01T11:14:59.238613",
     "status": "completed"
    },
    "tags": []
   },
   "outputs": [],
   "source": [
    "# Concatenate the Data Frames : \n",
    "X=pd.concat([X,geography,gender],axis=1)"
   ]
  },
  {
   "cell_type": "code",
   "execution_count": 11,
   "id": "potential-withdrawal",
   "metadata": {
    "execution": {
     "iopub.execute_input": "2021-06-01T11:14:59.324457Z",
     "iopub.status.busy": "2021-06-01T11:14:59.319509Z",
     "iopub.status.idle": "2021-06-01T11:14:59.328350Z",
     "shell.execute_reply": "2021-06-01T11:14:59.327861Z",
     "shell.execute_reply.started": "2021-06-01T11:09:08.469850Z"
    },
    "papermill": {
     "duration": 0.038402,
     "end_time": "2021-06-01T11:14:59.328479",
     "exception": false,
     "start_time": "2021-06-01T11:14:59.290077",
     "status": "completed"
    },
    "tags": []
   },
   "outputs": [
    {
     "data": {
      "text/html": [
       "<div>\n",
       "<style scoped>\n",
       "    .dataframe tbody tr th:only-of-type {\n",
       "        vertical-align: middle;\n",
       "    }\n",
       "\n",
       "    .dataframe tbody tr th {\n",
       "        vertical-align: top;\n",
       "    }\n",
       "\n",
       "    .dataframe thead th {\n",
       "        text-align: right;\n",
       "    }\n",
       "</style>\n",
       "<table border=\"1\" class=\"dataframe\">\n",
       "  <thead>\n",
       "    <tr style=\"text-align: right;\">\n",
       "      <th></th>\n",
       "      <th>CreditScore</th>\n",
       "      <th>Geography</th>\n",
       "      <th>Gender</th>\n",
       "      <th>Age</th>\n",
       "      <th>Tenure</th>\n",
       "      <th>Balance</th>\n",
       "      <th>NumOfProducts</th>\n",
       "      <th>HasCrCard</th>\n",
       "      <th>IsActiveMember</th>\n",
       "      <th>EstimatedSalary</th>\n",
       "      <th>Germany</th>\n",
       "      <th>Spain</th>\n",
       "      <th>Male</th>\n",
       "    </tr>\n",
       "  </thead>\n",
       "  <tbody>\n",
       "    <tr>\n",
       "      <th>0</th>\n",
       "      <td>619</td>\n",
       "      <td>France</td>\n",
       "      <td>Female</td>\n",
       "      <td>42</td>\n",
       "      <td>2</td>\n",
       "      <td>0.00</td>\n",
       "      <td>1</td>\n",
       "      <td>1</td>\n",
       "      <td>1</td>\n",
       "      <td>101348.88</td>\n",
       "      <td>0</td>\n",
       "      <td>0</td>\n",
       "      <td>0</td>\n",
       "    </tr>\n",
       "    <tr>\n",
       "      <th>1</th>\n",
       "      <td>608</td>\n",
       "      <td>Spain</td>\n",
       "      <td>Female</td>\n",
       "      <td>41</td>\n",
       "      <td>1</td>\n",
       "      <td>83807.86</td>\n",
       "      <td>1</td>\n",
       "      <td>0</td>\n",
       "      <td>1</td>\n",
       "      <td>112542.58</td>\n",
       "      <td>0</td>\n",
       "      <td>1</td>\n",
       "      <td>0</td>\n",
       "    </tr>\n",
       "    <tr>\n",
       "      <th>2</th>\n",
       "      <td>502</td>\n",
       "      <td>France</td>\n",
       "      <td>Female</td>\n",
       "      <td>42</td>\n",
       "      <td>8</td>\n",
       "      <td>159660.80</td>\n",
       "      <td>3</td>\n",
       "      <td>1</td>\n",
       "      <td>0</td>\n",
       "      <td>113931.57</td>\n",
       "      <td>0</td>\n",
       "      <td>0</td>\n",
       "      <td>0</td>\n",
       "    </tr>\n",
       "    <tr>\n",
       "      <th>3</th>\n",
       "      <td>699</td>\n",
       "      <td>France</td>\n",
       "      <td>Female</td>\n",
       "      <td>39</td>\n",
       "      <td>1</td>\n",
       "      <td>0.00</td>\n",
       "      <td>2</td>\n",
       "      <td>0</td>\n",
       "      <td>0</td>\n",
       "      <td>93826.63</td>\n",
       "      <td>0</td>\n",
       "      <td>0</td>\n",
       "      <td>0</td>\n",
       "    </tr>\n",
       "    <tr>\n",
       "      <th>4</th>\n",
       "      <td>850</td>\n",
       "      <td>Spain</td>\n",
       "      <td>Female</td>\n",
       "      <td>43</td>\n",
       "      <td>2</td>\n",
       "      <td>125510.82</td>\n",
       "      <td>1</td>\n",
       "      <td>1</td>\n",
       "      <td>1</td>\n",
       "      <td>79084.10</td>\n",
       "      <td>0</td>\n",
       "      <td>1</td>\n",
       "      <td>0</td>\n",
       "    </tr>\n",
       "  </tbody>\n",
       "</table>\n",
       "</div>"
      ],
      "text/plain": [
       "   CreditScore Geography  Gender  Age  Tenure    Balance  NumOfProducts  \\\n",
       "0          619    France  Female   42       2       0.00              1   \n",
       "1          608     Spain  Female   41       1   83807.86              1   \n",
       "2          502    France  Female   42       8  159660.80              3   \n",
       "3          699    France  Female   39       1       0.00              2   \n",
       "4          850     Spain  Female   43       2  125510.82              1   \n",
       "\n",
       "   HasCrCard  IsActiveMember  EstimatedSalary  Germany  Spain  Male  \n",
       "0          1               1        101348.88        0      0     0  \n",
       "1          0               1        112542.58        0      1     0  \n",
       "2          1               0        113931.57        0      0     0  \n",
       "3          0               0         93826.63        0      0     0  \n",
       "4          1               1         79084.10        0      1     0  "
      ]
     },
     "execution_count": 11,
     "metadata": {},
     "output_type": "execute_result"
    }
   ],
   "source": [
    "X.head()"
   ]
  },
  {
   "cell_type": "code",
   "execution_count": 12,
   "id": "modified-thesis",
   "metadata": {
    "execution": {
     "iopub.execute_input": "2021-06-01T11:14:59.373381Z",
     "iopub.status.busy": "2021-06-01T11:14:59.372788Z",
     "iopub.status.idle": "2021-06-01T11:14:59.379030Z",
     "shell.execute_reply": "2021-06-01T11:14:59.379519Z",
     "shell.execute_reply.started": "2021-06-01T11:09:08.492955Z"
    },
    "papermill": {
     "duration": 0.030251,
     "end_time": "2021-06-01T11:14:59.379747",
     "exception": false,
     "start_time": "2021-06-01T11:14:59.349496",
     "status": "completed"
    },
    "tags": []
   },
   "outputs": [],
   "source": [
    "# Drop Unnecessary columns :\n",
    "X=X.drop(['Geography','Gender'],axis=1)"
   ]
  },
  {
   "cell_type": "code",
   "execution_count": 13,
   "id": "monthly-telling",
   "metadata": {
    "execution": {
     "iopub.execute_input": "2021-06-01T11:14:59.425756Z",
     "iopub.status.busy": "2021-06-01T11:14:59.425195Z",
     "iopub.status.idle": "2021-06-01T11:14:59.436929Z",
     "shell.execute_reply": "2021-06-01T11:14:59.437487Z",
     "shell.execute_reply.started": "2021-06-01T11:09:08.509155Z"
    },
    "papermill": {
     "duration": 0.036739,
     "end_time": "2021-06-01T11:14:59.437677",
     "exception": false,
     "start_time": "2021-06-01T11:14:59.400938",
     "status": "completed"
    },
    "tags": []
   },
   "outputs": [
    {
     "data": {
      "text/html": [
       "<div>\n",
       "<style scoped>\n",
       "    .dataframe tbody tr th:only-of-type {\n",
       "        vertical-align: middle;\n",
       "    }\n",
       "\n",
       "    .dataframe tbody tr th {\n",
       "        vertical-align: top;\n",
       "    }\n",
       "\n",
       "    .dataframe thead th {\n",
       "        text-align: right;\n",
       "    }\n",
       "</style>\n",
       "<table border=\"1\" class=\"dataframe\">\n",
       "  <thead>\n",
       "    <tr style=\"text-align: right;\">\n",
       "      <th></th>\n",
       "      <th>CreditScore</th>\n",
       "      <th>Age</th>\n",
       "      <th>Tenure</th>\n",
       "      <th>Balance</th>\n",
       "      <th>NumOfProducts</th>\n",
       "      <th>HasCrCard</th>\n",
       "      <th>IsActiveMember</th>\n",
       "      <th>EstimatedSalary</th>\n",
       "      <th>Germany</th>\n",
       "      <th>Spain</th>\n",
       "      <th>Male</th>\n",
       "    </tr>\n",
       "  </thead>\n",
       "  <tbody>\n",
       "    <tr>\n",
       "      <th>0</th>\n",
       "      <td>619</td>\n",
       "      <td>42</td>\n",
       "      <td>2</td>\n",
       "      <td>0.00</td>\n",
       "      <td>1</td>\n",
       "      <td>1</td>\n",
       "      <td>1</td>\n",
       "      <td>101348.88</td>\n",
       "      <td>0</td>\n",
       "      <td>0</td>\n",
       "      <td>0</td>\n",
       "    </tr>\n",
       "    <tr>\n",
       "      <th>1</th>\n",
       "      <td>608</td>\n",
       "      <td>41</td>\n",
       "      <td>1</td>\n",
       "      <td>83807.86</td>\n",
       "      <td>1</td>\n",
       "      <td>0</td>\n",
       "      <td>1</td>\n",
       "      <td>112542.58</td>\n",
       "      <td>0</td>\n",
       "      <td>1</td>\n",
       "      <td>0</td>\n",
       "    </tr>\n",
       "    <tr>\n",
       "      <th>2</th>\n",
       "      <td>502</td>\n",
       "      <td>42</td>\n",
       "      <td>8</td>\n",
       "      <td>159660.80</td>\n",
       "      <td>3</td>\n",
       "      <td>1</td>\n",
       "      <td>0</td>\n",
       "      <td>113931.57</td>\n",
       "      <td>0</td>\n",
       "      <td>0</td>\n",
       "      <td>0</td>\n",
       "    </tr>\n",
       "    <tr>\n",
       "      <th>3</th>\n",
       "      <td>699</td>\n",
       "      <td>39</td>\n",
       "      <td>1</td>\n",
       "      <td>0.00</td>\n",
       "      <td>2</td>\n",
       "      <td>0</td>\n",
       "      <td>0</td>\n",
       "      <td>93826.63</td>\n",
       "      <td>0</td>\n",
       "      <td>0</td>\n",
       "      <td>0</td>\n",
       "    </tr>\n",
       "    <tr>\n",
       "      <th>4</th>\n",
       "      <td>850</td>\n",
       "      <td>43</td>\n",
       "      <td>2</td>\n",
       "      <td>125510.82</td>\n",
       "      <td>1</td>\n",
       "      <td>1</td>\n",
       "      <td>1</td>\n",
       "      <td>79084.10</td>\n",
       "      <td>0</td>\n",
       "      <td>1</td>\n",
       "      <td>0</td>\n",
       "    </tr>\n",
       "  </tbody>\n",
       "</table>\n",
       "</div>"
      ],
      "text/plain": [
       "   CreditScore  Age  Tenure    Balance  NumOfProducts  HasCrCard  \\\n",
       "0          619   42       2       0.00              1          1   \n",
       "1          608   41       1   83807.86              1          0   \n",
       "2          502   42       8  159660.80              3          1   \n",
       "3          699   39       1       0.00              2          0   \n",
       "4          850   43       2  125510.82              1          1   \n",
       "\n",
       "   IsActiveMember  EstimatedSalary  Germany  Spain  Male  \n",
       "0               1        101348.88        0      0     0  \n",
       "1               1        112542.58        0      1     0  \n",
       "2               0        113931.57        0      0     0  \n",
       "3               0         93826.63        0      0     0  \n",
       "4               1         79084.10        0      1     0  "
      ]
     },
     "execution_count": 13,
     "metadata": {},
     "output_type": "execute_result"
    }
   ],
   "source": [
    "X.head()"
   ]
  },
  {
   "cell_type": "markdown",
   "id": "olympic-reset",
   "metadata": {
    "papermill": {
     "duration": 0.021451,
     "end_time": "2021-06-01T11:14:59.480416",
     "exception": false,
     "start_time": "2021-06-01T11:14:59.458965",
     "status": "completed"
    },
    "tags": []
   },
   "source": [
    "# TRAIN TEST SPLIT"
   ]
  },
  {
   "cell_type": "code",
   "execution_count": 14,
   "id": "comfortable-hormone",
   "metadata": {
    "execution": {
     "iopub.execute_input": "2021-06-01T11:14:59.527173Z",
     "iopub.status.busy": "2021-06-01T11:14:59.526500Z",
     "iopub.status.idle": "2021-06-01T11:15:00.608911Z",
     "shell.execute_reply": "2021-06-01T11:15:00.609462Z",
     "shell.execute_reply.started": "2021-06-01T11:09:08.532204Z"
    },
    "papermill": {
     "duration": 1.107697,
     "end_time": "2021-06-01T11:15:00.609650",
     "exception": false,
     "start_time": "2021-06-01T11:14:59.501953",
     "status": "completed"
    },
    "tags": []
   },
   "outputs": [],
   "source": [
    "from sklearn.model_selection import train_test_split"
   ]
  },
  {
   "cell_type": "code",
   "execution_count": 15,
   "id": "finite-colleague",
   "metadata": {
    "execution": {
     "iopub.execute_input": "2021-06-01T11:15:00.659118Z",
     "iopub.status.busy": "2021-06-01T11:15:00.658107Z",
     "iopub.status.idle": "2021-06-01T11:15:00.665502Z",
     "shell.execute_reply": "2021-06-01T11:15:00.666240Z",
     "shell.execute_reply.started": "2021-06-01T11:09:08.547448Z"
    },
    "papermill": {
     "duration": 0.035286,
     "end_time": "2021-06-01T11:15:00.666456",
     "exception": false,
     "start_time": "2021-06-01T11:15:00.631170",
     "status": "completed"
    },
    "tags": []
   },
   "outputs": [],
   "source": [
    "X_train, X_test, y_train, y_test = train_test_split(X, y, test_size = 0.2, random_state = 0)"
   ]
  },
  {
   "cell_type": "markdown",
   "id": "egyptian-sweden",
   "metadata": {
    "papermill": {
     "duration": 0.022357,
     "end_time": "2021-06-01T11:15:00.710665",
     "exception": false,
     "start_time": "2021-06-01T11:15:00.688308",
     "status": "completed"
    },
    "tags": []
   },
   "source": [
    "# FEATURE SCALING"
   ]
  },
  {
   "cell_type": "code",
   "execution_count": 16,
   "id": "thrown-liberal",
   "metadata": {
    "execution": {
     "iopub.execute_input": "2021-06-01T11:15:00.758739Z",
     "iopub.status.busy": "2021-06-01T11:15:00.758098Z",
     "iopub.status.idle": "2021-06-01T11:15:00.761019Z",
     "shell.execute_reply": "2021-06-01T11:15:00.760452Z",
     "shell.execute_reply.started": "2021-06-01T11:09:08.559669Z"
    },
    "papermill": {
     "duration": 0.028903,
     "end_time": "2021-06-01T11:15:00.761161",
     "exception": false,
     "start_time": "2021-06-01T11:15:00.732258",
     "status": "completed"
    },
    "tags": []
   },
   "outputs": [],
   "source": [
    "from sklearn.preprocessing import StandardScaler"
   ]
  },
  {
   "cell_type": "code",
   "execution_count": 17,
   "id": "adjustable-blake",
   "metadata": {
    "execution": {
     "iopub.execute_input": "2021-06-01T11:15:00.810555Z",
     "iopub.status.busy": "2021-06-01T11:15:00.809941Z",
     "iopub.status.idle": "2021-06-01T11:15:00.813337Z",
     "shell.execute_reply": "2021-06-01T11:15:00.812753Z",
     "shell.execute_reply.started": "2021-06-01T11:09:08.568988Z"
    },
    "papermill": {
     "duration": 0.030603,
     "end_time": "2021-06-01T11:15:00.813488",
     "exception": false,
     "start_time": "2021-06-01T11:15:00.782885",
     "status": "completed"
    },
    "tags": []
   },
   "outputs": [],
   "source": [
    "sc = StandardScaler()"
   ]
  },
  {
   "cell_type": "code",
   "execution_count": 18,
   "id": "laughing-madagascar",
   "metadata": {
    "execution": {
     "iopub.execute_input": "2021-06-01T11:15:00.860533Z",
     "iopub.status.busy": "2021-06-01T11:15:00.859957Z",
     "iopub.status.idle": "2021-06-01T11:15:00.870733Z",
     "shell.execute_reply": "2021-06-01T11:15:00.871210Z",
     "shell.execute_reply.started": "2021-06-01T11:09:08.583153Z"
    },
    "papermill": {
     "duration": 0.035392,
     "end_time": "2021-06-01T11:15:00.871378",
     "exception": false,
     "start_time": "2021-06-01T11:15:00.835986",
     "status": "completed"
    },
    "tags": []
   },
   "outputs": [],
   "source": [
    "X_train = sc.fit_transform(X_train)"
   ]
  },
  {
   "cell_type": "code",
   "execution_count": 19,
   "id": "victorian-finder",
   "metadata": {
    "execution": {
     "iopub.execute_input": "2021-06-01T11:15:00.917217Z",
     "iopub.status.busy": "2021-06-01T11:15:00.916671Z",
     "iopub.status.idle": "2021-06-01T11:15:00.921992Z",
     "shell.execute_reply": "2021-06-01T11:15:00.922410Z",
     "shell.execute_reply.started": "2021-06-01T11:09:08.603094Z"
    },
    "papermill": {
     "duration": 0.029709,
     "end_time": "2021-06-01T11:15:00.922618",
     "exception": false,
     "start_time": "2021-06-01T11:15:00.892909",
     "status": "completed"
    },
    "tags": []
   },
   "outputs": [],
   "source": [
    "X_test = sc.transform(X_test)"
   ]
  },
  {
   "cell_type": "markdown",
   "id": "smart-mills",
   "metadata": {
    "papermill": {
     "duration": 0.021096,
     "end_time": "2021-06-01T11:15:00.965258",
     "exception": false,
     "start_time": "2021-06-01T11:15:00.944162",
     "status": "completed"
    },
    "tags": []
   },
   "source": [
    "# PERFORMING HYPERPARAMETER OPTIMIZATION"
   ]
  },
  {
   "cell_type": "code",
   "execution_count": 20,
   "id": "peaceful-priest",
   "metadata": {
    "execution": {
     "iopub.execute_input": "2021-06-01T11:15:01.013707Z",
     "iopub.status.busy": "2021-06-01T11:15:01.013098Z",
     "iopub.status.idle": "2021-06-01T11:15:06.526279Z",
     "shell.execute_reply": "2021-06-01T11:15:06.525797Z",
     "shell.execute_reply.started": "2021-06-01T11:09:08.614218Z"
    },
    "papermill": {
     "duration": 5.538055,
     "end_time": "2021-06-01T11:15:06.526416",
     "exception": false,
     "start_time": "2021-06-01T11:15:00.988361",
     "status": "completed"
    },
    "tags": []
   },
   "outputs": [],
   "source": [
    "from keras.wrappers.scikit_learn import KerasClassifier\n",
    "from sklearn.model_selection import GridSearchCV\n",
    "from keras.models import Sequential\n",
    "from keras.layers import Dense, Activation, Embedding, Flatten, LeakyReLU, BatchNormalization, Dropout\n",
    "from keras.activations import relu, sigmoid"
   ]
  },
  {
   "cell_type": "code",
   "execution_count": 21,
   "id": "breathing-april",
   "metadata": {
    "execution": {
     "iopub.execute_input": "2021-06-01T11:15:06.581396Z",
     "iopub.status.busy": "2021-06-01T11:15:06.580686Z",
     "iopub.status.idle": "2021-06-01T11:15:06.583023Z",
     "shell.execute_reply": "2021-06-01T11:15:06.583438Z",
     "shell.execute_reply.started": "2021-06-01T11:09:08.628424Z"
    },
    "papermill": {
     "duration": 0.035447,
     "end_time": "2021-06-01T11:15:06.583651",
     "exception": false,
     "start_time": "2021-06-01T11:15:06.548204",
     "status": "completed"
    },
    "tags": []
   },
   "outputs": [],
   "source": [
    "def create_model(layers, activation):\n",
    "    model = Sequential()\n",
    "    for i, nodes in enumerate(layers):\n",
    "        if i==0: \n",
    "            model.add(Dense(nodes,input_dim=X_train.shape[1]))\n",
    "            model.add(Activation(activation))\n",
    "            model.add(Dropout(0.3))\n",
    "        else:\n",
    "            model.add(Dense(nodes))\n",
    "            model.add(Activation(activation))\n",
    "            model.add(Dropout(0.3))\n",
    "            \n",
    "    model.add(Dense(units = 1, kernel_initializer= 'glorot_uniform', activation = 'sigmoid')) \n",
    "    \n",
    "    model.compile(optimizer='adam', loss='binary_crossentropy',metrics=['accuracy'])\n",
    "    return model\n",
    "model = KerasClassifier(build_fn=create_model, verbose=0)"
   ]
  },
  {
   "cell_type": "code",
   "execution_count": 22,
   "id": "collaborative-farming",
   "metadata": {
    "execution": {
     "iopub.execute_input": "2021-06-01T11:15:06.634297Z",
     "iopub.status.busy": "2021-06-01T11:15:06.633678Z",
     "iopub.status.idle": "2021-06-01T11:15:06.638154Z",
     "shell.execute_reply": "2021-06-01T11:15:06.638569Z",
     "shell.execute_reply.started": "2021-06-01T11:09:08.640475Z"
    },
    "papermill": {
     "duration": 0.030682,
     "end_time": "2021-06-01T11:15:06.638760",
     "exception": false,
     "start_time": "2021-06-01T11:15:06.608078",
     "status": "completed"
    },
    "tags": []
   },
   "outputs": [],
   "source": [
    "layers = [(20), (40, 20), (45, 30, 15)]\n",
    "activations = ['sigmoid', 'relu']\n",
    "param_grid = dict(layers=layers, activation=activations, batch_size = [128, 256], epochs=[30])\n",
    "grid = GridSearchCV(estimator=model, param_grid=param_grid,cv=5)"
   ]
  },
  {
   "cell_type": "code",
   "execution_count": 23,
   "id": "prescribed-story",
   "metadata": {
    "execution": {
     "iopub.execute_input": "2021-06-01T11:15:06.686327Z",
     "iopub.status.busy": "2021-06-01T11:15:06.685691Z",
     "iopub.status.idle": "2021-06-01T11:16:21.848528Z",
     "shell.execute_reply": "2021-06-01T11:16:21.847891Z",
     "shell.execute_reply.started": "2021-06-01T11:09:08.651199Z"
    },
    "papermill": {
     "duration": 75.187868,
     "end_time": "2021-06-01T11:16:21.848706",
     "exception": false,
     "start_time": "2021-06-01T11:15:06.660838",
     "status": "completed"
    },
    "tags": []
   },
   "outputs": [],
   "source": [
    "grid_result = grid.fit(X_train, y_train)"
   ]
  },
  {
   "cell_type": "markdown",
   "id": "subjective-stage",
   "metadata": {
    "papermill": {
     "duration": 0.022663,
     "end_time": "2021-06-01T11:16:21.893405",
     "exception": false,
     "start_time": "2021-06-01T11:16:21.870742",
     "status": "completed"
    },
    "tags": []
   },
   "source": [
    "# MODEL BEST RESULT"
   ]
  },
  {
   "cell_type": "code",
   "execution_count": 24,
   "id": "artistic-isolation",
   "metadata": {
    "execution": {
     "iopub.execute_input": "2021-06-01T11:16:21.942416Z",
     "iopub.status.busy": "2021-06-01T11:16:21.941554Z",
     "iopub.status.idle": "2021-06-01T11:16:21.944535Z",
     "shell.execute_reply": "2021-06-01T11:16:21.944961Z",
     "shell.execute_reply.started": "2021-06-01T11:10:31.023043Z"
    },
    "papermill": {
     "duration": 0.030157,
     "end_time": "2021-06-01T11:16:21.945143",
     "exception": false,
     "start_time": "2021-06-01T11:16:21.914986",
     "status": "completed"
    },
    "tags": []
   },
   "outputs": [
    {
     "data": {
      "text/plain": [
       "0.8588750004768372"
      ]
     },
     "execution_count": 24,
     "metadata": {},
     "output_type": "execute_result"
    }
   ],
   "source": [
    "grid_result.best_score_"
   ]
  },
  {
   "cell_type": "code",
   "execution_count": 25,
   "id": "appreciated-reflection",
   "metadata": {
    "execution": {
     "iopub.execute_input": "2021-06-01T11:16:21.994807Z",
     "iopub.status.busy": "2021-06-01T11:16:21.993672Z",
     "iopub.status.idle": "2021-06-01T11:16:21.998200Z",
     "shell.execute_reply": "2021-06-01T11:16:21.997729Z",
     "shell.execute_reply.started": "2021-06-01T11:10:31.030130Z"
    },
    "papermill": {
     "duration": 0.0308,
     "end_time": "2021-06-01T11:16:21.998326",
     "exception": false,
     "start_time": "2021-06-01T11:16:21.967526",
     "status": "completed"
    },
    "tags": []
   },
   "outputs": [
    {
     "data": {
      "text/plain": [
       "{'activation': 'relu', 'batch_size': 128, 'epochs': 30, 'layers': (45, 30, 15)}"
      ]
     },
     "execution_count": 25,
     "metadata": {},
     "output_type": "execute_result"
    }
   ],
   "source": [
    "grid_result.best_params_"
   ]
  },
  {
   "cell_type": "code",
   "execution_count": 26,
   "id": "respective-corps",
   "metadata": {
    "execution": {
     "iopub.execute_input": "2021-06-01T11:16:22.047840Z",
     "iopub.status.busy": "2021-06-01T11:16:22.047187Z",
     "iopub.status.idle": "2021-06-01T11:16:22.160576Z",
     "shell.execute_reply": "2021-06-01T11:16:22.161127Z",
     "shell.execute_reply.started": "2021-06-01T11:10:44.537898Z"
    },
    "papermill": {
     "duration": 0.140235,
     "end_time": "2021-06-01T11:16:22.161295",
     "exception": false,
     "start_time": "2021-06-01T11:16:22.021060",
     "status": "completed"
    },
    "tags": []
   },
   "outputs": [],
   "source": [
    "pred_y = grid.predict(X_test)"
   ]
  },
  {
   "cell_type": "code",
   "execution_count": 27,
   "id": "failing-massage",
   "metadata": {
    "execution": {
     "iopub.execute_input": "2021-06-01T11:16:22.211277Z",
     "iopub.status.busy": "2021-06-01T11:16:22.210651Z",
     "iopub.status.idle": "2021-06-01T11:16:22.213252Z",
     "shell.execute_reply": "2021-06-01T11:16:22.213757Z",
     "shell.execute_reply.started": "2021-06-01T11:10:47.217139Z"
    },
    "papermill": {
     "duration": 0.029742,
     "end_time": "2021-06-01T11:16:22.213972",
     "exception": false,
     "start_time": "2021-06-01T11:16:22.184230",
     "status": "completed"
    },
    "tags": []
   },
   "outputs": [],
   "source": [
    "y_pred = (pred_y > 0.5)"
   ]
  },
  {
   "cell_type": "code",
   "execution_count": 28,
   "id": "eight-stomach",
   "metadata": {
    "execution": {
     "iopub.execute_input": "2021-06-01T11:16:22.262370Z",
     "iopub.status.busy": "2021-06-01T11:16:22.261774Z",
     "iopub.status.idle": "2021-06-01T11:16:22.264732Z",
     "shell.execute_reply": "2021-06-01T11:16:22.264260Z",
     "shell.execute_reply.started": "2021-06-01T11:11:45.908139Z"
    },
    "papermill": {
     "duration": 0.028832,
     "end_time": "2021-06-01T11:16:22.264863",
     "exception": false,
     "start_time": "2021-06-01T11:16:22.236031",
     "status": "completed"
    },
    "tags": []
   },
   "outputs": [],
   "source": [
    "from sklearn.metrics import confusion_matrix , accuracy_score"
   ]
  },
  {
   "cell_type": "code",
   "execution_count": 29,
   "id": "terminal-samba",
   "metadata": {
    "execution": {
     "iopub.execute_input": "2021-06-01T11:16:22.314312Z",
     "iopub.status.busy": "2021-06-01T11:16:22.313728Z",
     "iopub.status.idle": "2021-06-01T11:16:22.321270Z",
     "shell.execute_reply": "2021-06-01T11:16:22.321757Z",
     "shell.execute_reply.started": "2021-06-01T11:12:27.537581Z"
    },
    "papermill": {
     "duration": 0.035103,
     "end_time": "2021-06-01T11:16:22.321991",
     "exception": false,
     "start_time": "2021-06-01T11:16:22.286888",
     "status": "completed"
    },
    "tags": []
   },
   "outputs": [],
   "source": [
    "cm = confusion_matrix(y_pred , y_test)"
   ]
  },
  {
   "cell_type": "code",
   "execution_count": 30,
   "id": "blessed-viking",
   "metadata": {
    "execution": {
     "iopub.execute_input": "2021-06-01T11:16:22.369245Z",
     "iopub.status.busy": "2021-06-01T11:16:22.368671Z",
     "iopub.status.idle": "2021-06-01T11:16:22.373976Z",
     "shell.execute_reply": "2021-06-01T11:16:22.374380Z",
     "shell.execute_reply.started": "2021-06-01T11:12:32.726662Z"
    },
    "papermill": {
     "duration": 0.030457,
     "end_time": "2021-06-01T11:16:22.374544",
     "exception": false,
     "start_time": "2021-06-01T11:16:22.344087",
     "status": "completed"
    },
    "tags": []
   },
   "outputs": [
    {
     "data": {
      "text/plain": [
       "array([[1521,  202],\n",
       "       [  74,  203]])"
      ]
     },
     "execution_count": 30,
     "metadata": {},
     "output_type": "execute_result"
    }
   ],
   "source": [
    "cm"
   ]
  },
  {
   "cell_type": "code",
   "execution_count": 31,
   "id": "numeric-allah",
   "metadata": {
    "execution": {
     "iopub.execute_input": "2021-06-01T11:16:22.424344Z",
     "iopub.status.busy": "2021-06-01T11:16:22.423438Z",
     "iopub.status.idle": "2021-06-01T11:16:22.427261Z",
     "shell.execute_reply": "2021-06-01T11:16:22.426706Z",
     "shell.execute_reply.started": "2021-06-01T11:13:05.006246Z"
    },
    "papermill": {
     "duration": 0.030204,
     "end_time": "2021-06-01T11:16:22.427397",
     "exception": false,
     "start_time": "2021-06-01T11:16:22.397193",
     "status": "completed"
    },
    "tags": []
   },
   "outputs": [],
   "source": [
    "score=accuracy_score(y_pred,y_test)"
   ]
  },
  {
   "cell_type": "code",
   "execution_count": 32,
   "id": "featured-meeting",
   "metadata": {
    "execution": {
     "iopub.execute_input": "2021-06-01T11:16:22.476462Z",
     "iopub.status.busy": "2021-06-01T11:16:22.475665Z",
     "iopub.status.idle": "2021-06-01T11:16:22.479297Z",
     "shell.execute_reply": "2021-06-01T11:16:22.479717Z",
     "shell.execute_reply.started": "2021-06-01T11:13:08.506201Z"
    },
    "papermill": {
     "duration": 0.030303,
     "end_time": "2021-06-01T11:16:22.479933",
     "exception": false,
     "start_time": "2021-06-01T11:16:22.449630",
     "status": "completed"
    },
    "tags": []
   },
   "outputs": [
    {
     "data": {
      "text/plain": [
       "0.862"
      ]
     },
     "execution_count": 32,
     "metadata": {},
     "output_type": "execute_result"
    }
   ],
   "source": [
    "score"
   ]
  }
 ],
 "metadata": {
  "kernelspec": {
   "display_name": "Python 3",
   "language": "python",
   "name": "python3"
  },
  "language_info": {
   "codemirror_mode": {
    "name": "ipython",
    "version": 3
   },
   "file_extension": ".py",
   "mimetype": "text/x-python",
   "name": "python",
   "nbconvert_exporter": "python",
   "pygments_lexer": "ipython3",
   "version": "3.7.9"
  },
  "papermill": {
   "default_parameters": {},
   "duration": 90.757969,
   "end_time": "2021-06-01T11:16:23.713972",
   "environment_variables": {},
   "exception": null,
   "input_path": "__notebook__.ipynb",
   "output_path": "__notebook__.ipynb",
   "parameters": {},
   "start_time": "2021-06-01T11:14:52.956003",
   "version": "2.3.2"
  }
 },
 "nbformat": 4,
 "nbformat_minor": 5
}
