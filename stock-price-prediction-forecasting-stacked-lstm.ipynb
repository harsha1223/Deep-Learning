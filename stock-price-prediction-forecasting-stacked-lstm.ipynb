{
 "cells": [
  {
   "cell_type": "markdown",
   "id": "hydraulic-capability",
   "metadata": {
    "papermill": {
     "duration": 0.032782,
     "end_time": "2021-06-06T18:29:31.003413",
     "exception": false,
     "start_time": "2021-06-06T18:29:30.970631",
     "status": "completed"
    },
    "tags": []
   },
   "source": [
    "# IMPORTING THE LIBRARIES"
   ]
  },
  {
   "cell_type": "code",
   "execution_count": 1,
   "id": "undefined-monthly",
   "metadata": {
    "execution": {
     "iopub.execute_input": "2021-06-06T18:29:31.071664Z",
     "iopub.status.busy": "2021-06-06T18:29:31.070998Z",
     "iopub.status.idle": "2021-06-06T18:29:36.494364Z",
     "shell.execute_reply": "2021-06-06T18:29:36.493764Z",
     "shell.execute_reply.started": "2021-06-06T18:00:37.733706Z"
    },
    "papermill": {
     "duration": 5.462265,
     "end_time": "2021-06-06T18:29:36.494531",
     "exception": false,
     "start_time": "2021-06-06T18:29:31.032266",
     "status": "completed"
    },
    "tags": []
   },
   "outputs": [],
   "source": [
    "import pandas as pd\n",
    "import numpy as np\n",
    "import matplotlib.pyplot as plt\n",
    "from sklearn.preprocessing import MinMaxScaler\n",
    "from tensorflow.keras.models import Sequential\n",
    "from tensorflow.keras.layers import Dense\n",
    "from tensorflow.keras.layers import LSTM\n",
    "import tensorflow as tf\n",
    "import math\n",
    "from sklearn.metrics import mean_squared_error"
   ]
  },
  {
   "cell_type": "markdown",
   "id": "greatest-telling",
   "metadata": {
    "papermill": {
     "duration": 0.02957,
     "end_time": "2021-06-06T18:29:36.553500",
     "exception": false,
     "start_time": "2021-06-06T18:29:36.523930",
     "status": "completed"
    },
    "tags": []
   },
   "source": [
    "# IMPORTING THE DATASET"
   ]
  },
  {
   "cell_type": "code",
   "execution_count": 2,
   "id": "significant-choice",
   "metadata": {
    "execution": {
     "iopub.execute_input": "2021-06-06T18:29:36.620474Z",
     "iopub.status.busy": "2021-06-06T18:29:36.619962Z",
     "iopub.status.idle": "2021-06-06T18:29:36.636645Z",
     "shell.execute_reply": "2021-06-06T18:29:36.636212Z",
     "shell.execute_reply.started": "2021-06-06T18:00:43.636500Z"
    },
    "papermill": {
     "duration": 0.0548,
     "end_time": "2021-06-06T18:29:36.636756",
     "exception": false,
     "start_time": "2021-06-06T18:29:36.581956",
     "status": "completed"
    },
    "tags": []
   },
   "outputs": [],
   "source": [
    "data = pd.read_csv('../input/stock-dataset/Stock.csv')"
   ]
  },
  {
   "cell_type": "code",
   "execution_count": 3,
   "id": "interesting-chapter",
   "metadata": {
    "execution": {
     "iopub.execute_input": "2021-06-06T18:29:36.713057Z",
     "iopub.status.busy": "2021-06-06T18:29:36.712294Z",
     "iopub.status.idle": "2021-06-06T18:29:36.723871Z",
     "shell.execute_reply": "2021-06-06T18:29:36.724276Z",
     "shell.execute_reply.started": "2021-06-06T18:00:43.665194Z"
    },
    "papermill": {
     "duration": 0.059013,
     "end_time": "2021-06-06T18:29:36.724398",
     "exception": false,
     "start_time": "2021-06-06T18:29:36.665385",
     "status": "completed"
    },
    "tags": []
   },
   "outputs": [
    {
     "data": {
      "text/html": [
       "<div>\n",
       "<style scoped>\n",
       "    .dataframe tbody tr th:only-of-type {\n",
       "        vertical-align: middle;\n",
       "    }\n",
       "\n",
       "    .dataframe tbody tr th {\n",
       "        vertical-align: top;\n",
       "    }\n",
       "\n",
       "    .dataframe thead th {\n",
       "        text-align: right;\n",
       "    }\n",
       "</style>\n",
       "<table border=\"1\" class=\"dataframe\">\n",
       "  <thead>\n",
       "    <tr style=\"text-align: right;\">\n",
       "      <th></th>\n",
       "      <th>Unnamed: 0</th>\n",
       "      <th>symbol</th>\n",
       "      <th>date</th>\n",
       "      <th>close</th>\n",
       "      <th>high</th>\n",
       "      <th>low</th>\n",
       "      <th>open</th>\n",
       "      <th>volume</th>\n",
       "      <th>adjClose</th>\n",
       "      <th>adjHigh</th>\n",
       "      <th>adjLow</th>\n",
       "      <th>adjOpen</th>\n",
       "      <th>adjVolume</th>\n",
       "      <th>divCash</th>\n",
       "      <th>splitFactor</th>\n",
       "    </tr>\n",
       "  </thead>\n",
       "  <tbody>\n",
       "    <tr>\n",
       "      <th>0</th>\n",
       "      <td>0</td>\n",
       "      <td>AAPL</td>\n",
       "      <td>2015-05-27 00:00:00+00:00</td>\n",
       "      <td>132.045</td>\n",
       "      <td>132.260</td>\n",
       "      <td>130.05</td>\n",
       "      <td>130.34</td>\n",
       "      <td>45833246</td>\n",
       "      <td>121.682558</td>\n",
       "      <td>121.880685</td>\n",
       "      <td>119.844118</td>\n",
       "      <td>120.111360</td>\n",
       "      <td>45833246</td>\n",
       "      <td>0.0</td>\n",
       "      <td>1.0</td>\n",
       "    </tr>\n",
       "    <tr>\n",
       "      <th>1</th>\n",
       "      <td>1</td>\n",
       "      <td>AAPL</td>\n",
       "      <td>2015-05-28 00:00:00+00:00</td>\n",
       "      <td>131.780</td>\n",
       "      <td>131.950</td>\n",
       "      <td>131.10</td>\n",
       "      <td>131.86</td>\n",
       "      <td>30733309</td>\n",
       "      <td>121.438354</td>\n",
       "      <td>121.595013</td>\n",
       "      <td>120.811718</td>\n",
       "      <td>121.512076</td>\n",
       "      <td>30733309</td>\n",
       "      <td>0.0</td>\n",
       "      <td>1.0</td>\n",
       "    </tr>\n",
       "    <tr>\n",
       "      <th>2</th>\n",
       "      <td>2</td>\n",
       "      <td>AAPL</td>\n",
       "      <td>2015-05-29 00:00:00+00:00</td>\n",
       "      <td>130.280</td>\n",
       "      <td>131.450</td>\n",
       "      <td>129.90</td>\n",
       "      <td>131.23</td>\n",
       "      <td>50884452</td>\n",
       "      <td>120.056069</td>\n",
       "      <td>121.134251</td>\n",
       "      <td>119.705890</td>\n",
       "      <td>120.931516</td>\n",
       "      <td>50884452</td>\n",
       "      <td>0.0</td>\n",
       "      <td>1.0</td>\n",
       "    </tr>\n",
       "    <tr>\n",
       "      <th>3</th>\n",
       "      <td>3</td>\n",
       "      <td>AAPL</td>\n",
       "      <td>2015-06-01 00:00:00+00:00</td>\n",
       "      <td>130.535</td>\n",
       "      <td>131.390</td>\n",
       "      <td>130.05</td>\n",
       "      <td>131.20</td>\n",
       "      <td>32112797</td>\n",
       "      <td>120.291057</td>\n",
       "      <td>121.078960</td>\n",
       "      <td>119.844118</td>\n",
       "      <td>120.903870</td>\n",
       "      <td>32112797</td>\n",
       "      <td>0.0</td>\n",
       "      <td>1.0</td>\n",
       "    </tr>\n",
       "    <tr>\n",
       "      <th>4</th>\n",
       "      <td>4</td>\n",
       "      <td>AAPL</td>\n",
       "      <td>2015-06-02 00:00:00+00:00</td>\n",
       "      <td>129.960</td>\n",
       "      <td>130.655</td>\n",
       "      <td>129.32</td>\n",
       "      <td>129.86</td>\n",
       "      <td>33667627</td>\n",
       "      <td>119.761181</td>\n",
       "      <td>120.401640</td>\n",
       "      <td>119.171406</td>\n",
       "      <td>119.669029</td>\n",
       "      <td>33667627</td>\n",
       "      <td>0.0</td>\n",
       "      <td>1.0</td>\n",
       "    </tr>\n",
       "  </tbody>\n",
       "</table>\n",
       "</div>"
      ],
      "text/plain": [
       "   Unnamed: 0 symbol                       date    close     high     low  \\\n",
       "0           0   AAPL  2015-05-27 00:00:00+00:00  132.045  132.260  130.05   \n",
       "1           1   AAPL  2015-05-28 00:00:00+00:00  131.780  131.950  131.10   \n",
       "2           2   AAPL  2015-05-29 00:00:00+00:00  130.280  131.450  129.90   \n",
       "3           3   AAPL  2015-06-01 00:00:00+00:00  130.535  131.390  130.05   \n",
       "4           4   AAPL  2015-06-02 00:00:00+00:00  129.960  130.655  129.32   \n",
       "\n",
       "     open    volume    adjClose     adjHigh      adjLow     adjOpen  \\\n",
       "0  130.34  45833246  121.682558  121.880685  119.844118  120.111360   \n",
       "1  131.86  30733309  121.438354  121.595013  120.811718  121.512076   \n",
       "2  131.23  50884452  120.056069  121.134251  119.705890  120.931516   \n",
       "3  131.20  32112797  120.291057  121.078960  119.844118  120.903870   \n",
       "4  129.86  33667627  119.761181  120.401640  119.171406  119.669029   \n",
       "\n",
       "   adjVolume  divCash  splitFactor  \n",
       "0   45833246      0.0          1.0  \n",
       "1   30733309      0.0          1.0  \n",
       "2   50884452      0.0          1.0  \n",
       "3   32112797      0.0          1.0  \n",
       "4   33667627      0.0          1.0  "
      ]
     },
     "execution_count": 3,
     "metadata": {},
     "output_type": "execute_result"
    }
   ],
   "source": [
    "data.head()"
   ]
  },
  {
   "cell_type": "code",
   "execution_count": 4,
   "id": "developing-profit",
   "metadata": {
    "execution": {
     "iopub.execute_input": "2021-06-06T18:29:36.789189Z",
     "iopub.status.busy": "2021-06-06T18:29:36.788717Z",
     "iopub.status.idle": "2021-06-06T18:29:36.792062Z",
     "shell.execute_reply": "2021-06-06T18:29:36.792436Z",
     "shell.execute_reply.started": "2021-06-06T18:00:43.711999Z"
    },
    "papermill": {
     "duration": 0.038052,
     "end_time": "2021-06-06T18:29:36.792575",
     "exception": false,
     "start_time": "2021-06-06T18:29:36.754523",
     "status": "completed"
    },
    "tags": []
   },
   "outputs": [],
   "source": [
    "data1 = data.reset_index()['close']"
   ]
  },
  {
   "cell_type": "code",
   "execution_count": 5,
   "id": "illegal-difficulty",
   "metadata": {
    "execution": {
     "iopub.execute_input": "2021-06-06T18:29:36.856489Z",
     "iopub.status.busy": "2021-06-06T18:29:36.855857Z",
     "iopub.status.idle": "2021-06-06T18:29:36.858939Z",
     "shell.execute_reply": "2021-06-06T18:29:36.859370Z",
     "shell.execute_reply.started": "2021-06-06T18:00:43.727064Z"
    },
    "papermill": {
     "duration": 0.038067,
     "end_time": "2021-06-06T18:29:36.859492",
     "exception": false,
     "start_time": "2021-06-06T18:29:36.821425",
     "status": "completed"
    },
    "tags": []
   },
   "outputs": [
    {
     "data": {
      "text/plain": [
       "0       132.045\n",
       "1       131.780\n",
       "2       130.280\n",
       "3       130.535\n",
       "4       129.960\n",
       "         ...   \n",
       "1253    314.960\n",
       "1254    313.140\n",
       "1255    319.230\n",
       "1256    316.850\n",
       "1257    318.890\n",
       "Name: close, Length: 1258, dtype: float64"
      ]
     },
     "execution_count": 5,
     "metadata": {},
     "output_type": "execute_result"
    }
   ],
   "source": [
    "data1"
   ]
  },
  {
   "cell_type": "code",
   "execution_count": 6,
   "id": "bibliographic-carpet",
   "metadata": {
    "execution": {
     "iopub.execute_input": "2021-06-06T18:29:36.922289Z",
     "iopub.status.busy": "2021-06-06T18:29:36.921478Z",
     "iopub.status.idle": "2021-06-06T18:29:36.925458Z",
     "shell.execute_reply": "2021-06-06T18:29:36.925053Z",
     "shell.execute_reply.started": "2021-06-06T18:00:43.739893Z"
    },
    "papermill": {
     "duration": 0.036635,
     "end_time": "2021-06-06T18:29:36.925561",
     "exception": false,
     "start_time": "2021-06-06T18:29:36.888926",
     "status": "completed"
    },
    "tags": []
   },
   "outputs": [
    {
     "data": {
      "text/plain": [
       "(1258,)"
      ]
     },
     "execution_count": 6,
     "metadata": {},
     "output_type": "execute_result"
    }
   ],
   "source": [
    "data1.shape"
   ]
  },
  {
   "cell_type": "code",
   "execution_count": 7,
   "id": "ahead-potato",
   "metadata": {
    "execution": {
     "iopub.execute_input": "2021-06-06T18:29:37.000724Z",
     "iopub.status.busy": "2021-06-06T18:29:37.000162Z",
     "iopub.status.idle": "2021-06-06T18:29:37.116867Z",
     "shell.execute_reply": "2021-06-06T18:29:37.117230Z",
     "shell.execute_reply.started": "2021-06-06T18:00:43.750297Z"
    },
    "papermill": {
     "duration": 0.162181,
     "end_time": "2021-06-06T18:29:37.117371",
     "exception": false,
     "start_time": "2021-06-06T18:29:36.955190",
     "status": "completed"
    },
    "tags": []
   },
   "outputs": [
    {
     "data": {
      "text/plain": [
       "[<matplotlib.lines.Line2D at 0x7f800e325b10>]"
      ]
     },
     "execution_count": 7,
     "metadata": {},
     "output_type": "execute_result"
    },
    {
     "data": {
      "image/png": "[encoded data removed]",
      "text/plain": [
       "<Figure size 432x288 with 1 Axes>"
      ]
     },
     "metadata": {
      "needs_background": "light"
     },
     "output_type": "display_data"
    }
   ],
   "source": [
    "plt.plot(data1 , color = \"purple\")"
   ]
  },
  {
   "cell_type": "code",
   "execution_count": 8,
   "id": "legislative-cambridge",
   "metadata": {
    "execution": {
     "iopub.execute_input": "2021-06-06T18:29:37.181852Z",
     "iopub.status.busy": "2021-06-06T18:29:37.181149Z",
     "iopub.status.idle": "2021-06-06T18:29:37.183908Z",
     "shell.execute_reply": "2021-06-06T18:29:37.183433Z",
     "shell.execute_reply.started": "2021-06-06T18:00:43.919387Z"
    },
    "papermill": {
     "duration": 0.036089,
     "end_time": "2021-06-06T18:29:37.184005",
     "exception": false,
     "start_time": "2021-06-06T18:29:37.147916",
     "status": "completed"
    },
    "tags": []
   },
   "outputs": [],
   "source": [
    "scaler = MinMaxScaler(feature_range=(0,1))"
   ]
  },
  {
   "cell_type": "code",
   "execution_count": 9,
   "id": "bearing-marks",
   "metadata": {
    "execution": {
     "iopub.execute_input": "2021-06-06T18:29:37.250807Z",
     "iopub.status.busy": "2021-06-06T18:29:37.250089Z",
     "iopub.status.idle": "2021-06-06T18:29:37.252334Z",
     "shell.execute_reply": "2021-06-06T18:29:37.252780Z",
     "shell.execute_reply.started": "2021-06-06T18:00:43.926628Z"
    },
    "papermill": {
     "duration": 0.038391,
     "end_time": "2021-06-06T18:29:37.252892",
     "exception": false,
     "start_time": "2021-06-06T18:29:37.214501",
     "status": "completed"
    },
    "tags": []
   },
   "outputs": [],
   "source": [
    "data1 = scaler.fit_transform(np.array(data1).reshape(-1,1))"
   ]
  },
  {
   "cell_type": "code",
   "execution_count": 10,
   "id": "curious-frost",
   "metadata": {
    "execution": {
     "iopub.execute_input": "2021-06-06T18:29:37.317459Z",
     "iopub.status.busy": "2021-06-06T18:29:37.316716Z",
     "iopub.status.idle": "2021-06-06T18:29:37.319831Z",
     "shell.execute_reply": "2021-06-06T18:29:37.320334Z",
     "shell.execute_reply.started": "2021-06-06T18:00:43.937216Z"
    },
    "papermill": {
     "duration": 0.037462,
     "end_time": "2021-06-06T18:29:37.320464",
     "exception": false,
     "start_time": "2021-06-06T18:29:37.283002",
     "status": "completed"
    },
    "tags": []
   },
   "outputs": [
    {
     "data": {
      "text/plain": [
       "array([[0.17607447],\n",
       "       [0.17495567],\n",
       "       [0.16862282],\n",
       "       ...,\n",
       "       [0.96635143],\n",
       "       [0.9563033 ],\n",
       "       [0.96491598]])"
      ]
     },
     "execution_count": 10,
     "metadata": {},
     "output_type": "execute_result"
    }
   ],
   "source": [
    "data1"
   ]
  },
  {
   "cell_type": "code",
   "execution_count": 11,
   "id": "square-credit",
   "metadata": {
    "execution": {
     "iopub.execute_input": "2021-06-06T18:29:37.386165Z",
     "iopub.status.busy": "2021-06-06T18:29:37.385486Z",
     "iopub.status.idle": "2021-06-06T18:29:37.387804Z",
     "shell.execute_reply": "2021-06-06T18:29:37.388169Z",
     "shell.execute_reply.started": "2021-06-06T18:00:43.949242Z"
    },
    "papermill": {
     "duration": 0.036532,
     "end_time": "2021-06-06T18:29:37.388321",
     "exception": false,
     "start_time": "2021-06-06T18:29:37.351789",
     "status": "completed"
    },
    "tags": []
   },
   "outputs": [],
   "source": [
    "# splitting the dataset into train and test split : \n",
    "training_size = int(len(data1)*0.65)"
   ]
  },
  {
   "cell_type": "code",
   "execution_count": 12,
   "id": "worldwide-coordination",
   "metadata": {
    "execution": {
     "iopub.execute_input": "2021-06-06T18:29:37.453567Z",
     "iopub.status.busy": "2021-06-06T18:29:37.452870Z",
     "iopub.status.idle": "2021-06-06T18:29:37.455485Z",
     "shell.execute_reply": "2021-06-06T18:29:37.454979Z",
     "shell.execute_reply.started": "2021-06-06T18:00:43.958404Z"
    },
    "papermill": {
     "duration": 0.036373,
     "end_time": "2021-06-06T18:29:37.455585",
     "exception": false,
     "start_time": "2021-06-06T18:29:37.419212",
     "status": "completed"
    },
    "tags": []
   },
   "outputs": [],
   "source": [
    "test_size = len(data1) - training_size"
   ]
  },
  {
   "cell_type": "code",
   "execution_count": 13,
   "id": "racial-penetration",
   "metadata": {
    "execution": {
     "iopub.execute_input": "2021-06-06T18:29:37.521619Z",
     "iopub.status.busy": "2021-06-06T18:29:37.520427Z",
     "iopub.status.idle": "2021-06-06T18:29:37.523082Z",
     "shell.execute_reply": "2021-06-06T18:29:37.522702Z",
     "shell.execute_reply.started": "2021-06-06T18:00:43.968226Z"
    },
    "papermill": {
     "duration": 0.036981,
     "end_time": "2021-06-06T18:29:37.523182",
     "exception": false,
     "start_time": "2021-06-06T18:29:37.486201",
     "status": "completed"
    },
    "tags": []
   },
   "outputs": [],
   "source": [
    "train_data,test_data = data1[0:training_size,:],data1[training_size:len(data1),:1]"
   ]
  },
  {
   "cell_type": "code",
   "execution_count": 14,
   "id": "social-paradise",
   "metadata": {
    "execution": {
     "iopub.execute_input": "2021-06-06T18:29:37.588100Z",
     "iopub.status.busy": "2021-06-06T18:29:37.587621Z",
     "iopub.status.idle": "2021-06-06T18:29:37.592882Z",
     "shell.execute_reply": "2021-06-06T18:29:37.592431Z",
     "shell.execute_reply.started": "2021-06-06T18:00:43.977974Z"
    },
    "papermill": {
     "duration": 0.038711,
     "end_time": "2021-06-06T18:29:37.592988",
     "exception": false,
     "start_time": "2021-06-06T18:29:37.554277",
     "status": "completed"
    },
    "tags": []
   },
   "outputs": [
    {
     "data": {
      "text/plain": [
       "817"
      ]
     },
     "execution_count": 14,
     "metadata": {},
     "output_type": "execute_result"
    }
   ],
   "source": [
    "len(train_data)"
   ]
  },
  {
   "cell_type": "code",
   "execution_count": 15,
   "id": "confidential-senator",
   "metadata": {
    "execution": {
     "iopub.execute_input": "2021-06-06T18:29:37.658379Z",
     "iopub.status.busy": "2021-06-06T18:29:37.657785Z",
     "iopub.status.idle": "2021-06-06T18:29:37.663020Z",
     "shell.execute_reply": "2021-06-06T18:29:37.662632Z",
     "shell.execute_reply.started": "2021-06-06T18:00:43.990420Z"
    },
    "papermill": {
     "duration": 0.03914,
     "end_time": "2021-06-06T18:29:37.663122",
     "exception": false,
     "start_time": "2021-06-06T18:29:37.623982",
     "status": "completed"
    },
    "tags": []
   },
   "outputs": [
    {
     "data": {
      "text/plain": [
       "441"
      ]
     },
     "execution_count": 15,
     "metadata": {},
     "output_type": "execute_result"
    }
   ],
   "source": [
    "len(test_data)"
   ]
  },
  {
   "cell_type": "code",
   "execution_count": 16,
   "id": "exact-damages",
   "metadata": {
    "execution": {
     "iopub.execute_input": "2021-06-06T18:29:37.730047Z",
     "iopub.status.busy": "2021-06-06T18:29:37.729570Z",
     "iopub.status.idle": "2021-06-06T18:29:37.733169Z",
     "shell.execute_reply": "2021-06-06T18:29:37.732778Z",
     "shell.execute_reply.started": "2021-06-06T18:00:44.003183Z"
    },
    "papermill": {
     "duration": 0.039016,
     "end_time": "2021-06-06T18:29:37.733286",
     "exception": false,
     "start_time": "2021-06-06T18:29:37.694270",
     "status": "completed"
    },
    "tags": []
   },
   "outputs": [],
   "source": [
    "# converting the array values into a dataset matrix : \n",
    "def create_dataset(dataset, time_step = 1):\n",
    "    dataX , dataY = [], []\n",
    "    for i in range(len(dataset) - time_step - 1 ):\n",
    "        a = dataset[i:(i + time_step), 0]  \n",
    "        dataX.append(a)\n",
    "        dataY.append(dataset[i + time_step, 0])\n",
    "    return np.array(dataX), np.array(dataY)"
   ]
  },
  {
   "cell_type": "code",
   "execution_count": 17,
   "id": "manual-rescue",
   "metadata": {
    "execution": {
     "iopub.execute_input": "2021-06-06T18:29:37.799030Z",
     "iopub.status.busy": "2021-06-06T18:29:37.798557Z",
     "iopub.status.idle": "2021-06-06T18:29:37.802253Z",
     "shell.execute_reply": "2021-06-06T18:29:37.801831Z",
     "shell.execute_reply.started": "2021-06-06T18:00:44.014457Z"
    },
    "papermill": {
     "duration": 0.037631,
     "end_time": "2021-06-06T18:29:37.802356",
     "exception": false,
     "start_time": "2021-06-06T18:29:37.764725",
     "status": "completed"
    },
    "tags": []
   },
   "outputs": [],
   "source": [
    "time_step = 100"
   ]
  },
  {
   "cell_type": "code",
   "execution_count": 18,
   "id": "terminal-liver",
   "metadata": {
    "execution": {
     "iopub.execute_input": "2021-06-06T18:29:37.869119Z",
     "iopub.status.busy": "2021-06-06T18:29:37.868364Z",
     "iopub.status.idle": "2021-06-06T18:29:37.872412Z",
     "shell.execute_reply": "2021-06-06T18:29:37.872787Z",
     "shell.execute_reply.started": "2021-06-06T18:00:44.023625Z"
    },
    "papermill": {
     "duration": 0.039433,
     "end_time": "2021-06-06T18:29:37.872903",
     "exception": false,
     "start_time": "2021-06-06T18:29:37.833470",
     "status": "completed"
    },
    "tags": []
   },
   "outputs": [],
   "source": [
    "X_train, y_train = create_dataset(train_data, time_step)\n",
    "\n",
    "X_test, y_test = create_dataset(test_data, time_step)"
   ]
  },
  {
   "cell_type": "code",
   "execution_count": 19,
   "id": "responsible-essence",
   "metadata": {
    "execution": {
     "iopub.execute_input": "2021-06-06T18:29:37.938805Z",
     "iopub.status.busy": "2021-06-06T18:29:37.938080Z",
     "iopub.status.idle": "2021-06-06T18:29:37.941584Z",
     "shell.execute_reply": "2021-06-06T18:29:37.941177Z",
     "shell.execute_reply.started": "2021-06-06T18:00:44.039111Z"
    },
    "papermill": {
     "duration": 0.037641,
     "end_time": "2021-06-06T18:29:37.941686",
     "exception": false,
     "start_time": "2021-06-06T18:29:37.904045",
     "status": "completed"
    },
    "tags": []
   },
   "outputs": [
    {
     "data": {
      "text/plain": [
       "(716, 100)"
      ]
     },
     "execution_count": 19,
     "metadata": {},
     "output_type": "execute_result"
    }
   ],
   "source": [
    "X_train.shape"
   ]
  },
  {
   "cell_type": "code",
   "execution_count": 20,
   "id": "alpha-fairy",
   "metadata": {
    "execution": {
     "iopub.execute_input": "2021-06-06T18:29:38.008411Z",
     "iopub.status.busy": "2021-06-06T18:29:38.007674Z",
     "iopub.status.idle": "2021-06-06T18:29:38.011103Z",
     "shell.execute_reply": "2021-06-06T18:29:38.010623Z",
     "shell.execute_reply.started": "2021-06-06T18:00:44.049399Z"
    },
    "papermill": {
     "duration": 0.038197,
     "end_time": "2021-06-06T18:29:38.011199",
     "exception": false,
     "start_time": "2021-06-06T18:29:37.973002",
     "status": "completed"
    },
    "tags": []
   },
   "outputs": [
    {
     "data": {
      "text/plain": [
       "(716,)"
      ]
     },
     "execution_count": 20,
     "metadata": {},
     "output_type": "execute_result"
    }
   ],
   "source": [
    "y_train.shape"
   ]
  },
  {
   "cell_type": "code",
   "execution_count": 21,
   "id": "otherwise-hygiene",
   "metadata": {
    "execution": {
     "iopub.execute_input": "2021-06-06T18:29:38.078484Z",
     "iopub.status.busy": "2021-06-06T18:29:38.077574Z",
     "iopub.status.idle": "2021-06-06T18:29:38.081048Z",
     "shell.execute_reply": "2021-06-06T18:29:38.081469Z",
     "shell.execute_reply.started": "2021-06-06T18:00:44.059850Z"
    },
    "papermill": {
     "duration": 0.038687,
     "end_time": "2021-06-06T18:29:38.081584",
     "exception": false,
     "start_time": "2021-06-06T18:29:38.042897",
     "status": "completed"
    },
    "tags": []
   },
   "outputs": [
    {
     "data": {
      "text/plain": [
       "(340, 100)"
      ]
     },
     "execution_count": 21,
     "metadata": {},
     "output_type": "execute_result"
    }
   ],
   "source": [
    "X_test.shape"
   ]
  },
  {
   "cell_type": "code",
   "execution_count": 22,
   "id": "viral-folks",
   "metadata": {
    "execution": {
     "iopub.execute_input": "2021-06-06T18:29:38.149536Z",
     "iopub.status.busy": "2021-06-06T18:29:38.148813Z",
     "iopub.status.idle": "2021-06-06T18:29:38.151833Z",
     "shell.execute_reply": "2021-06-06T18:29:38.152273Z",
     "shell.execute_reply.started": "2021-06-06T18:00:44.071520Z"
    },
    "papermill": {
     "duration": 0.038404,
     "end_time": "2021-06-06T18:29:38.152386",
     "exception": false,
     "start_time": "2021-06-06T18:29:38.113982",
     "status": "completed"
    },
    "tags": []
   },
   "outputs": [
    {
     "data": {
      "text/plain": [
       "(340,)"
      ]
     },
     "execution_count": 22,
     "metadata": {},
     "output_type": "execute_result"
    }
   ],
   "source": [
    "y_test.shape"
   ]
  },
  {
   "cell_type": "code",
   "execution_count": 23,
   "id": "optimum-campaign",
   "metadata": {
    "execution": {
     "iopub.execute_input": "2021-06-06T18:29:38.220373Z",
     "iopub.status.busy": "2021-06-06T18:29:38.219704Z",
     "iopub.status.idle": "2021-06-06T18:29:38.221928Z",
     "shell.execute_reply": "2021-06-06T18:29:38.222427Z",
     "shell.execute_reply.started": "2021-06-06T18:00:44.080390Z"
    },
    "papermill": {
     "duration": 0.038083,
     "end_time": "2021-06-06T18:29:38.222581",
     "exception": false,
     "start_time": "2021-06-06T18:29:38.184498",
     "status": "completed"
    },
    "tags": []
   },
   "outputs": [],
   "source": [
    "# reshape the input to be in [samples, time steps, features] which is required for LSTM\n",
    "X_train = X_train.reshape(X_train.shape[0],X_train.shape[1] , 1)"
   ]
  },
  {
   "cell_type": "code",
   "execution_count": 24,
   "id": "sophisticated-luther",
   "metadata": {
    "execution": {
     "iopub.execute_input": "2021-06-06T18:29:38.292345Z",
     "iopub.status.busy": "2021-06-06T18:29:38.291654Z",
     "iopub.status.idle": "2021-06-06T18:29:38.294256Z",
     "shell.execute_reply": "2021-06-06T18:29:38.293834Z",
     "shell.execute_reply.started": "2021-06-06T18:00:44.088683Z"
    },
    "papermill": {
     "duration": 0.038007,
     "end_time": "2021-06-06T18:29:38.294354",
     "exception": false,
     "start_time": "2021-06-06T18:29:38.256347",
     "status": "completed"
    },
    "tags": []
   },
   "outputs": [],
   "source": [
    "X_test = X_test.reshape(X_test.shape[0],X_test.shape[1] , 1)"
   ]
  },
  {
   "cell_type": "markdown",
   "id": "experimental-stupid",
   "metadata": {
    "papermill": {
     "duration": 0.032005,
     "end_time": "2021-06-06T18:29:38.358777",
     "exception": false,
     "start_time": "2021-06-06T18:29:38.326772",
     "status": "completed"
    },
    "tags": []
   },
   "source": [
    "# CREATING THE STACKED LSTM MODEL"
   ]
  },
  {
   "cell_type": "code",
   "execution_count": 25,
   "id": "swiss-farming",
   "metadata": {
    "execution": {
     "iopub.execute_input": "2021-06-06T18:29:38.426328Z",
     "iopub.status.busy": "2021-06-06T18:29:38.425832Z",
     "iopub.status.idle": "2021-06-06T18:29:40.379571Z",
     "shell.execute_reply": "2021-06-06T18:29:40.379018Z",
     "shell.execute_reply.started": "2021-06-06T18:00:44.099742Z"
    },
    "papermill": {
     "duration": 1.988618,
     "end_time": "2021-06-06T18:29:40.379712",
     "exception": false,
     "start_time": "2021-06-06T18:29:38.391094",
     "status": "completed"
    },
    "tags": []
   },
   "outputs": [],
   "source": [
    "model=Sequential()"
   ]
  },
  {
   "cell_type": "code",
   "execution_count": 26,
   "id": "headed-springfield",
   "metadata": {
    "execution": {
     "iopub.execute_input": "2021-06-06T18:29:40.458705Z",
     "iopub.status.busy": "2021-06-06T18:29:40.457919Z",
     "iopub.status.idle": "2021-06-06T18:29:41.232107Z",
     "shell.execute_reply": "2021-06-06T18:29:41.231566Z",
     "shell.execute_reply.started": "2021-06-06T18:00:46.588103Z"
    },
    "papermill": {
     "duration": 0.819625,
     "end_time": "2021-06-06T18:29:41.232234",
     "exception": false,
     "start_time": "2021-06-06T18:29:40.412609",
     "status": "completed"
    },
    "tags": []
   },
   "outputs": [],
   "source": [
    "model.add(LSTM(50,return_sequences = True,input_shape = (100,1)))\n",
    "model.add(LSTM(50,return_sequences = True))\n",
    "model.add(LSTM(50))\n",
    "model.add(Dense(1))\n",
    "model.compile(loss='mean_squared_error', optimizer = 'adam')"
   ]
  },
  {
   "cell_type": "code",
   "execution_count": 27,
   "id": "informational-gabriel",
   "metadata": {
    "execution": {
     "iopub.execute_input": "2021-06-06T18:29:41.303396Z",
     "iopub.status.busy": "2021-06-06T18:29:41.302565Z",
     "iopub.status.idle": "2021-06-06T18:29:41.306951Z",
     "shell.execute_reply": "2021-06-06T18:29:41.307637Z",
     "shell.execute_reply.started": "2021-06-06T18:00:47.517883Z"
    },
    "papermill": {
     "duration": 0.042968,
     "end_time": "2021-06-06T18:29:41.307807",
     "exception": false,
     "start_time": "2021-06-06T18:29:41.264839",
     "status": "completed"
    },
    "tags": []
   },
   "outputs": [
    {
     "name": "stdout",
     "output_type": "stream",
     "text": [
      "Model: \"sequential\"\n",
      "_________________________________________________________________\n",
      "Layer (type)                 Output Shape              Param #   \n",
      "=================================================================\n",
      "lstm (LSTM)                  (None, 100, 50)           10400     \n",
      "_________________________________________________________________\n",
      "lstm_1 (LSTM)                (None, 100, 50)           20200     \n",
      "_________________________________________________________________\n",
      "lstm_2 (LSTM)                (None, 50)                20200     \n",
      "_________________________________________________________________\n",
      "dense (Dense)                (None, 1)                 51        \n",
      "=================================================================\n",
      "Total params: 50,851\n",
      "Trainable params: 50,851\n",
      "Non-trainable params: 0\n",
      "_________________________________________________________________\n"
     ]
    }
   ],
   "source": [
    "model.summary()"
   ]
  },
  {
   "cell_type": "code",
   "execution_count": 28,
   "id": "tough-israeli",
   "metadata": {
    "execution": {
     "iopub.execute_input": "2021-06-06T18:29:41.377750Z",
     "iopub.status.busy": "2021-06-06T18:29:41.377130Z",
     "iopub.status.idle": "2021-06-06T18:30:12.216160Z",
     "shell.execute_reply": "2021-06-06T18:30:12.215746Z",
     "shell.execute_reply.started": "2021-06-06T18:00:47.530606Z"
    },
    "papermill": {
     "duration": 30.875057,
     "end_time": "2021-06-06T18:30:12.216326",
     "exception": false,
     "start_time": "2021-06-06T18:29:41.341269",
     "status": "completed"
    },
    "scrolled": true,
    "tags": []
   },
   "outputs": [
    {
     "name": "stdout",
     "output_type": "stream",
     "text": [
      "Epoch 1/100\n",
      "12/12 [==============================] - 7s 128ms/step - loss: 0.0211 - val_loss: 0.0659\n",
      "Epoch 2/100\n",
      "12/12 [==============================] - 0s 20ms/step - loss: 0.0050 - val_loss: 0.0045\n",
      "Epoch 3/100\n",
      "12/12 [==============================] - 0s 20ms/step - loss: 8.5246e-04 - val_loss: 0.0079\n",
      "Epoch 4/100\n",
      "12/12 [==============================] - 0s 20ms/step - loss: 8.4196e-04 - val_loss: 0.0035\n",
      "Epoch 5/100\n",
      "12/12 [==============================] - 0s 20ms/step - loss: 5.6599e-04 - val_loss: 0.0037\n",
      "Epoch 6/100\n",
      "12/12 [==============================] - 0s 20ms/step - loss: 5.5342e-04 - val_loss: 0.0033\n",
      "Epoch 7/100\n",
      "12/12 [==============================] - 0s 20ms/step - loss: 5.8043e-04 - val_loss: 0.0032\n",
      "Epoch 8/100\n",
      "12/12 [==============================] - 0s 20ms/step - loss: 5.0398e-04 - val_loss: 0.0033\n",
      "Epoch 9/100\n",
      "12/12 [==============================] - 0s 20ms/step - loss: 5.3731e-04 - val_loss: 0.0031\n",
      "Epoch 10/100\n",
      "12/12 [==============================] - 0s 20ms/step - loss: 5.3461e-04 - val_loss: 0.0030\n",
      "Epoch 11/100\n",
      "12/12 [==============================] - 0s 20ms/step - loss: 5.2724e-04 - val_loss: 0.0029\n",
      "Epoch 12/100\n",
      "12/12 [==============================] - 0s 20ms/step - loss: 5.2395e-04 - val_loss: 0.0039\n",
      "Epoch 13/100\n",
      "12/12 [==============================] - 0s 20ms/step - loss: 5.7382e-04 - val_loss: 0.0028\n",
      "Epoch 14/100\n",
      "12/12 [==============================] - 0s 20ms/step - loss: 5.2032e-04 - val_loss: 0.0033\n",
      "Epoch 15/100\n",
      "12/12 [==============================] - 0s 20ms/step - loss: 5.5585e-04 - val_loss: 0.0026\n",
      "Epoch 16/100\n",
      "12/12 [==============================] - 0s 20ms/step - loss: 4.6932e-04 - val_loss: 0.0025\n",
      "Epoch 17/100\n",
      "12/12 [==============================] - 0s 20ms/step - loss: 4.8844e-04 - val_loss: 0.0024\n",
      "Epoch 18/100\n",
      "12/12 [==============================] - 0s 20ms/step - loss: 4.3321e-04 - val_loss: 0.0023\n",
      "Epoch 19/100\n",
      "12/12 [==============================] - 0s 20ms/step - loss: 4.7170e-04 - val_loss: 0.0024\n",
      "Epoch 20/100\n",
      "12/12 [==============================] - 0s 20ms/step - loss: 4.2430e-04 - val_loss: 0.0022\n",
      "Epoch 21/100\n",
      "12/12 [==============================] - 0s 20ms/step - loss: 4.0436e-04 - val_loss: 0.0023\n",
      "Epoch 22/100\n",
      "12/12 [==============================] - 0s 21ms/step - loss: 4.2660e-04 - val_loss: 0.0021\n",
      "Epoch 23/100\n",
      "12/12 [==============================] - 0s 20ms/step - loss: 4.4802e-04 - val_loss: 0.0020\n",
      "Epoch 24/100\n",
      "12/12 [==============================] - 0s 20ms/step - loss: 3.7216e-04 - val_loss: 0.0020\n",
      "Epoch 25/100\n",
      "12/12 [==============================] - 0s 20ms/step - loss: 4.4224e-04 - val_loss: 0.0018\n",
      "Epoch 26/100\n",
      "12/12 [==============================] - 0s 20ms/step - loss: 3.9367e-04 - val_loss: 0.0018\n",
      "Epoch 27/100\n",
      "12/12 [==============================] - 0s 20ms/step - loss: 3.8157e-04 - val_loss: 0.0017\n",
      "Epoch 28/100\n",
      "12/12 [==============================] - 0s 20ms/step - loss: 3.6755e-04 - val_loss: 0.0026\n",
      "Epoch 29/100\n",
      "12/12 [==============================] - 0s 20ms/step - loss: 4.4419e-04 - val_loss: 0.0016\n",
      "Epoch 30/100\n",
      "12/12 [==============================] - 0s 20ms/step - loss: 3.5130e-04 - val_loss: 0.0016\n",
      "Epoch 31/100\n",
      "12/12 [==============================] - 0s 20ms/step - loss: 3.5885e-04 - val_loss: 0.0022\n",
      "Epoch 32/100\n",
      "12/12 [==============================] - 0s 20ms/step - loss: 4.2992e-04 - val_loss: 0.0017\n",
      "Epoch 33/100\n",
      "12/12 [==============================] - 0s 20ms/step - loss: 4.2668e-04 - val_loss: 0.0018\n",
      "Epoch 34/100\n",
      "12/12 [==============================] - 0s 20ms/step - loss: 3.4262e-04 - val_loss: 0.0015\n",
      "Epoch 35/100\n",
      "12/12 [==============================] - 0s 20ms/step - loss: 3.6677e-04 - val_loss: 0.0014\n",
      "Epoch 36/100\n",
      "12/12 [==============================] - 0s 20ms/step - loss: 3.2006e-04 - val_loss: 0.0015\n",
      "Epoch 37/100\n",
      "12/12 [==============================] - 0s 20ms/step - loss: 3.1730e-04 - val_loss: 0.0015\n",
      "Epoch 38/100\n",
      "12/12 [==============================] - 0s 20ms/step - loss: 3.2138e-04 - val_loss: 0.0014\n",
      "Epoch 39/100\n",
      "12/12 [==============================] - 0s 28ms/step - loss: 3.2055e-04 - val_loss: 0.0013\n",
      "Epoch 40/100\n",
      "12/12 [==============================] - 0s 25ms/step - loss: 3.2942e-04 - val_loss: 0.0019\n",
      "Epoch 41/100\n",
      "12/12 [==============================] - 0s 21ms/step - loss: 3.3360e-04 - val_loss: 0.0019\n",
      "Epoch 42/100\n",
      "12/12 [==============================] - 0s 20ms/step - loss: 3.5028e-04 - val_loss: 0.0020\n",
      "Epoch 43/100\n",
      "12/12 [==============================] - 0s 20ms/step - loss: 3.6986e-04 - val_loss: 0.0015\n",
      "Epoch 44/100\n",
      "12/12 [==============================] - 0s 20ms/step - loss: 3.1228e-04 - val_loss: 0.0014\n",
      "Epoch 45/100\n",
      "12/12 [==============================] - 0s 20ms/step - loss: 2.8064e-04 - val_loss: 0.0017\n",
      "Epoch 46/100\n",
      "12/12 [==============================] - 0s 20ms/step - loss: 3.0832e-04 - val_loss: 0.0013\n",
      "Epoch 47/100\n",
      "12/12 [==============================] - 0s 20ms/step - loss: 2.7614e-04 - val_loss: 0.0014\n",
      "Epoch 48/100\n",
      "12/12 [==============================] - 0s 20ms/step - loss: 2.5475e-04 - val_loss: 0.0012\n",
      "Epoch 49/100\n",
      "12/12 [==============================] - 0s 20ms/step - loss: 2.8222e-04 - val_loss: 0.0014\n",
      "Epoch 50/100\n",
      "12/12 [==============================] - 0s 20ms/step - loss: 2.8478e-04 - val_loss: 0.0013\n",
      "Epoch 51/100\n",
      "12/12 [==============================] - 0s 20ms/step - loss: 2.6493e-04 - val_loss: 0.0013\n",
      "Epoch 52/100\n",
      "12/12 [==============================] - 0s 20ms/step - loss: 2.9577e-04 - val_loss: 0.0014\n",
      "Epoch 53/100\n",
      "12/12 [==============================] - 0s 20ms/step - loss: 2.6043e-04 - val_loss: 0.0020\n",
      "Epoch 54/100\n",
      "12/12 [==============================] - 0s 21ms/step - loss: 3.3821e-04 - val_loss: 0.0013\n",
      "Epoch 55/100\n",
      "12/12 [==============================] - 0s 20ms/step - loss: 2.1815e-04 - val_loss: 0.0012\n",
      "Epoch 56/100\n",
      "12/12 [==============================] - 0s 20ms/step - loss: 2.1777e-04 - val_loss: 0.0012\n",
      "Epoch 57/100\n",
      "12/12 [==============================] - 0s 20ms/step - loss: 2.3951e-04 - val_loss: 0.0012\n",
      "Epoch 58/100\n",
      "12/12 [==============================] - 0s 20ms/step - loss: 2.5558e-04 - val_loss: 0.0012\n",
      "Epoch 59/100\n",
      "12/12 [==============================] - 0s 20ms/step - loss: 2.2393e-04 - val_loss: 0.0011\n",
      "Epoch 60/100\n",
      "12/12 [==============================] - 0s 20ms/step - loss: 2.6067e-04 - val_loss: 0.0018\n",
      "Epoch 61/100\n",
      "12/12 [==============================] - 0s 20ms/step - loss: 3.3790e-04 - val_loss: 0.0014\n",
      "Epoch 62/100\n",
      "12/12 [==============================] - 0s 20ms/step - loss: 2.4855e-04 - val_loss: 0.0011\n",
      "Epoch 63/100\n",
      "12/12 [==============================] - 0s 21ms/step - loss: 2.2686e-04 - val_loss: 0.0011\n",
      "Epoch 64/100\n",
      "12/12 [==============================] - 0s 20ms/step - loss: 2.1013e-04 - val_loss: 0.0012\n",
      "Epoch 65/100\n",
      "12/12 [==============================] - 0s 20ms/step - loss: 1.9383e-04 - val_loss: 0.0011\n",
      "Epoch 66/100\n",
      "12/12 [==============================] - 0s 20ms/step - loss: 2.1463e-04 - val_loss: 0.0018\n",
      "Epoch 67/100\n",
      "12/12 [==============================] - 0s 20ms/step - loss: 2.9945e-04 - val_loss: 0.0013\n",
      "Epoch 68/100\n",
      "12/12 [==============================] - 0s 20ms/step - loss: 2.0555e-04 - val_loss: 0.0011\n",
      "Epoch 69/100\n",
      "12/12 [==============================] - 0s 20ms/step - loss: 1.9166e-04 - val_loss: 0.0011\n",
      "Epoch 70/100\n",
      "12/12 [==============================] - 0s 20ms/step - loss: 2.1053e-04 - val_loss: 0.0014\n",
      "Epoch 71/100\n",
      "12/12 [==============================] - 0s 20ms/step - loss: 3.2943e-04 - val_loss: 0.0015\n",
      "Epoch 72/100\n",
      "12/12 [==============================] - 0s 20ms/step - loss: 2.2551e-04 - val_loss: 0.0012\n",
      "Epoch 73/100\n",
      "12/12 [==============================] - 0s 20ms/step - loss: 2.1521e-04 - val_loss: 0.0014\n",
      "Epoch 74/100\n",
      "12/12 [==============================] - 0s 20ms/step - loss: 2.1432e-04 - val_loss: 0.0011\n",
      "Epoch 75/100\n",
      "12/12 [==============================] - 0s 20ms/step - loss: 1.7710e-04 - val_loss: 0.0012\n",
      "Epoch 76/100\n",
      "12/12 [==============================] - 0s 20ms/step - loss: 1.8971e-04 - val_loss: 9.9965e-04\n",
      "Epoch 77/100\n",
      "12/12 [==============================] - 0s 20ms/step - loss: 1.7197e-04 - val_loss: 9.5774e-04\n",
      "Epoch 78/100\n",
      "12/12 [==============================] - 0s 20ms/step - loss: 1.7297e-04 - val_loss: 9.7467e-04\n",
      "Epoch 79/100\n",
      "12/12 [==============================] - 0s 20ms/step - loss: 1.7216e-04 - val_loss: 0.0014\n",
      "Epoch 80/100\n",
      "12/12 [==============================] - 0s 20ms/step - loss: 1.8719e-04 - val_loss: 0.0011\n",
      "Epoch 81/100\n",
      "12/12 [==============================] - 0s 29ms/step - loss: 1.8607e-04 - val_loss: 0.0017\n",
      "Epoch 82/100\n",
      "12/12 [==============================] - 0s 26ms/step - loss: 2.0783e-04 - val_loss: 9.7085e-04\n",
      "Epoch 83/100\n",
      "12/12 [==============================] - 0s 25ms/step - loss: 1.8287e-04 - val_loss: 9.8996e-04\n",
      "Epoch 84/100\n",
      "12/12 [==============================] - 0s 34ms/step - loss: 1.8034e-04 - val_loss: 0.0010\n",
      "Epoch 85/100\n",
      "12/12 [==============================] - 0s 23ms/step - loss: 1.7166e-04 - val_loss: 0.0010\n",
      "Epoch 86/100\n",
      "12/12 [==============================] - 0s 20ms/step - loss: 1.6488e-04 - val_loss: 9.2609e-04\n",
      "Epoch 87/100\n",
      "12/12 [==============================] - 0s 20ms/step - loss: 1.3912e-04 - val_loss: 0.0015\n",
      "Epoch 88/100\n",
      "12/12 [==============================] - 0s 20ms/step - loss: 1.8487e-04 - val_loss: 9.5757e-04\n",
      "Epoch 89/100\n",
      "12/12 [==============================] - 0s 20ms/step - loss: 1.5269e-04 - val_loss: 9.7493e-04\n",
      "Epoch 90/100\n",
      "12/12 [==============================] - 0s 20ms/step - loss: 1.5719e-04 - val_loss: 0.0011\n",
      "Epoch 91/100\n",
      "12/12 [==============================] - 0s 20ms/step - loss: 1.3561e-04 - val_loss: 0.0010\n",
      "Epoch 92/100\n",
      "12/12 [==============================] - 0s 20ms/step - loss: 1.9399e-04 - val_loss: 0.0011\n",
      "Epoch 93/100\n",
      "12/12 [==============================] - 0s 20ms/step - loss: 1.3637e-04 - val_loss: 9.3544e-04\n",
      "Epoch 94/100\n",
      "12/12 [==============================] - 0s 20ms/step - loss: 1.3768e-04 - val_loss: 0.0016\n",
      "Epoch 95/100\n",
      "12/12 [==============================] - 0s 20ms/step - loss: 1.5931e-04 - val_loss: 8.7247e-04\n",
      "Epoch 96/100\n",
      "12/12 [==============================] - 0s 20ms/step - loss: 1.4113e-04 - val_loss: 0.0013\n",
      "Epoch 97/100\n",
      "12/12 [==============================] - 0s 20ms/step - loss: 1.2779e-04 - val_loss: 8.6294e-04\n",
      "Epoch 98/100\n",
      "12/12 [==============================] - 0s 24ms/step - loss: 1.3844e-04 - val_loss: 9.7007e-04\n",
      "Epoch 99/100\n",
      "12/12 [==============================] - 0s 20ms/step - loss: 1.3622e-04 - val_loss: 8.7594e-04\n",
      "Epoch 100/100\n",
      "12/12 [==============================] - 0s 20ms/step - loss: 1.5475e-04 - val_loss: 0.0012\n"
     ]
    },
    {
     "data": {
      "text/plain": [
       "<tensorflow.python.keras.callbacks.History at 0x7f800021d9d0>"
      ]
     },
     "execution_count": 28,
     "metadata": {},
     "output_type": "execute_result"
    }
   ],
   "source": [
    "model.fit(X_train,y_train,validation_data=(X_test,y_test),epochs = 100,batch_size = 64,verbose = 1)"
   ]
  },
  {
   "cell_type": "code",
   "execution_count": 29,
   "id": "challenging-stuart",
   "metadata": {
    "execution": {
     "iopub.execute_input": "2021-06-06T18:30:12.493292Z",
     "iopub.status.busy": "2021-06-06T18:30:12.492401Z",
     "iopub.status.idle": "2021-06-06T18:30:13.674752Z",
     "shell.execute_reply": "2021-06-06T18:30:13.675160Z",
     "shell.execute_reply.started": "2021-06-06T18:04:10.944050Z"
    },
    "papermill": {
     "duration": 1.32287,
     "end_time": "2021-06-06T18:30:13.675357",
     "exception": false,
     "start_time": "2021-06-06T18:30:12.352487",
     "status": "completed"
    },
    "tags": []
   },
   "outputs": [],
   "source": [
    "# prediction and performance metrics:\n",
    "train_predict = model.predict(X_train)\n",
    "test_predict = model.predict(X_test)"
   ]
  },
  {
   "cell_type": "code",
   "execution_count": 30,
   "id": "genuine-header",
   "metadata": {
    "execution": {
     "iopub.execute_input": "2021-06-06T18:30:13.949781Z",
     "iopub.status.busy": "2021-06-06T18:30:13.949138Z",
     "iopub.status.idle": "2021-06-06T18:30:13.953138Z",
     "shell.execute_reply": "2021-06-06T18:30:13.952711Z",
     "shell.execute_reply.started": "2021-06-06T18:05:15.590094Z"
    },
    "papermill": {
     "duration": 0.142598,
     "end_time": "2021-06-06T18:30:13.953272",
     "exception": false,
     "start_time": "2021-06-06T18:30:13.810674",
     "status": "completed"
    },
    "tags": []
   },
   "outputs": [],
   "source": [
    "# Back to original form : \n",
    "train_predict = scaler.inverse_transform(train_predict)\n",
    "test_predict = scaler.inverse_transform(test_predict)"
   ]
  },
  {
   "cell_type": "code",
   "execution_count": 31,
   "id": "democratic-prison",
   "metadata": {
    "execution": {
     "iopub.execute_input": "2021-06-06T18:30:14.227428Z",
     "iopub.status.busy": "2021-06-06T18:30:14.226824Z",
     "iopub.status.idle": "2021-06-06T18:30:14.230072Z",
     "shell.execute_reply": "2021-06-06T18:30:14.230470Z",
     "shell.execute_reply.started": "2021-06-06T18:06:04.354175Z"
    },
    "papermill": {
     "duration": 0.143397,
     "end_time": "2021-06-06T18:30:14.230602",
     "exception": false,
     "start_time": "2021-06-06T18:30:14.087205",
     "status": "completed"
    },
    "tags": []
   },
   "outputs": [
    {
     "data": {
      "text/plain": [
       "143.22927564855928"
      ]
     },
     "execution_count": 31,
     "metadata": {},
     "output_type": "execute_result"
    }
   ],
   "source": [
    "# RMSE performance metrics (Training dataset): \n",
    "math.sqrt(mean_squared_error(y_train,train_predict))"
   ]
  },
  {
   "cell_type": "code",
   "execution_count": 32,
   "id": "confused-pontiac",
   "metadata": {
    "execution": {
     "iopub.execute_input": "2021-06-06T18:30:14.505046Z",
     "iopub.status.busy": "2021-06-06T18:30:14.504437Z",
     "iopub.status.idle": "2021-06-06T18:30:14.507464Z",
     "shell.execute_reply": "2021-06-06T18:30:14.507861Z",
     "shell.execute_reply.started": "2021-06-06T18:07:17.084157Z"
    },
    "papermill": {
     "duration": 0.143684,
     "end_time": "2021-06-06T18:30:14.507980",
     "exception": false,
     "start_time": "2021-06-06T18:30:14.364296",
     "status": "completed"
    },
    "tags": []
   },
   "outputs": [
    {
     "data": {
      "text/plain": [
       "242.4306869823469"
      ]
     },
     "execution_count": 32,
     "metadata": {},
     "output_type": "execute_result"
    }
   ],
   "source": [
    "# RMSE performance metrics (Test dataset): \n",
    "math.sqrt(mean_squared_error(y_test,test_predict))"
   ]
  },
  {
   "cell_type": "code",
   "execution_count": 33,
   "id": "involved-developer",
   "metadata": {
    "execution": {
     "iopub.execute_input": "2021-06-06T18:30:14.784281Z",
     "iopub.status.busy": "2021-06-06T18:30:14.783745Z",
     "iopub.status.idle": "2021-06-06T18:30:14.787512Z",
     "shell.execute_reply": "2021-06-06T18:30:14.787091Z",
     "shell.execute_reply.started": "2021-06-06T18:11:47.468248Z"
    },
    "papermill": {
     "duration": 0.143579,
     "end_time": "2021-06-06T18:30:14.787615",
     "exception": false,
     "start_time": "2021-06-06T18:30:14.644036",
     "status": "completed"
    },
    "tags": []
   },
   "outputs": [],
   "source": [
    "# shifting train predictions for plotting\n",
    "look_back=100\n",
    "trainPredictPlot = np.empty_like(data1)\n",
    "trainPredictPlot[:, :] = np.nan\n",
    "trainPredictPlot[look_back:len(train_predict)+look_back, :] = train_predict\n",
    "# shifting test predictions for plotting\n",
    "testPredictPlot = np.empty_like(data1)\n",
    "testPredictPlot[:, :] = np.nan\n",
    "testPredictPlot[len(train_predict)+(look_back*2)+1:len(data1)-1, :] = test_predict"
   ]
  },
  {
   "cell_type": "code",
   "execution_count": 34,
   "id": "inner-layout",
   "metadata": {
    "execution": {
     "iopub.execute_input": "2021-06-06T18:30:15.105423Z",
     "iopub.status.busy": "2021-06-06T18:30:15.081754Z",
     "iopub.status.idle": "2021-06-06T18:30:15.179927Z",
     "shell.execute_reply": "2021-06-06T18:30:15.179443Z",
     "shell.execute_reply.started": "2021-06-06T18:28:39.692861Z"
    },
    "papermill": {
     "duration": 0.257944,
     "end_time": "2021-06-06T18:30:15.180053",
     "exception": false,
     "start_time": "2021-06-06T18:30:14.922109",
     "status": "completed"
    },
    "tags": []
   },
   "outputs": [
    {
     "data": {
      "image/png": "[encoded data removed]",
      "text/plain": [
       "<Figure size 432x288 with 1 Axes>"
      ]
     },
     "metadata": {
      "needs_background": "light"
     },
     "output_type": "display_data"
    }
   ],
   "source": [
    "# ploting baseline and predictions\n",
    "plt.plot(scaler.inverse_transform(data1) , color = \"yellow\")\n",
    "plt.plot(trainPredictPlot , color = \"blue\") # train predict data\n",
    "plt.plot(testPredictPlot  , color = \"red\") # test predict data\n",
    "plt.show()"
   ]
  },
  {
   "cell_type": "code",
   "execution_count": 35,
   "id": "anticipated-certificate",
   "metadata": {
    "execution": {
     "iopub.execute_input": "2021-06-06T18:30:15.459102Z",
     "iopub.status.busy": "2021-06-06T18:30:15.458499Z",
     "iopub.status.idle": "2021-06-06T18:30:15.461574Z",
     "shell.execute_reply": "2021-06-06T18:30:15.461961Z",
     "shell.execute_reply.started": "2021-06-06T18:15:12.633281Z"
    },
    "papermill": {
     "duration": 0.144762,
     "end_time": "2021-06-06T18:30:15.462084",
     "exception": false,
     "start_time": "2021-06-06T18:30:15.317322",
     "status": "completed"
    },
    "tags": []
   },
   "outputs": [
    {
     "data": {
      "text/plain": [
       "(1, 100)"
      ]
     },
     "execution_count": 35,
     "metadata": {},
     "output_type": "execute_result"
    }
   ],
   "source": [
    "# previous 100 days:\n",
    "x_input = test_data[341:].reshape(1,-1)\n",
    "x_input.shape"
   ]
  },
  {
   "cell_type": "code",
   "execution_count": 36,
   "id": "eight-conservation",
   "metadata": {
    "execution": {
     "iopub.execute_input": "2021-06-06T18:30:15.739793Z",
     "iopub.status.busy": "2021-06-06T18:30:15.739068Z",
     "iopub.status.idle": "2021-06-06T18:30:15.741820Z",
     "shell.execute_reply": "2021-06-06T18:30:15.741414Z",
     "shell.execute_reply.started": "2021-06-06T18:22:05.240778Z"
    },
    "papermill": {
     "duration": 0.14297,
     "end_time": "2021-06-06T18:30:15.741922",
     "exception": false,
     "start_time": "2021-06-06T18:30:15.598952",
     "status": "completed"
    },
    "tags": []
   },
   "outputs": [],
   "source": [
    "temp_input = list(x_input)"
   ]
  },
  {
   "cell_type": "code",
   "execution_count": 37,
   "id": "joint-guest",
   "metadata": {
    "execution": {
     "iopub.execute_input": "2021-06-06T18:30:16.017447Z",
     "iopub.status.busy": "2021-06-06T18:30:16.016755Z",
     "iopub.status.idle": "2021-06-06T18:30:16.020618Z",
     "shell.execute_reply": "2021-06-06T18:30:16.020167Z",
     "shell.execute_reply.started": "2021-06-06T18:22:13.104764Z"
    },
    "papermill": {
     "duration": 0.143159,
     "end_time": "2021-06-06T18:30:16.020736",
     "exception": false,
     "start_time": "2021-06-06T18:30:15.877577",
     "status": "completed"
    },
    "tags": []
   },
   "outputs": [],
   "source": [
    "temp_input = temp_input[0].tolist()"
   ]
  },
  {
   "cell_type": "code",
   "execution_count": 38,
   "id": "beginning-springer",
   "metadata": {
    "execution": {
     "iopub.execute_input": "2021-06-06T18:30:16.303839Z",
     "iopub.status.busy": "2021-06-06T18:30:16.303051Z",
     "iopub.status.idle": "2021-06-06T18:30:17.386770Z",
     "shell.execute_reply": "2021-06-06T18:30:17.387175Z",
     "shell.execute_reply.started": "2021-06-06T18:24:32.205258Z"
    },
    "papermill": {
     "duration": 1.227728,
     "end_time": "2021-06-06T18:30:17.387332",
     "exception": false,
     "start_time": "2021-06-06T18:30:16.159604",
     "status": "completed"
    },
    "scrolled": true,
    "tags": []
   },
   "outputs": [
    {
     "name": "stdout",
     "output_type": "stream",
     "text": [
      "[0.9982545]\n",
      "101\n",
      "1 day input [0.8866419  0.87431394 0.88431985 0.87836697 0.8986321  0.92582116\n",
      " 0.92877649 0.95676771 0.93869797 0.93304061 0.94950604 0.96424048\n",
      " 0.95512117 0.95989192 0.96635143 0.96246728 0.92295027 0.9598497\n",
      " 0.98792536 0.98594106 0.92531453 0.92172591 0.96474711 0.97572406\n",
      " 0.99159841 0.96972895 0.97614625 0.96795575 1.         0.99016297\n",
      " 0.99050072 0.96538039 0.98488559 0.97086887 0.94026007 0.87748037\n",
      " 0.83483915 0.85413324 0.77336823 0.77269273 0.88014017 0.84007431\n",
      " 0.89673225 0.85527316 0.83884995 0.74233725 0.82327113 0.78143207\n",
      " 0.6665963  0.7921557  0.64118044 0.68614371 0.66001013 0.65203074\n",
      " 0.58642236 0.56586169 0.66089673 0.65515494 0.70970193 0.66452757\n",
      " 0.69437642 0.69218104 0.63569197 0.65266402 0.63780292 0.7267162\n",
      " 0.71388162 0.74191506 0.75002111 0.77222832 0.83049059 0.8194292\n",
      " 0.8289707  0.8125475  0.78776492 0.75162543 0.78426074 0.77974331\n",
      " 0.81326522 0.8141096  0.79473106 0.83336148 0.85898843 0.83901883\n",
      " 0.85628641 0.87486279 0.88782403 0.90095415 0.92793211 0.948535\n",
      " 0.93333615 0.91746179 0.92544119 0.91771511 0.9483239  0.94064004\n",
      " 0.96635143 0.9563033  0.96491598 0.99825448]\n",
      "1 day output [[1.0140961]]\n",
      "2 day input [0.87431394 0.88431985 0.87836697 0.8986321  0.92582116 0.92877649\n",
      " 0.95676771 0.93869797 0.93304061 0.94950604 0.96424048 0.95512117\n",
      " 0.95989192 0.96635143 0.96246728 0.92295027 0.9598497  0.98792536\n",
      " 0.98594106 0.92531453 0.92172591 0.96474711 0.97572406 0.99159841\n",
      " 0.96972895 0.97614625 0.96795575 1.         0.99016297 0.99050072\n",
      " 0.96538039 0.98488559 0.97086887 0.94026007 0.87748037 0.83483915\n",
      " 0.85413324 0.77336823 0.77269273 0.88014017 0.84007431 0.89673225\n",
      " 0.85527316 0.83884995 0.74233725 0.82327113 0.78143207 0.6665963\n",
      " 0.7921557  0.64118044 0.68614371 0.66001013 0.65203074 0.58642236\n",
      " 0.56586169 0.66089673 0.65515494 0.70970193 0.66452757 0.69437642\n",
      " 0.69218104 0.63569197 0.65266402 0.63780292 0.7267162  0.71388162\n",
      " 0.74191506 0.75002111 0.77222832 0.83049059 0.8194292  0.8289707\n",
      " 0.8125475  0.78776492 0.75162543 0.78426074 0.77974331 0.81326522\n",
      " 0.8141096  0.79473106 0.83336148 0.85898843 0.83901883 0.85628641\n",
      " 0.87486279 0.88782403 0.90095415 0.92793211 0.948535   0.93333615\n",
      " 0.91746179 0.92544119 0.91771511 0.9483239  0.94064004 0.96635143\n",
      " 0.9563033  0.96491598 0.99825448 1.01409614]\n",
      "2 day output [[1.0337802]]\n",
      "3 day input [0.88431985 0.87836697 0.8986321  0.92582116 0.92877649 0.95676771\n",
      " 0.93869797 0.93304061 0.94950604 0.96424048 0.95512117 0.95989192\n",
      " 0.96635143 0.96246728 0.92295027 0.9598497  0.98792536 0.98594106\n",
      " 0.92531453 0.92172591 0.96474711 0.97572406 0.99159841 0.96972895\n",
      " 0.97614625 0.96795575 1.         0.99016297 0.99050072 0.96538039\n",
      " 0.98488559 0.97086887 0.94026007 0.87748037 0.83483915 0.85413324\n",
      " 0.77336823 0.77269273 0.88014017 0.84007431 0.89673225 0.85527316\n",
      " 0.83884995 0.74233725 0.82327113 0.78143207 0.6665963  0.7921557\n",
      " 0.64118044 0.68614371 0.66001013 0.65203074 0.58642236 0.56586169\n",
      " 0.66089673 0.65515494 0.70970193 0.66452757 0.69437642 0.69218104\n",
      " 0.63569197 0.65266402 0.63780292 0.7267162  0.71388162 0.74191506\n",
      " 0.75002111 0.77222832 0.83049059 0.8194292  0.8289707  0.8125475\n",
      " 0.78776492 0.75162543 0.78426074 0.77974331 0.81326522 0.8141096\n",
      " 0.79473106 0.83336148 0.85898843 0.83901883 0.85628641 0.87486279\n",
      " 0.88782403 0.90095415 0.92793211 0.948535   0.93333615 0.91746179\n",
      " 0.92544119 0.91771511 0.9483239  0.94064004 0.96635143 0.9563033\n",
      " 0.96491598 0.99825448 1.01409614 1.03378022]\n",
      "3 day output [[1.0541536]]\n",
      "4 day input [0.87836697 0.8986321  0.92582116 0.92877649 0.95676771 0.93869797\n",
      " 0.93304061 0.94950604 0.96424048 0.95512117 0.95989192 0.96635143\n",
      " 0.96246728 0.92295027 0.9598497  0.98792536 0.98594106 0.92531453\n",
      " 0.92172591 0.96474711 0.97572406 0.99159841 0.96972895 0.97614625\n",
      " 0.96795575 1.         0.99016297 0.99050072 0.96538039 0.98488559\n",
      " 0.97086887 0.94026007 0.87748037 0.83483915 0.85413324 0.77336823\n",
      " 0.77269273 0.88014017 0.84007431 0.89673225 0.85527316 0.83884995\n",
      " 0.74233725 0.82327113 0.78143207 0.6665963  0.7921557  0.64118044\n",
      " 0.68614371 0.66001013 0.65203074 0.58642236 0.56586169 0.66089673\n",
      " 0.65515494 0.70970193 0.66452757 0.69437642 0.69218104 0.63569197\n",
      " 0.65266402 0.63780292 0.7267162  0.71388162 0.74191506 0.75002111\n",
      " 0.77222832 0.83049059 0.8194292  0.8289707  0.8125475  0.78776492\n",
      " 0.75162543 0.78426074 0.77974331 0.81326522 0.8141096  0.79473106\n",
      " 0.83336148 0.85898843 0.83901883 0.85628641 0.87486279 0.88782403\n",
      " 0.90095415 0.92793211 0.948535   0.93333615 0.91746179 0.92544119\n",
      " 0.91771511 0.9483239  0.94064004 0.96635143 0.9563033  0.96491598\n",
      " 0.99825448 1.01409614 1.03378022 1.05415356]\n",
      "4 day output [[1.0741569]]\n",
      "5 day input [0.8986321  0.92582116 0.92877649 0.95676771 0.93869797 0.93304061\n",
      " 0.94950604 0.96424048 0.95512117 0.95989192 0.96635143 0.96246728\n",
      " 0.92295027 0.9598497  0.98792536 0.98594106 0.92531453 0.92172591\n",
      " 0.96474711 0.97572406 0.99159841 0.96972895 0.97614625 0.96795575\n",
      " 1.         0.99016297 0.99050072 0.96538039 0.98488559 0.97086887\n",
      " 0.94026007 0.87748037 0.83483915 0.85413324 0.77336823 0.77269273\n",
      " 0.88014017 0.84007431 0.89673225 0.85527316 0.83884995 0.74233725\n",
      " 0.82327113 0.78143207 0.6665963  0.7921557  0.64118044 0.68614371\n",
      " 0.66001013 0.65203074 0.58642236 0.56586169 0.66089673 0.65515494\n",
      " 0.70970193 0.66452757 0.69437642 0.69218104 0.63569197 0.65266402\n",
      " 0.63780292 0.7267162  0.71388162 0.74191506 0.75002111 0.77222832\n",
      " 0.83049059 0.8194292  0.8289707  0.8125475  0.78776492 0.75162543\n",
      " 0.78426074 0.77974331 0.81326522 0.8141096  0.79473106 0.83336148\n",
      " 0.85898843 0.83901883 0.85628641 0.87486279 0.88782403 0.90095415\n",
      " 0.92793211 0.948535   0.93333615 0.91746179 0.92544119 0.91771511\n",
      " 0.9483239  0.94064004 0.96635143 0.9563033  0.96491598 0.99825448\n",
      " 1.01409614 1.03378022 1.05415356 1.07415688]\n",
      "5 day output [[1.0934633]]\n",
      "6 day input [0.92582116 0.92877649 0.95676771 0.93869797 0.93304061 0.94950604\n",
      " 0.96424048 0.95512117 0.95989192 0.96635143 0.96246728 0.92295027\n",
      " 0.9598497  0.98792536 0.98594106 0.92531453 0.92172591 0.96474711\n",
      " 0.97572406 0.99159841 0.96972895 0.97614625 0.96795575 1.\n",
      " 0.99016297 0.99050072 0.96538039 0.98488559 0.97086887 0.94026007\n",
      " 0.87748037 0.83483915 0.85413324 0.77336823 0.77269273 0.88014017\n",
      " 0.84007431 0.89673225 0.85527316 0.83884995 0.74233725 0.82327113\n",
      " 0.78143207 0.6665963  0.7921557  0.64118044 0.68614371 0.66001013\n",
      " 0.65203074 0.58642236 0.56586169 0.66089673 0.65515494 0.70970193\n",
      " 0.66452757 0.69437642 0.69218104 0.63569197 0.65266402 0.63780292\n",
      " 0.7267162  0.71388162 0.74191506 0.75002111 0.77222832 0.83049059\n",
      " 0.8194292  0.8289707  0.8125475  0.78776492 0.75162543 0.78426074\n",
      " 0.77974331 0.81326522 0.8141096  0.79473106 0.83336148 0.85898843\n",
      " 0.83901883 0.85628641 0.87486279 0.88782403 0.90095415 0.92793211\n",
      " 0.948535   0.93333615 0.91746179 0.92544119 0.91771511 0.9483239\n",
      " 0.94064004 0.96635143 0.9563033  0.96491598 0.99825448 1.01409614\n",
      " 1.03378022 1.05415356 1.07415688 1.0934633 ]\n",
      "6 day output [[1.1120749]]\n",
      "7 day input [0.92877649 0.95676771 0.93869797 0.93304061 0.94950604 0.96424048\n",
      " 0.95512117 0.95989192 0.96635143 0.96246728 0.92295027 0.9598497\n",
      " 0.98792536 0.98594106 0.92531453 0.92172591 0.96474711 0.97572406\n",
      " 0.99159841 0.96972895 0.97614625 0.96795575 1.         0.99016297\n",
      " 0.99050072 0.96538039 0.98488559 0.97086887 0.94026007 0.87748037\n",
      " 0.83483915 0.85413324 0.77336823 0.77269273 0.88014017 0.84007431\n",
      " 0.89673225 0.85527316 0.83884995 0.74233725 0.82327113 0.78143207\n",
      " 0.6665963  0.7921557  0.64118044 0.68614371 0.66001013 0.65203074\n",
      " 0.58642236 0.56586169 0.66089673 0.65515494 0.70970193 0.66452757\n",
      " 0.69437642 0.69218104 0.63569197 0.65266402 0.63780292 0.7267162\n",
      " 0.71388162 0.74191506 0.75002111 0.77222832 0.83049059 0.8194292\n",
      " 0.8289707  0.8125475  0.78776492 0.75162543 0.78426074 0.77974331\n",
      " 0.81326522 0.8141096  0.79473106 0.83336148 0.85898843 0.83901883\n",
      " 0.85628641 0.87486279 0.88782403 0.90095415 0.92793211 0.948535\n",
      " 0.93333615 0.91746179 0.92544119 0.91771511 0.9483239  0.94064004\n",
      " 0.96635143 0.9563033  0.96491598 0.99825448 1.01409614 1.03378022\n",
      " 1.05415356 1.07415688 1.0934633  1.11207485]\n",
      "7 day output [[1.1301639]]\n",
      "8 day input [0.95676771 0.93869797 0.93304061 0.94950604 0.96424048 0.95512117\n",
      " 0.95989192 0.96635143 0.96246728 0.92295027 0.9598497  0.98792536\n",
      " 0.98594106 0.92531453 0.92172591 0.96474711 0.97572406 0.99159841\n",
      " 0.96972895 0.97614625 0.96795575 1.         0.99016297 0.99050072\n",
      " 0.96538039 0.98488559 0.97086887 0.94026007 0.87748037 0.83483915\n",
      " 0.85413324 0.77336823 0.77269273 0.88014017 0.84007431 0.89673225\n",
      " 0.85527316 0.83884995 0.74233725 0.82327113 0.78143207 0.6665963\n",
      " 0.7921557  0.64118044 0.68614371 0.66001013 0.65203074 0.58642236\n",
      " 0.56586169 0.66089673 0.65515494 0.70970193 0.66452757 0.69437642\n",
      " 0.69218104 0.63569197 0.65266402 0.63780292 0.7267162  0.71388162\n",
      " 0.74191506 0.75002111 0.77222832 0.83049059 0.8194292  0.8289707\n",
      " 0.8125475  0.78776492 0.75162543 0.78426074 0.77974331 0.81326522\n",
      " 0.8141096  0.79473106 0.83336148 0.85898843 0.83901883 0.85628641\n",
      " 0.87486279 0.88782403 0.90095415 0.92793211 0.948535   0.93333615\n",
      " 0.91746179 0.92544119 0.91771511 0.9483239  0.94064004 0.96635143\n",
      " 0.9563033  0.96491598 0.99825448 1.01409614 1.03378022 1.05415356\n",
      " 1.07415688 1.0934633  1.11207485 1.13016391]\n",
      "8 day output [[1.1479763]]\n",
      "9 day input [0.93869797 0.93304061 0.94950604 0.96424048 0.95512117 0.95989192\n",
      " 0.96635143 0.96246728 0.92295027 0.9598497  0.98792536 0.98594106\n",
      " 0.92531453 0.92172591 0.96474711 0.97572406 0.99159841 0.96972895\n",
      " 0.97614625 0.96795575 1.         0.99016297 0.99050072 0.96538039\n",
      " 0.98488559 0.97086887 0.94026007 0.87748037 0.83483915 0.85413324\n",
      " 0.77336823 0.77269273 0.88014017 0.84007431 0.89673225 0.85527316\n",
      " 0.83884995 0.74233725 0.82327113 0.78143207 0.6665963  0.7921557\n",
      " 0.64118044 0.68614371 0.66001013 0.65203074 0.58642236 0.56586169\n",
      " 0.66089673 0.65515494 0.70970193 0.66452757 0.69437642 0.69218104\n",
      " 0.63569197 0.65266402 0.63780292 0.7267162  0.71388162 0.74191506\n",
      " 0.75002111 0.77222832 0.83049059 0.8194292  0.8289707  0.8125475\n",
      " 0.78776492 0.75162543 0.78426074 0.77974331 0.81326522 0.8141096\n",
      " 0.79473106 0.83336148 0.85898843 0.83901883 0.85628641 0.87486279\n",
      " 0.88782403 0.90095415 0.92793211 0.948535   0.93333615 0.91746179\n",
      " 0.92544119 0.91771511 0.9483239  0.94064004 0.96635143 0.9563033\n",
      " 0.96491598 0.99825448 1.01409614 1.03378022 1.05415356 1.07415688\n",
      " 1.0934633  1.11207485 1.13016391 1.14797628]\n",
      "9 day output [[1.1657593]]\n",
      "10 day input [0.93304061 0.94950604 0.96424048 0.95512117 0.95989192 0.96635143\n",
      " 0.96246728 0.92295027 0.9598497  0.98792536 0.98594106 0.92531453\n",
      " 0.92172591 0.96474711 0.97572406 0.99159841 0.96972895 0.97614625\n",
      " 0.96795575 1.         0.99016297 0.99050072 0.96538039 0.98488559\n",
      " 0.97086887 0.94026007 0.87748037 0.83483915 0.85413324 0.77336823\n",
      " 0.77269273 0.88014017 0.84007431 0.89673225 0.85527316 0.83884995\n",
      " 0.74233725 0.82327113 0.78143207 0.6665963  0.7921557  0.64118044\n",
      " 0.68614371 0.66001013 0.65203074 0.58642236 0.56586169 0.66089673\n",
      " 0.65515494 0.70970193 0.66452757 0.69437642 0.69218104 0.63569197\n",
      " 0.65266402 0.63780292 0.7267162  0.71388162 0.74191506 0.75002111\n",
      " 0.77222832 0.83049059 0.8194292  0.8289707  0.8125475  0.78776492\n",
      " 0.75162543 0.78426074 0.77974331 0.81326522 0.8141096  0.79473106\n",
      " 0.83336148 0.85898843 0.83901883 0.85628641 0.87486279 0.88782403\n",
      " 0.90095415 0.92793211 0.948535   0.93333615 0.91746179 0.92544119\n",
      " 0.91771511 0.9483239  0.94064004 0.96635143 0.9563033  0.96491598\n",
      " 0.99825448 1.01409614 1.03378022 1.05415356 1.07415688 1.0934633\n",
      " 1.11207485 1.13016391 1.14797628 1.16575933]\n",
      "10 day output [[1.1837183]]\n",
      "11 day input [0.94950604 0.96424048 0.95512117 0.95989192 0.96635143 0.96246728\n",
      " 0.92295027 0.9598497  0.98792536 0.98594106 0.92531453 0.92172591\n",
      " 0.96474711 0.97572406 0.99159841 0.96972895 0.97614625 0.96795575\n",
      " 1.         0.99016297 0.99050072 0.96538039 0.98488559 0.97086887\n",
      " 0.94026007 0.87748037 0.83483915 0.85413324 0.77336823 0.77269273\n",
      " 0.88014017 0.84007431 0.89673225 0.85527316 0.83884995 0.74233725\n",
      " 0.82327113 0.78143207 0.6665963  0.7921557  0.64118044 0.68614371\n",
      " 0.66001013 0.65203074 0.58642236 0.56586169 0.66089673 0.65515494\n",
      " 0.70970193 0.66452757 0.69437642 0.69218104 0.63569197 0.65266402\n",
      " 0.63780292 0.7267162  0.71388162 0.74191506 0.75002111 0.77222832\n",
      " 0.83049059 0.8194292  0.8289707  0.8125475  0.78776492 0.75162543\n",
      " 0.78426074 0.77974331 0.81326522 0.8141096  0.79473106 0.83336148\n",
      " 0.85898843 0.83901883 0.85628641 0.87486279 0.88782403 0.90095415\n",
      " 0.92793211 0.948535   0.93333615 0.91746179 0.92544119 0.91771511\n",
      " 0.9483239  0.94064004 0.96635143 0.9563033  0.96491598 0.99825448\n",
      " 1.01409614 1.03378022 1.05415356 1.07415688 1.0934633  1.11207485\n",
      " 1.13016391 1.14797628 1.16575933 1.18371832]\n",
      "11 day output [[1.2019967]]\n",
      "12 day input [0.96424048 0.95512117 0.95989192 0.96635143 0.96246728 0.92295027\n",
      " 0.9598497  0.98792536 0.98594106 0.92531453 0.92172591 0.96474711\n",
      " 0.97572406 0.99159841 0.96972895 0.97614625 0.96795575 1.\n",
      " 0.99016297 0.99050072 0.96538039 0.98488559 0.97086887 0.94026007\n",
      " 0.87748037 0.83483915 0.85413324 0.77336823 0.77269273 0.88014017\n",
      " 0.84007431 0.89673225 0.85527316 0.83884995 0.74233725 0.82327113\n",
      " 0.78143207 0.6665963  0.7921557  0.64118044 0.68614371 0.66001013\n",
      " 0.65203074 0.58642236 0.56586169 0.66089673 0.65515494 0.70970193\n",
      " 0.66452757 0.69437642 0.69218104 0.63569197 0.65266402 0.63780292\n",
      " 0.7267162  0.71388162 0.74191506 0.75002111 0.77222832 0.83049059\n",
      " 0.8194292  0.8289707  0.8125475  0.78776492 0.75162543 0.78426074\n",
      " 0.77974331 0.81326522 0.8141096  0.79473106 0.83336148 0.85898843\n",
      " 0.83901883 0.85628641 0.87486279 0.88782403 0.90095415 0.92793211\n",
      " 0.948535   0.93333615 0.91746179 0.92544119 0.91771511 0.9483239\n",
      " 0.94064004 0.96635143 0.9563033  0.96491598 0.99825448 1.01409614\n",
      " 1.03378022 1.05415356 1.07415688 1.0934633  1.11207485 1.13016391\n",
      " 1.14797628 1.16575933 1.18371832 1.20199668]\n",
      "12 day output [[1.2206732]]\n",
      "13 day input [0.95512117 0.95989192 0.96635143 0.96246728 0.92295027 0.9598497\n",
      " 0.98792536 0.98594106 0.92531453 0.92172591 0.96474711 0.97572406\n",
      " 0.99159841 0.96972895 0.97614625 0.96795575 1.         0.99016297\n",
      " 0.99050072 0.96538039 0.98488559 0.97086887 0.94026007 0.87748037\n",
      " 0.83483915 0.85413324 0.77336823 0.77269273 0.88014017 0.84007431\n",
      " 0.89673225 0.85527316 0.83884995 0.74233725 0.82327113 0.78143207\n",
      " 0.6665963  0.7921557  0.64118044 0.68614371 0.66001013 0.65203074\n",
      " 0.58642236 0.56586169 0.66089673 0.65515494 0.70970193 0.66452757\n",
      " 0.69437642 0.69218104 0.63569197 0.65266402 0.63780292 0.7267162\n",
      " 0.71388162 0.74191506 0.75002111 0.77222832 0.83049059 0.8194292\n",
      " 0.8289707  0.8125475  0.78776492 0.75162543 0.78426074 0.77974331\n",
      " 0.81326522 0.8141096  0.79473106 0.83336148 0.85898843 0.83901883\n",
      " 0.85628641 0.87486279 0.88782403 0.90095415 0.92793211 0.948535\n",
      " 0.93333615 0.91746179 0.92544119 0.91771511 0.9483239  0.94064004\n",
      " 0.96635143 0.9563033  0.96491598 0.99825448 1.01409614 1.03378022\n",
      " 1.05415356 1.07415688 1.0934633  1.11207485 1.13016391 1.14797628\n",
      " 1.16575933 1.18371832 1.20199668 1.2206732 ]\n",
      "13 day output [[1.2397726]]\n",
      "14 day input [0.95989192 0.96635143 0.96246728 0.92295027 0.9598497  0.98792536\n",
      " 0.98594106 0.92531453 0.92172591 0.96474711 0.97572406 0.99159841\n",
      " 0.96972895 0.97614625 0.96795575 1.         0.99016297 0.99050072\n",
      " 0.96538039 0.98488559 0.97086887 0.94026007 0.87748037 0.83483915\n",
      " 0.85413324 0.77336823 0.77269273 0.88014017 0.84007431 0.89673225\n",
      " 0.85527316 0.83884995 0.74233725 0.82327113 0.78143207 0.6665963\n",
      " 0.7921557  0.64118044 0.68614371 0.66001013 0.65203074 0.58642236\n",
      " 0.56586169 0.66089673 0.65515494 0.70970193 0.66452757 0.69437642\n",
      " 0.69218104 0.63569197 0.65266402 0.63780292 0.7267162  0.71388162\n",
      " 0.74191506 0.75002111 0.77222832 0.83049059 0.8194292  0.8289707\n",
      " 0.8125475  0.78776492 0.75162543 0.78426074 0.77974331 0.81326522\n",
      " 0.8141096  0.79473106 0.83336148 0.85898843 0.83901883 0.85628641\n",
      " 0.87486279 0.88782403 0.90095415 0.92793211 0.948535   0.93333615\n",
      " 0.91746179 0.92544119 0.91771511 0.9483239  0.94064004 0.96635143\n",
      " 0.9563033  0.96491598 0.99825448 1.01409614 1.03378022 1.05415356\n",
      " 1.07415688 1.0934633  1.11207485 1.13016391 1.14797628 1.16575933\n",
      " 1.18371832 1.20199668 1.2206732  1.23977256]\n",
      "14 day output [[1.2592794]]\n",
      "15 day input [0.96635143 0.96246728 0.92295027 0.9598497  0.98792536 0.98594106\n",
      " 0.92531453 0.92172591 0.96474711 0.97572406 0.99159841 0.96972895\n",
      " 0.97614625 0.96795575 1.         0.99016297 0.99050072 0.96538039\n",
      " 0.98488559 0.97086887 0.94026007 0.87748037 0.83483915 0.85413324\n",
      " 0.77336823 0.77269273 0.88014017 0.84007431 0.89673225 0.85527316\n",
      " 0.83884995 0.74233725 0.82327113 0.78143207 0.6665963  0.7921557\n",
      " 0.64118044 0.68614371 0.66001013 0.65203074 0.58642236 0.56586169\n",
      " 0.66089673 0.65515494 0.70970193 0.66452757 0.69437642 0.69218104\n",
      " 0.63569197 0.65266402 0.63780292 0.7267162  0.71388162 0.74191506\n",
      " 0.75002111 0.77222832 0.83049059 0.8194292  0.8289707  0.8125475\n",
      " 0.78776492 0.75162543 0.78426074 0.77974331 0.81326522 0.8141096\n",
      " 0.79473106 0.83336148 0.85898843 0.83901883 0.85628641 0.87486279\n",
      " 0.88782403 0.90095415 0.92793211 0.948535   0.93333615 0.91746179\n",
      " 0.92544119 0.91771511 0.9483239  0.94064004 0.96635143 0.9563033\n",
      " 0.96491598 0.99825448 1.01409614 1.03378022 1.05415356 1.07415688\n",
      " 1.0934633  1.11207485 1.13016391 1.14797628 1.16575933 1.18371832\n",
      " 1.20199668 1.2206732  1.23977256 1.25927937]\n",
      "15 day output [[1.2791536]]\n",
      "16 day input [0.96246728 0.92295027 0.9598497  0.98792536 0.98594106 0.92531453\n",
      " 0.92172591 0.96474711 0.97572406 0.99159841 0.96972895 0.97614625\n",
      " 0.96795575 1.         0.99016297 0.99050072 0.96538039 0.98488559\n",
      " 0.97086887 0.94026007 0.87748037 0.83483915 0.85413324 0.77336823\n",
      " 0.77269273 0.88014017 0.84007431 0.89673225 0.85527316 0.83884995\n",
      " 0.74233725 0.82327113 0.78143207 0.6665963  0.7921557  0.64118044\n",
      " 0.68614371 0.66001013 0.65203074 0.58642236 0.56586169 0.66089673\n",
      " 0.65515494 0.70970193 0.66452757 0.69437642 0.69218104 0.63569197\n",
      " 0.65266402 0.63780292 0.7267162  0.71388162 0.74191506 0.75002111\n",
      " 0.77222832 0.83049059 0.8194292  0.8289707  0.8125475  0.78776492\n",
      " 0.75162543 0.78426074 0.77974331 0.81326522 0.8141096  0.79473106\n",
      " 0.83336148 0.85898843 0.83901883 0.85628641 0.87486279 0.88782403\n",
      " 0.90095415 0.92793211 0.948535   0.93333615 0.91746179 0.92544119\n",
      " 0.91771511 0.9483239  0.94064004 0.96635143 0.9563033  0.96491598\n",
      " 0.99825448 1.01409614 1.03378022 1.05415356 1.07415688 1.0934633\n",
      " 1.11207485 1.13016391 1.14797628 1.16575933 1.18371832 1.20199668\n",
      " 1.2206732  1.23977256 1.25927937 1.27915359]\n",
      "16 day output [[1.2993443]]\n",
      "17 day input [0.92295027 0.9598497  0.98792536 0.98594106 0.92531453 0.92172591\n",
      " 0.96474711 0.97572406 0.99159841 0.96972895 0.97614625 0.96795575\n",
      " 1.         0.99016297 0.99050072 0.96538039 0.98488559 0.97086887\n",
      " 0.94026007 0.87748037 0.83483915 0.85413324 0.77336823 0.77269273\n",
      " 0.88014017 0.84007431 0.89673225 0.85527316 0.83884995 0.74233725\n",
      " 0.82327113 0.78143207 0.6665963  0.7921557  0.64118044 0.68614371\n",
      " 0.66001013 0.65203074 0.58642236 0.56586169 0.66089673 0.65515494\n",
      " 0.70970193 0.66452757 0.69437642 0.69218104 0.63569197 0.65266402\n",
      " 0.63780292 0.7267162  0.71388162 0.74191506 0.75002111 0.77222832\n",
      " 0.83049059 0.8194292  0.8289707  0.8125475  0.78776492 0.75162543\n",
      " 0.78426074 0.77974331 0.81326522 0.8141096  0.79473106 0.83336148\n",
      " 0.85898843 0.83901883 0.85628641 0.87486279 0.88782403 0.90095415\n",
      " 0.92793211 0.948535   0.93333615 0.91746179 0.92544119 0.91771511\n",
      " 0.9483239  0.94064004 0.96635143 0.9563033  0.96491598 0.99825448\n",
      " 1.01409614 1.03378022 1.05415356 1.07415688 1.0934633  1.11207485\n",
      " 1.13016391 1.14797628 1.16575933 1.18371832 1.20199668 1.2206732\n",
      " 1.23977256 1.25927937 1.27915359 1.2993443 ]\n",
      "17 day output [[1.3197988]]\n",
      "18 day input [0.9598497  0.98792536 0.98594106 0.92531453 0.92172591 0.96474711\n",
      " 0.97572406 0.99159841 0.96972895 0.97614625 0.96795575 1.\n",
      " 0.99016297 0.99050072 0.96538039 0.98488559 0.97086887 0.94026007\n",
      " 0.87748037 0.83483915 0.85413324 0.77336823 0.77269273 0.88014017\n",
      " 0.84007431 0.89673225 0.85527316 0.83884995 0.74233725 0.82327113\n",
      " 0.78143207 0.6665963  0.7921557  0.64118044 0.68614371 0.66001013\n",
      " 0.65203074 0.58642236 0.56586169 0.66089673 0.65515494 0.70970193\n",
      " 0.66452757 0.69437642 0.69218104 0.63569197 0.65266402 0.63780292\n",
      " 0.7267162  0.71388162 0.74191506 0.75002111 0.77222832 0.83049059\n",
      " 0.8194292  0.8289707  0.8125475  0.78776492 0.75162543 0.78426074\n",
      " 0.77974331 0.81326522 0.8141096  0.79473106 0.83336148 0.85898843\n",
      " 0.83901883 0.85628641 0.87486279 0.88782403 0.90095415 0.92793211\n",
      " 0.948535   0.93333615 0.91746179 0.92544119 0.91771511 0.9483239\n",
      " 0.94064004 0.96635143 0.9563033  0.96491598 0.99825448 1.01409614\n",
      " 1.03378022 1.05415356 1.07415688 1.0934633  1.11207485 1.13016391\n",
      " 1.14797628 1.16575933 1.18371832 1.20199668 1.2206732  1.23977256\n",
      " 1.25927937 1.27915359 1.2993443  1.31979883]\n",
      "18 day output [[1.3404678]]\n",
      "19 day input [0.98792536 0.98594106 0.92531453 0.92172591 0.96474711 0.97572406\n",
      " 0.99159841 0.96972895 0.97614625 0.96795575 1.         0.99016297\n",
      " 0.99050072 0.96538039 0.98488559 0.97086887 0.94026007 0.87748037\n",
      " 0.83483915 0.85413324 0.77336823 0.77269273 0.88014017 0.84007431\n",
      " 0.89673225 0.85527316 0.83884995 0.74233725 0.82327113 0.78143207\n",
      " 0.6665963  0.7921557  0.64118044 0.68614371 0.66001013 0.65203074\n",
      " 0.58642236 0.56586169 0.66089673 0.65515494 0.70970193 0.66452757\n",
      " 0.69437642 0.69218104 0.63569197 0.65266402 0.63780292 0.7267162\n",
      " 0.71388162 0.74191506 0.75002111 0.77222832 0.83049059 0.8194292\n",
      " 0.8289707  0.8125475  0.78776492 0.75162543 0.78426074 0.77974331\n",
      " 0.81326522 0.8141096  0.79473106 0.83336148 0.85898843 0.83901883\n",
      " 0.85628641 0.87486279 0.88782403 0.90095415 0.92793211 0.948535\n",
      " 0.93333615 0.91746179 0.92544119 0.91771511 0.9483239  0.94064004\n",
      " 0.96635143 0.9563033  0.96491598 0.99825448 1.01409614 1.03378022\n",
      " 1.05415356 1.07415688 1.0934633  1.11207485 1.13016391 1.14797628\n",
      " 1.16575933 1.18371832 1.20199668 1.2206732  1.23977256 1.25927937\n",
      " 1.27915359 1.2993443  1.31979883 1.34046781]\n",
      "19 day output [[1.3613076]]\n",
      "20 day input [0.98594106 0.92531453 0.92172591 0.96474711 0.97572406 0.99159841\n",
      " 0.96972895 0.97614625 0.96795575 1.         0.99016297 0.99050072\n",
      " 0.96538039 0.98488559 0.97086887 0.94026007 0.87748037 0.83483915\n",
      " 0.85413324 0.77336823 0.77269273 0.88014017 0.84007431 0.89673225\n",
      " 0.85527316 0.83884995 0.74233725 0.82327113 0.78143207 0.6665963\n",
      " 0.7921557  0.64118044 0.68614371 0.66001013 0.65203074 0.58642236\n",
      " 0.56586169 0.66089673 0.65515494 0.70970193 0.66452757 0.69437642\n",
      " 0.69218104 0.63569197 0.65266402 0.63780292 0.7267162  0.71388162\n",
      " 0.74191506 0.75002111 0.77222832 0.83049059 0.8194292  0.8289707\n",
      " 0.8125475  0.78776492 0.75162543 0.78426074 0.77974331 0.81326522\n",
      " 0.8141096  0.79473106 0.83336148 0.85898843 0.83901883 0.85628641\n",
      " 0.87486279 0.88782403 0.90095415 0.92793211 0.948535   0.93333615\n",
      " 0.91746179 0.92544119 0.91771511 0.9483239  0.94064004 0.96635143\n",
      " 0.9563033  0.96491598 0.99825448 1.01409614 1.03378022 1.05415356\n",
      " 1.07415688 1.0934633  1.11207485 1.13016391 1.14797628 1.16575933\n",
      " 1.18371832 1.20199668 1.2206732  1.23977256 1.25927937 1.27915359\n",
      " 1.2993443  1.31979883 1.34046781 1.36130762]\n",
      "20 day output [[1.38228]]\n",
      "21 day input [0.92531453 0.92172591 0.96474711 0.97572406 0.99159841 0.96972895\n",
      " 0.97614625 0.96795575 1.         0.99016297 0.99050072 0.96538039\n",
      " 0.98488559 0.97086887 0.94026007 0.87748037 0.83483915 0.85413324\n",
      " 0.77336823 0.77269273 0.88014017 0.84007431 0.89673225 0.85527316\n",
      " 0.83884995 0.74233725 0.82327113 0.78143207 0.6665963  0.7921557\n",
      " 0.64118044 0.68614371 0.66001013 0.65203074 0.58642236 0.56586169\n",
      " 0.66089673 0.65515494 0.70970193 0.66452757 0.69437642 0.69218104\n",
      " 0.63569197 0.65266402 0.63780292 0.7267162  0.71388162 0.74191506\n",
      " 0.75002111 0.77222832 0.83049059 0.8194292  0.8289707  0.8125475\n",
      " 0.78776492 0.75162543 0.78426074 0.77974331 0.81326522 0.8141096\n",
      " 0.79473106 0.83336148 0.85898843 0.83901883 0.85628641 0.87486279\n",
      " 0.88782403 0.90095415 0.92793211 0.948535   0.93333615 0.91746179\n",
      " 0.92544119 0.91771511 0.9483239  0.94064004 0.96635143 0.9563033\n",
      " 0.96491598 0.99825448 1.01409614 1.03378022 1.05415356 1.07415688\n",
      " 1.0934633  1.11207485 1.13016391 1.14797628 1.16575933 1.18371832\n",
      " 1.20199668 1.2206732  1.23977256 1.25927937 1.27915359 1.2993443\n",
      " 1.31979883 1.34046781 1.36130762 1.38227999]\n",
      "21 day output [[1.40335]]\n",
      "22 day input [0.92172591 0.96474711 0.97572406 0.99159841 0.96972895 0.97614625\n",
      " 0.96795575 1.         0.99016297 0.99050072 0.96538039 0.98488559\n",
      " 0.97086887 0.94026007 0.87748037 0.83483915 0.85413324 0.77336823\n",
      " 0.77269273 0.88014017 0.84007431 0.89673225 0.85527316 0.83884995\n",
      " 0.74233725 0.82327113 0.78143207 0.6665963  0.7921557  0.64118044\n",
      " 0.68614371 0.66001013 0.65203074 0.58642236 0.56586169 0.66089673\n",
      " 0.65515494 0.70970193 0.66452757 0.69437642 0.69218104 0.63569197\n",
      " 0.65266402 0.63780292 0.7267162  0.71388162 0.74191506 0.75002111\n",
      " 0.77222832 0.83049059 0.8194292  0.8289707  0.8125475  0.78776492\n",
      " 0.75162543 0.78426074 0.77974331 0.81326522 0.8141096  0.79473106\n",
      " 0.83336148 0.85898843 0.83901883 0.85628641 0.87486279 0.88782403\n",
      " 0.90095415 0.92793211 0.948535   0.93333615 0.91746179 0.92544119\n",
      " 0.91771511 0.9483239  0.94064004 0.96635143 0.9563033  0.96491598\n",
      " 0.99825448 1.01409614 1.03378022 1.05415356 1.07415688 1.0934633\n",
      " 1.11207485 1.13016391 1.14797628 1.16575933 1.18371832 1.20199668\n",
      " 1.2206732  1.23977256 1.25927937 1.27915359 1.2993443  1.31979883\n",
      " 1.34046781 1.36130762 1.38227999 1.40335   ]\n",
      "22 day output [[1.4244857]]\n",
      "23 day input [0.96474711 0.97572406 0.99159841 0.96972895 0.97614625 0.96795575\n",
      " 1.         0.99016297 0.99050072 0.96538039 0.98488559 0.97086887\n",
      " 0.94026007 0.87748037 0.83483915 0.85413324 0.77336823 0.77269273\n",
      " 0.88014017 0.84007431 0.89673225 0.85527316 0.83884995 0.74233725\n",
      " 0.82327113 0.78143207 0.6665963  0.7921557  0.64118044 0.68614371\n",
      " 0.66001013 0.65203074 0.58642236 0.56586169 0.66089673 0.65515494\n",
      " 0.70970193 0.66452757 0.69437642 0.69218104 0.63569197 0.65266402\n",
      " 0.63780292 0.7267162  0.71388162 0.74191506 0.75002111 0.77222832\n",
      " 0.83049059 0.8194292  0.8289707  0.8125475  0.78776492 0.75162543\n",
      " 0.78426074 0.77974331 0.81326522 0.8141096  0.79473106 0.83336148\n",
      " 0.85898843 0.83901883 0.85628641 0.87486279 0.88782403 0.90095415\n",
      " 0.92793211 0.948535   0.93333615 0.91746179 0.92544119 0.91771511\n",
      " 0.9483239  0.94064004 0.96635143 0.9563033  0.96491598 0.99825448\n",
      " 1.01409614 1.03378022 1.05415356 1.07415688 1.0934633  1.11207485\n",
      " 1.13016391 1.14797628 1.16575933 1.18371832 1.20199668 1.2206732\n",
      " 1.23977256 1.25927937 1.27915359 1.2993443  1.31979883 1.34046781\n",
      " 1.36130762 1.38227999 1.40335    1.42448568]\n",
      "23 day output [[1.4456543]]\n",
      "24 day input [0.97572406 0.99159841 0.96972895 0.97614625 0.96795575 1.\n",
      " 0.99016297 0.99050072 0.96538039 0.98488559 0.97086887 0.94026007\n",
      " 0.87748037 0.83483915 0.85413324 0.77336823 0.77269273 0.88014017\n",
      " 0.84007431 0.89673225 0.85527316 0.83884995 0.74233725 0.82327113\n",
      " 0.78143207 0.6665963  0.7921557  0.64118044 0.68614371 0.66001013\n",
      " 0.65203074 0.58642236 0.56586169 0.66089673 0.65515494 0.70970193\n",
      " 0.66452757 0.69437642 0.69218104 0.63569197 0.65266402 0.63780292\n",
      " 0.7267162  0.71388162 0.74191506 0.75002111 0.77222832 0.83049059\n",
      " 0.8194292  0.8289707  0.8125475  0.78776492 0.75162543 0.78426074\n",
      " 0.77974331 0.81326522 0.8141096  0.79473106 0.83336148 0.85898843\n",
      " 0.83901883 0.85628641 0.87486279 0.88782403 0.90095415 0.92793211\n",
      " 0.948535   0.93333615 0.91746179 0.92544119 0.91771511 0.9483239\n",
      " 0.94064004 0.96635143 0.9563033  0.96491598 0.99825448 1.01409614\n",
      " 1.03378022 1.05415356 1.07415688 1.0934633  1.11207485 1.13016391\n",
      " 1.14797628 1.16575933 1.18371832 1.20199668 1.2206732  1.23977256\n",
      " 1.25927937 1.27915359 1.2993443  1.31979883 1.34046781 1.36130762\n",
      " 1.38227999 1.40335    1.42448568 1.44565427]\n",
      "24 day output [[1.466822]]\n",
      "25 day input [0.99159841 0.96972895 0.97614625 0.96795575 1.         0.99016297\n",
      " 0.99050072 0.96538039 0.98488559 0.97086887 0.94026007 0.87748037\n",
      " 0.83483915 0.85413324 0.77336823 0.77269273 0.88014017 0.84007431\n",
      " 0.89673225 0.85527316 0.83884995 0.74233725 0.82327113 0.78143207\n",
      " 0.6665963  0.7921557  0.64118044 0.68614371 0.66001013 0.65203074\n",
      " 0.58642236 0.56586169 0.66089673 0.65515494 0.70970193 0.66452757\n",
      " 0.69437642 0.69218104 0.63569197 0.65266402 0.63780292 0.7267162\n",
      " 0.71388162 0.74191506 0.75002111 0.77222832 0.83049059 0.8194292\n",
      " 0.8289707  0.8125475  0.78776492 0.75162543 0.78426074 0.77974331\n",
      " 0.81326522 0.8141096  0.79473106 0.83336148 0.85898843 0.83901883\n",
      " 0.85628641 0.87486279 0.88782403 0.90095415 0.92793211 0.948535\n",
      " 0.93333615 0.91746179 0.92544119 0.91771511 0.9483239  0.94064004\n",
      " 0.96635143 0.9563033  0.96491598 0.99825448 1.01409614 1.03378022\n",
      " 1.05415356 1.07415688 1.0934633  1.11207485 1.13016391 1.14797628\n",
      " 1.16575933 1.18371832 1.20199668 1.2206732  1.23977256 1.25927937\n",
      " 1.27915359 1.2993443  1.31979883 1.34046781 1.36130762 1.38227999\n",
      " 1.40335    1.42448568 1.44565427 1.46682203]\n",
      "25 day output [[1.4879538]]\n",
      "26 day input [0.96972895 0.97614625 0.96795575 1.         0.99016297 0.99050072\n",
      " 0.96538039 0.98488559 0.97086887 0.94026007 0.87748037 0.83483915\n",
      " 0.85413324 0.77336823 0.77269273 0.88014017 0.84007431 0.89673225\n",
      " 0.85527316 0.83884995 0.74233725 0.82327113 0.78143207 0.6665963\n",
      " 0.7921557  0.64118044 0.68614371 0.66001013 0.65203074 0.58642236\n",
      " 0.56586169 0.66089673 0.65515494 0.70970193 0.66452757 0.69437642\n",
      " 0.69218104 0.63569197 0.65266402 0.63780292 0.7267162  0.71388162\n",
      " 0.74191506 0.75002111 0.77222832 0.83049059 0.8194292  0.8289707\n",
      " 0.8125475  0.78776492 0.75162543 0.78426074 0.77974331 0.81326522\n",
      " 0.8141096  0.79473106 0.83336148 0.85898843 0.83901883 0.85628641\n",
      " 0.87486279 0.88782403 0.90095415 0.92793211 0.948535   0.93333615\n",
      " 0.91746179 0.92544119 0.91771511 0.9483239  0.94064004 0.96635143\n",
      " 0.9563033  0.96491598 0.99825448 1.01409614 1.03378022 1.05415356\n",
      " 1.07415688 1.0934633  1.11207485 1.13016391 1.14797628 1.16575933\n",
      " 1.18371832 1.20199668 1.2206732  1.23977256 1.25927937 1.27915359\n",
      " 1.2993443  1.31979883 1.34046781 1.36130762 1.38227999 1.40335\n",
      " 1.42448568 1.44565427 1.46682203 1.48795378]\n",
      "26 day output [[1.5090116]]\n",
      "27 day input [0.97614625 0.96795575 1.         0.99016297 0.99050072 0.96538039\n",
      " 0.98488559 0.97086887 0.94026007 0.87748037 0.83483915 0.85413324\n",
      " 0.77336823 0.77269273 0.88014017 0.84007431 0.89673225 0.85527316\n",
      " 0.83884995 0.74233725 0.82327113 0.78143207 0.6665963  0.7921557\n",
      " 0.64118044 0.68614371 0.66001013 0.65203074 0.58642236 0.56586169\n",
      " 0.66089673 0.65515494 0.70970193 0.66452757 0.69437642 0.69218104\n",
      " 0.63569197 0.65266402 0.63780292 0.7267162  0.71388162 0.74191506\n",
      " 0.75002111 0.77222832 0.83049059 0.8194292  0.8289707  0.8125475\n",
      " 0.78776492 0.75162543 0.78426074 0.77974331 0.81326522 0.8141096\n",
      " 0.79473106 0.83336148 0.85898843 0.83901883 0.85628641 0.87486279\n",
      " 0.88782403 0.90095415 0.92793211 0.948535   0.93333615 0.91746179\n",
      " 0.92544119 0.91771511 0.9483239  0.94064004 0.96635143 0.9563033\n",
      " 0.96491598 0.99825448 1.01409614 1.03378022 1.05415356 1.07415688\n",
      " 1.0934633  1.11207485 1.13016391 1.14797628 1.16575933 1.18371832\n",
      " 1.20199668 1.2206732  1.23977256 1.25927937 1.27915359 1.2993443\n",
      " 1.31979883 1.34046781 1.36130762 1.38227999 1.40335    1.42448568\n",
      " 1.44565427 1.46682203 1.48795378 1.50901163]\n",
      "27 day output [[1.5299555]]\n",
      "28 day input [0.96795575 1.         0.99016297 0.99050072 0.96538039 0.98488559\n",
      " 0.97086887 0.94026007 0.87748037 0.83483915 0.85413324 0.77336823\n",
      " 0.77269273 0.88014017 0.84007431 0.89673225 0.85527316 0.83884995\n",
      " 0.74233725 0.82327113 0.78143207 0.6665963  0.7921557  0.64118044\n",
      " 0.68614371 0.66001013 0.65203074 0.58642236 0.56586169 0.66089673\n",
      " 0.65515494 0.70970193 0.66452757 0.69437642 0.69218104 0.63569197\n",
      " 0.65266402 0.63780292 0.7267162  0.71388162 0.74191506 0.75002111\n",
      " 0.77222832 0.83049059 0.8194292  0.8289707  0.8125475  0.78776492\n",
      " 0.75162543 0.78426074 0.77974331 0.81326522 0.8141096  0.79473106\n",
      " 0.83336148 0.85898843 0.83901883 0.85628641 0.87486279 0.88782403\n",
      " 0.90095415 0.92793211 0.948535   0.93333615 0.91746179 0.92544119\n",
      " 0.91771511 0.9483239  0.94064004 0.96635143 0.9563033  0.96491598\n",
      " 0.99825448 1.01409614 1.03378022 1.05415356 1.07415688 1.0934633\n",
      " 1.11207485 1.13016391 1.14797628 1.16575933 1.18371832 1.20199668\n",
      " 1.2206732  1.23977256 1.25927937 1.27915359 1.2993443  1.31979883\n",
      " 1.34046781 1.36130762 1.38227999 1.40335    1.42448568 1.44565427\n",
      " 1.46682203 1.48795378 1.50901163 1.52995551]\n",
      "28 day output [[1.5507449]]\n",
      "29 day input [1.         0.99016297 0.99050072 0.96538039 0.98488559 0.97086887\n",
      " 0.94026007 0.87748037 0.83483915 0.85413324 0.77336823 0.77269273\n",
      " 0.88014017 0.84007431 0.89673225 0.85527316 0.83884995 0.74233725\n",
      " 0.82327113 0.78143207 0.6665963  0.7921557  0.64118044 0.68614371\n",
      " 0.66001013 0.65203074 0.58642236 0.56586169 0.66089673 0.65515494\n",
      " 0.70970193 0.66452757 0.69437642 0.69218104 0.63569197 0.65266402\n",
      " 0.63780292 0.7267162  0.71388162 0.74191506 0.75002111 0.77222832\n",
      " 0.83049059 0.8194292  0.8289707  0.8125475  0.78776492 0.75162543\n",
      " 0.78426074 0.77974331 0.81326522 0.8141096  0.79473106 0.83336148\n",
      " 0.85898843 0.83901883 0.85628641 0.87486279 0.88782403 0.90095415\n",
      " 0.92793211 0.948535   0.93333615 0.91746179 0.92544119 0.91771511\n",
      " 0.9483239  0.94064004 0.96635143 0.9563033  0.96491598 0.99825448\n",
      " 1.01409614 1.03378022 1.05415356 1.07415688 1.0934633  1.11207485\n",
      " 1.13016391 1.14797628 1.16575933 1.18371832 1.20199668 1.2206732\n",
      " 1.23977256 1.25927937 1.27915359 1.2993443  1.31979883 1.34046781\n",
      " 1.36130762 1.38227999 1.40335    1.42448568 1.44565427 1.46682203\n",
      " 1.48795378 1.50901163 1.52995551 1.55074489]\n",
      "29 day output [[1.5713371]]\n",
      "[[0.9982544779777527], [1.0140961408615112], [1.0337802171707153], [1.054153561592102], [1.0741568803787231], [1.0934633016586304], [1.112074851989746], [1.1301639080047607], [1.147976279258728], [1.1657593250274658], [1.1837183237075806], [1.2019966840744019], [1.2206732034683228], [1.2397725582122803], [1.2592793703079224], [1.27915358543396], [1.2993443012237549], [1.3197988271713257], [1.3404678106307983], [1.3613076210021973], [1.3822799921035767], [1.4033499956130981], [1.424485683441162], [1.445654273033142], [1.4668220281600952], [1.487953782081604], [1.5090116262435913], [1.529955506324768], [1.550744891166687], [1.571337103843689]]\n"
     ]
    }
   ],
   "source": [
    "# demonstrate prediction for next 30 days\n",
    "lst_output=[]\n",
    "n_steps=100\n",
    "i=0\n",
    "while(i<30):\n",
    "    \n",
    "    if(len(temp_input)>100):\n",
    "        #print(temp_input)\n",
    "        x_input = np.array(temp_input[1:])\n",
    "        print(\"{} day input {}\".format(i,x_input))\n",
    "        x_input = x_input.reshape(1,-1)\n",
    "        x_input = x_input.reshape((1, n_steps, 1))\n",
    "        # print(x_input)\n",
    "        yhat = model.predict(x_input, verbose=0)\n",
    "        print(\"{} day output {}\".format(i,yhat))\n",
    "        temp_input.extend(yhat[0].tolist())\n",
    "        temp_input=temp_input[1:]\n",
    "        # print(temp_input)\n",
    "        lst_output.extend(yhat.tolist())\n",
    "        i=i+1\n",
    "    else:\n",
    "        x_input = x_input.reshape((1, n_steps,1))\n",
    "        yhat = model.predict(x_input, verbose=0)\n",
    "        print(yhat[0])\n",
    "        temp_input.extend(yhat[0].tolist())\n",
    "        print(len(temp_input))\n",
    "        lst_output.extend(yhat.tolist())\n",
    "        i=i+1\n",
    "    \n",
    "\n",
    "print(lst_output)"
   ]
  },
  {
   "cell_type": "code",
   "execution_count": 39,
   "id": "involved-trust",
   "metadata": {
    "execution": {
     "iopub.execute_input": "2021-06-06T18:30:17.665611Z",
     "iopub.status.busy": "2021-06-06T18:30:17.665064Z",
     "iopub.status.idle": "2021-06-06T18:30:17.668917Z",
     "shell.execute_reply": "2021-06-06T18:30:17.668510Z",
     "shell.execute_reply.started": "2021-06-06T18:25:09.638848Z"
    },
    "papermill": {
     "duration": 0.143813,
     "end_time": "2021-06-06T18:30:17.669027",
     "exception": false,
     "start_time": "2021-06-06T18:30:17.525214",
     "status": "completed"
    },
    "tags": []
   },
   "outputs": [],
   "source": [
    "day_new=np.arange(1,101)"
   ]
  },
  {
   "cell_type": "code",
   "execution_count": 40,
   "id": "domestic-intake",
   "metadata": {
    "execution": {
     "iopub.execute_input": "2021-06-06T18:30:17.948350Z",
     "iopub.status.busy": "2021-06-06T18:30:17.947826Z",
     "iopub.status.idle": "2021-06-06T18:30:17.951591Z",
     "shell.execute_reply": "2021-06-06T18:30:17.951171Z",
     "shell.execute_reply.started": "2021-06-06T18:25:12.358940Z"
    },
    "papermill": {
     "duration": 0.145706,
     "end_time": "2021-06-06T18:30:17.951702",
     "exception": false,
     "start_time": "2021-06-06T18:30:17.805996",
     "status": "completed"
    },
    "tags": []
   },
   "outputs": [],
   "source": [
    "day_pred=np.arange(101,131)"
   ]
  },
  {
   "cell_type": "code",
   "execution_count": 41,
   "id": "touched-allocation",
   "metadata": {
    "execution": {
     "iopub.execute_input": "2021-06-06T18:30:18.252688Z",
     "iopub.status.busy": "2021-06-06T18:30:18.250495Z",
     "iopub.status.idle": "2021-06-06T18:30:18.351838Z",
     "shell.execute_reply": "2021-06-06T18:30:18.351279Z",
     "shell.execute_reply.started": "2021-06-06T18:28:58.199357Z"
    },
    "papermill": {
     "duration": 0.262499,
     "end_time": "2021-06-06T18:30:18.351962",
     "exception": false,
     "start_time": "2021-06-06T18:30:18.089463",
     "status": "completed"
    },
    "tags": []
   },
   "outputs": [
    {
     "data": {
      "text/plain": [
       "[<matplotlib.lines.Line2D at 0x7f8000619390>]"
      ]
     },
     "execution_count": 41,
     "metadata": {},
     "output_type": "execute_result"
    },
    {
     "data": {
      "image/png": "[encoded data removed]",
      "text/plain": [
       "<Figure size 432x288 with 1 Axes>"
      ]
     },
     "metadata": {
      "needs_background": "light"
     },
     "output_type": "display_data"
    }
   ],
   "source": [
    "plt.plot(day_new,scaler.inverse_transform(data1[1158:]) , color=\"green\")\n",
    "plt.plot(day_pred,scaler.inverse_transform(lst_output) , color = \"orange\")"
   ]
  },
  {
   "cell_type": "code",
   "execution_count": 42,
   "id": "strong-neighbor",
   "metadata": {
    "execution": {
     "iopub.execute_input": "2021-06-06T18:30:18.647150Z",
     "iopub.status.busy": "2021-06-06T18:30:18.646357Z",
     "iopub.status.idle": "2021-06-06T18:30:18.736267Z",
     "shell.execute_reply": "2021-06-06T18:30:18.736677Z",
     "shell.execute_reply.started": "2021-06-06T18:28:49.724047Z"
    },
    "papermill": {
     "duration": 0.246582,
     "end_time": "2021-06-06T18:30:18.736809",
     "exception": false,
     "start_time": "2021-06-06T18:30:18.490227",
     "status": "completed"
    },
    "tags": []
   },
   "outputs": [
    {
     "data": {
      "text/plain": [
       "[<matplotlib.lines.Line2D at 0x7f7f94498b10>]"
      ]
     },
     "execution_count": 42,
     "metadata": {},
     "output_type": "execute_result"
    },
    {
     "data": {
      "image/png": "[encoded data removed]",
      "text/plain": [
       "<Figure size 432x288 with 1 Axes>"
      ]
     },
     "metadata": {
      "needs_background": "light"
     },
     "output_type": "display_data"
    }
   ],
   "source": [
    "data3 = data1.tolist()\n",
    "data3.extend(lst_output)\n",
    "plt.plot(data3[1200:] , color = \"green\")"
   ]
  },
  {
   "cell_type": "code",
   "execution_count": null,
   "id": "wireless-bottle",
   "metadata": {
    "papermill": {
     "duration": 0.187372,
     "end_time": "2021-06-06T18:30:19.063112",
     "exception": false,
     "start_time": "2021-06-06T18:30:18.875740",
     "status": "completed"
    },
    "tags": []
   },
   "outputs": [],
   "source": []
  }
 ],
 "metadata": {
  "kernelspec": {
   "display_name": "Python 3",
   "language": "python",
   "name": "python3"
  },
  "language_info": {
   "codemirror_mode": {
    "name": "ipython",
    "version": 3
   },
   "file_extension": ".py",
   "mimetype": "text/x-python",
   "name": "python",
   "nbconvert_exporter": "python",
   "pygments_lexer": "ipython3",
   "version": "3.7.10"
  },
  "papermill": {
   "default_parameters": {},
   "duration": 56.751452,
   "end_time": "2021-06-06T18:30:21.110302",
   "environment_variables": {},
   "exception": null,
   "input_path": "__notebook__.ipynb",
   "output_path": "__notebook__.ipynb",
   "parameters": {},
   "start_time": "2021-06-06T18:29:24.358850",
   "version": "2.3.3"
  }
 },
 "nbformat": 4,
 "nbformat_minor": 5
}
