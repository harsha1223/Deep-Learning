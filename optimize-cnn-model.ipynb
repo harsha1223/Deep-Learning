{
 "cells": [
  {
   "cell_type": "markdown",
   "id": "devoted-scott",
   "metadata": {
    "papermill": {
     "duration": 0.016026,
     "end_time": "2021-06-03T10:46:51.389898",
     "exception": false,
     "start_time": "2021-06-03T10:46:51.373872",
     "status": "completed"
    },
    "tags": []
   },
   "source": [
    "# IMPORTING THE LIBRARIES"
   ]
  },
  {
   "cell_type": "code",
   "execution_count": 1,
   "id": "interim-february",
   "metadata": {
    "execution": {
     "iopub.execute_input": "2021-06-03T10:46:51.432277Z",
     "iopub.status.busy": "2021-06-03T10:46:51.431534Z",
     "iopub.status.idle": "2021-06-03T10:46:57.247769Z",
     "shell.execute_reply": "2021-06-03T10:46:57.247063Z",
     "shell.execute_reply.started": "2021-06-03T10:21:57.420805Z"
    },
    "papermill": {
     "duration": 5.843331,
     "end_time": "2021-06-03T10:46:57.247949",
     "exception": false,
     "start_time": "2021-06-03T10:46:51.404618",
     "status": "completed"
    },
    "tags": []
   },
   "outputs": [],
   "source": [
    "import tensorflow as tf\n",
    "from tensorflow import keras\n",
    "import numpy as np"
   ]
  },
  {
   "cell_type": "markdown",
   "id": "relevant-middle",
   "metadata": {
    "papermill": {
     "duration": 0.014849,
     "end_time": "2021-06-03T10:46:57.277840",
     "exception": false,
     "start_time": "2021-06-03T10:46:57.262991",
     "status": "completed"
    },
    "tags": []
   },
   "source": [
    "# IMPORTING THE DATASET"
   ]
  },
  {
   "cell_type": "code",
   "execution_count": 2,
   "id": "signal-playing",
   "metadata": {
    "execution": {
     "iopub.execute_input": "2021-06-03T10:46:57.314105Z",
     "iopub.status.busy": "2021-06-03T10:46:57.311762Z",
     "iopub.status.idle": "2021-06-03T10:46:57.315000Z",
     "shell.execute_reply": "2021-06-03T10:46:57.315552Z",
     "shell.execute_reply.started": "2021-06-03T10:22:03.330953Z"
    },
    "papermill": {
     "duration": 0.022903,
     "end_time": "2021-06-03T10:46:57.315699",
     "exception": false,
     "start_time": "2021-06-03T10:46:57.292796",
     "status": "completed"
    },
    "tags": []
   },
   "outputs": [],
   "source": [
    "fashion_mnist = keras.datasets.fashion_mnist"
   ]
  },
  {
   "cell_type": "code",
   "execution_count": 3,
   "id": "joint-assets",
   "metadata": {
    "execution": {
     "iopub.execute_input": "2021-06-03T10:46:57.349691Z",
     "iopub.status.busy": "2021-06-03T10:46:57.349011Z",
     "iopub.status.idle": "2021-06-03T10:46:59.218578Z",
     "shell.execute_reply": "2021-06-03T10:46:59.217558Z",
     "shell.execute_reply.started": "2021-06-03T10:22:03.343078Z"
    },
    "papermill": {
     "duration": 1.888571,
     "end_time": "2021-06-03T10:46:59.218763",
     "exception": false,
     "start_time": "2021-06-03T10:46:57.330192",
     "status": "completed"
    },
    "tags": []
   },
   "outputs": [
    {
     "name": "stdout",
     "output_type": "stream",
     "text": [
      "Downloading data from https://storage.googleapis.com/tensorflow/tf-keras-datasets/train-labels-idx1-ubyte.gz\n",
      "32768/29515 [=================================] - 0s 0us/step\n",
      "Downloading data from https://storage.googleapis.com/tensorflow/tf-keras-datasets/train-images-idx3-ubyte.gz\n",
      "26427392/26421880 [==============================] - 0s 0us/step\n",
      "Downloading data from https://storage.googleapis.com/tensorflow/tf-keras-datasets/t10k-labels-idx1-ubyte.gz\n",
      "8192/5148 [===============================================] - 0s 0us/step\n",
      "Downloading data from https://storage.googleapis.com/tensorflow/tf-keras-datasets/t10k-images-idx3-ubyte.gz\n",
      "4423680/4422102 [==============================] - 0s 0us/step\n"
     ]
    }
   ],
   "source": [
    "(train_images,train_labels),(test_images,test_labels) = fashion_mnist.load_data()"
   ]
  },
  {
   "cell_type": "code",
   "execution_count": 4,
   "id": "defined-consequence",
   "metadata": {
    "execution": {
     "iopub.execute_input": "2021-06-03T10:46:59.264867Z",
     "iopub.status.busy": "2021-06-03T10:46:59.263719Z",
     "iopub.status.idle": "2021-06-03T10:46:59.438167Z",
     "shell.execute_reply": "2021-06-03T10:46:59.437618Z",
     "shell.execute_reply.started": "2021-06-03T10:22:05.473858Z"
    },
    "papermill": {
     "duration": 0.198831,
     "end_time": "2021-06-03T10:46:59.438319",
     "exception": false,
     "start_time": "2021-06-03T10:46:59.239488",
     "status": "completed"
    },
    "tags": []
   },
   "outputs": [],
   "source": [
    "# scaling : \n",
    "train_images=train_images/255.0"
   ]
  },
  {
   "cell_type": "code",
   "execution_count": 5,
   "id": "variable-bowling",
   "metadata": {
    "execution": {
     "iopub.execute_input": "2021-06-03T10:46:59.483433Z",
     "iopub.status.busy": "2021-06-03T10:46:59.482256Z",
     "iopub.status.idle": "2021-06-03T10:46:59.515086Z",
     "shell.execute_reply": "2021-06-03T10:46:59.514492Z",
     "shell.execute_reply.started": "2021-06-03T10:22:05.658904Z"
    },
    "papermill": {
     "duration": 0.056574,
     "end_time": "2021-06-03T10:46:59.515247",
     "exception": false,
     "start_time": "2021-06-03T10:46:59.458673",
     "status": "completed"
    },
    "tags": []
   },
   "outputs": [],
   "source": [
    "test_images=test_images/255.0"
   ]
  },
  {
   "cell_type": "code",
   "execution_count": 6,
   "id": "early-salon",
   "metadata": {
    "execution": {
     "iopub.execute_input": "2021-06-03T10:46:59.563731Z",
     "iopub.status.busy": "2021-06-03T10:46:59.562921Z",
     "iopub.status.idle": "2021-06-03T10:46:59.568191Z",
     "shell.execute_reply": "2021-06-03T10:46:59.568702Z",
     "shell.execute_reply.started": "2021-06-03T10:22:05.697562Z"
    },
    "papermill": {
     "duration": 0.033172,
     "end_time": "2021-06-03T10:46:59.568852",
     "exception": false,
     "start_time": "2021-06-03T10:46:59.535680",
     "status": "completed"
    },
    "tags": []
   },
   "outputs": [
    {
     "data": {
      "text/plain": [
       "(28, 28)"
      ]
     },
     "execution_count": 6,
     "metadata": {},
     "output_type": "execute_result"
    }
   ],
   "source": [
    "train_images[0].shape"
   ]
  },
  {
   "cell_type": "code",
   "execution_count": 7,
   "id": "subtle-divorce",
   "metadata": {
    "execution": {
     "iopub.execute_input": "2021-06-03T10:46:59.614577Z",
     "iopub.status.busy": "2021-06-03T10:46:59.613608Z",
     "iopub.status.idle": "2021-06-03T10:46:59.617089Z",
     "shell.execute_reply": "2021-06-03T10:46:59.616583Z",
     "shell.execute_reply.started": "2021-06-03T10:22:05.710511Z"
    },
    "papermill": {
     "duration": 0.027486,
     "end_time": "2021-06-03T10:46:59.617218",
     "exception": false,
     "start_time": "2021-06-03T10:46:59.589732",
     "status": "completed"
    },
    "tags": []
   },
   "outputs": [],
   "source": [
    "train_images=train_images.reshape(len(train_images),28,28,1)"
   ]
  },
  {
   "cell_type": "code",
   "execution_count": 8,
   "id": "developmental-cemetery",
   "metadata": {
    "execution": {
     "iopub.execute_input": "2021-06-03T10:46:59.662553Z",
     "iopub.status.busy": "2021-06-03T10:46:59.661585Z",
     "iopub.status.idle": "2021-06-03T10:46:59.665127Z",
     "shell.execute_reply": "2021-06-03T10:46:59.664499Z",
     "shell.execute_reply.started": "2021-06-03T10:22:05.72167Z"
    },
    "papermill": {
     "duration": 0.027735,
     "end_time": "2021-06-03T10:46:59.665254",
     "exception": false,
     "start_time": "2021-06-03T10:46:59.637519",
     "status": "completed"
    },
    "tags": []
   },
   "outputs": [],
   "source": [
    "test_images=test_images.reshape(len(test_images),28,28,1)"
   ]
  },
  {
   "cell_type": "code",
   "execution_count": 9,
   "id": "enhanced-jewelry",
   "metadata": {
    "execution": {
     "iopub.execute_input": "2021-06-03T10:46:59.714870Z",
     "iopub.status.busy": "2021-06-03T10:46:59.713915Z",
     "iopub.status.idle": "2021-06-03T10:46:59.717459Z",
     "shell.execute_reply": "2021-06-03T10:46:59.716925Z",
     "shell.execute_reply.started": "2021-06-03T10:22:05.732028Z"
    },
    "papermill": {
     "duration": 0.032131,
     "end_time": "2021-06-03T10:46:59.717589",
     "exception": false,
     "start_time": "2021-06-03T10:46:59.685458",
     "status": "completed"
    },
    "tags": []
   },
   "outputs": [],
   "source": [
    "def build_model(hp):  \n",
    "  model = keras.Sequential([\n",
    "    keras.layers.Conv2D(\n",
    "        filters=hp.Int('conv_1_filter', min_value=32, max_value=128, step=16),\n",
    "        kernel_size=hp.Choice('conv_1_kernel', values = [3,5]),\n",
    "        activation='relu',\n",
    "        input_shape=(28,28,1)\n",
    "    ),\n",
    "    keras.layers.Conv2D(\n",
    "        filters=hp.Int('conv_2_filter', min_value=32, max_value=64, step=16),\n",
    "        kernel_size=hp.Choice('conv_2_kernel', values = [3,5]),\n",
    "        activation='relu'\n",
    "    ),\n",
    "    keras.layers.Flatten(),\n",
    "    keras.layers.Dense(\n",
    "        units=hp.Int('dense_1_units', min_value=32, max_value=128, step=16),\n",
    "        activation='relu'\n",
    "    ),\n",
    "    keras.layers.Dense(10, activation='softmax')\n",
    "  ])\n",
    "  \n",
    "  model.compile(optimizer=keras.optimizers.Adam(hp.Choice('learning_rate', values=[1e-2, 1e-3])),\n",
    "              loss='sparse_categorical_crossentropy',\n",
    "              metrics=['accuracy'])\n",
    "  \n",
    "  return model"
   ]
  },
  {
   "cell_type": "code",
   "execution_count": 10,
   "id": "assured-arthritis",
   "metadata": {
    "execution": {
     "iopub.execute_input": "2021-06-03T10:46:59.762252Z",
     "iopub.status.busy": "2021-06-03T10:46:59.761514Z",
     "iopub.status.idle": "2021-06-03T10:47:00.460232Z",
     "shell.execute_reply": "2021-06-03T10:47:00.459656Z",
     "shell.execute_reply.started": "2021-06-03T10:22:05.747307Z"
    },
    "papermill": {
     "duration": 0.722604,
     "end_time": "2021-06-03T10:47:00.460439",
     "exception": false,
     "start_time": "2021-06-03T10:46:59.737835",
     "status": "completed"
    },
    "tags": []
   },
   "outputs": [],
   "source": [
    "from kerastuner import RandomSearch\n",
    "from kerastuner.engine.hyperparameters import HyperParameters"
   ]
  },
  {
   "cell_type": "code",
   "execution_count": 11,
   "id": "ready-cartridge",
   "metadata": {
    "execution": {
     "iopub.execute_input": "2021-06-03T10:47:00.509918Z",
     "iopub.status.busy": "2021-06-03T10:47:00.509052Z",
     "iopub.status.idle": "2021-06-03T10:47:03.031150Z",
     "shell.execute_reply": "2021-06-03T10:47:03.030577Z",
     "shell.execute_reply.started": "2021-06-03T10:22:06.490133Z"
    },
    "papermill": {
     "duration": 2.550047,
     "end_time": "2021-06-03T10:47:03.031304",
     "exception": false,
     "start_time": "2021-06-03T10:47:00.481257",
     "status": "completed"
    },
    "tags": []
   },
   "outputs": [],
   "source": [
    "tuner_search = RandomSearch(build_model,objective='val_accuracy',max_trials=5,directory='output',project_name=\"Mnist Fashion\")"
   ]
  },
  {
   "cell_type": "code",
   "execution_count": 12,
   "id": "ongoing-credit",
   "metadata": {
    "execution": {
     "iopub.execute_input": "2021-06-03T10:47:03.079195Z",
     "iopub.status.busy": "2021-06-03T10:47:03.078539Z",
     "iopub.status.idle": "2021-06-03T10:51:45.143927Z",
     "shell.execute_reply": "2021-06-03T10:51:45.144824Z",
     "shell.execute_reply.started": "2021-06-03T10:22:09.679187Z"
    },
    "papermill": {
     "duration": 282.092346,
     "end_time": "2021-06-03T10:51:45.145092",
     "exception": false,
     "start_time": "2021-06-03T10:47:03.052746",
     "status": "completed"
    },
    "tags": []
   },
   "outputs": [
    {
     "name": "stdout",
     "output_type": "stream",
     "text": [
      "Trial 5 Complete [00h 00m 41s]\n",
      "val_accuracy: 0.8999999761581421\n",
      "\n",
      "Best val_accuracy So Far: 0.9086666703224182\n",
      "Total elapsed time: 00h 04m 42s\n"
     ]
    }
   ],
   "source": [
    "tuner_search.search(train_images,train_labels,epochs=3,validation_split=0.1)"
   ]
  },
  {
   "cell_type": "code",
   "execution_count": 13,
   "id": "wrapped-tsunami",
   "metadata": {
    "execution": {
     "iopub.execute_input": "2021-06-03T10:51:45.362457Z",
     "iopub.status.busy": "2021-06-03T10:51:45.193425Z",
     "iopub.status.idle": "2021-06-03T10:51:45.487004Z",
     "shell.execute_reply": "2021-06-03T10:51:45.485946Z",
     "shell.execute_reply.started": "2021-06-03T10:24:00.452812Z"
    },
    "papermill": {
     "duration": 0.319874,
     "end_time": "2021-06-03T10:51:45.487179",
     "exception": false,
     "start_time": "2021-06-03T10:51:45.167305",
     "status": "completed"
    },
    "tags": []
   },
   "outputs": [],
   "source": [
    "model = tuner_search.get_best_models(num_models=1)[0]"
   ]
  },
  {
   "cell_type": "code",
   "execution_count": 14,
   "id": "expired-present",
   "metadata": {
    "execution": {
     "iopub.execute_input": "2021-06-03T10:51:45.541123Z",
     "iopub.status.busy": "2021-06-03T10:51:45.540144Z",
     "iopub.status.idle": "2021-06-03T10:51:45.545954Z",
     "shell.execute_reply": "2021-06-03T10:51:45.545434Z",
     "shell.execute_reply.started": "2021-06-03T10:24:00.85743Z"
    },
    "papermill": {
     "duration": 0.037164,
     "end_time": "2021-06-03T10:51:45.546084",
     "exception": false,
     "start_time": "2021-06-03T10:51:45.508920",
     "status": "completed"
    },
    "tags": []
   },
   "outputs": [
    {
     "name": "stdout",
     "output_type": "stream",
     "text": [
      "Model: \"sequential\"\n",
      "_________________________________________________________________\n",
      "Layer (type)                 Output Shape              Param #   \n",
      "=================================================================\n",
      "conv2d (Conv2D)              (None, 24, 24, 96)        2496      \n",
      "_________________________________________________________________\n",
      "conv2d_1 (Conv2D)            (None, 20, 20, 48)        115248    \n",
      "_________________________________________________________________\n",
      "flatten (Flatten)            (None, 19200)             0         \n",
      "_________________________________________________________________\n",
      "dense (Dense)                (None, 48)                921648    \n",
      "_________________________________________________________________\n",
      "dense_1 (Dense)              (None, 10)                490       \n",
      "=================================================================\n",
      "Total params: 1,039,882\n",
      "Trainable params: 1,039,882\n",
      "Non-trainable params: 0\n",
      "_________________________________________________________________\n"
     ]
    }
   ],
   "source": [
    "model.summary()"
   ]
  },
  {
   "cell_type": "code",
   "execution_count": 15,
   "id": "traditional-massage",
   "metadata": {
    "execution": {
     "iopub.execute_input": "2021-06-03T10:51:45.595049Z",
     "iopub.status.busy": "2021-06-03T10:51:45.594341Z",
     "iopub.status.idle": "2021-06-03T10:54:18.219368Z",
     "shell.execute_reply": "2021-06-03T10:54:18.218525Z",
     "shell.execute_reply.started": "2021-06-03T10:24:00.878661Z"
    },
    "papermill": {
     "duration": 152.651475,
     "end_time": "2021-06-03T10:54:18.219542",
     "exception": false,
     "start_time": "2021-06-03T10:51:45.568067",
     "status": "completed"
    },
    "tags": []
   },
   "outputs": [
    {
     "name": "stdout",
     "output_type": "stream",
     "text": [
      "Epoch 4/10\n",
      "1688/1688 [==============================] - 22s 13ms/step - loss: 0.1788 - accuracy: 0.9338 - val_loss: 0.2815 - val_accuracy: 0.9048\n",
      "Epoch 5/10\n",
      "1688/1688 [==============================] - 22s 13ms/step - loss: 0.1478 - accuracy: 0.9441 - val_loss: 0.2871 - val_accuracy: 0.9067\n",
      "Epoch 6/10\n",
      "1688/1688 [==============================] - 22s 13ms/step - loss: 0.1089 - accuracy: 0.9589 - val_loss: 0.2896 - val_accuracy: 0.9097\n",
      "Epoch 7/10\n",
      "1688/1688 [==============================] - 22s 13ms/step - loss: 0.0929 - accuracy: 0.9664 - val_loss: 0.3528 - val_accuracy: 0.9080\n",
      "Epoch 8/10\n",
      "1688/1688 [==============================] - 22s 13ms/step - loss: 0.0710 - accuracy: 0.9746 - val_loss: 0.3475 - val_accuracy: 0.9110\n",
      "Epoch 9/10\n",
      "1688/1688 [==============================] - 22s 13ms/step - loss: 0.0622 - accuracy: 0.9778 - val_loss: 0.3970 - val_accuracy: 0.9063\n",
      "Epoch 10/10\n",
      "1688/1688 [==============================] - 22s 13ms/step - loss: 0.0471 - accuracy: 0.9829 - val_loss: 0.4131 - val_accuracy: 0.9073\n"
     ]
    },
    {
     "data": {
      "text/plain": [
       "<tensorflow.python.keras.callbacks.History at 0x7f588c3cda10>"
      ]
     },
     "execution_count": 15,
     "metadata": {},
     "output_type": "execute_result"
    }
   ],
   "source": [
    "model.fit(train_images, train_labels, epochs=10, validation_split=0.1, initial_epoch=3)"
   ]
  }
 ],
 "metadata": {
  "kernelspec": {
   "display_name": "Python 3",
   "language": "python",
   "name": "python3"
  },
  "language_info": {
   "codemirror_mode": {
    "name": "ipython",
    "version": 3
   },
   "file_extension": ".py",
   "mimetype": "text/x-python",
   "name": "python",
   "nbconvert_exporter": "python",
   "pygments_lexer": "ipython3",
   "version": "3.7.10"
  },
  "papermill": {
   "default_parameters": {},
   "duration": 458.974138,
   "end_time": "2021-06-03T10:54:22.185748",
   "environment_variables": {},
   "exception": null,
   "input_path": "__notebook__.ipynb",
   "output_path": "__notebook__.ipynb",
   "parameters": {},
   "start_time": "2021-06-03T10:46:43.211610",
   "version": "2.3.3"
  }
 },
 "nbformat": 4,
 "nbformat_minor": 5
}
