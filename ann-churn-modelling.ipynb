{
 "cells": [
  {
   "cell_type": "markdown",
   "id": "critical-gathering",
   "metadata": {
    "papermill": {
     "duration": 0.033777,
     "end_time": "2021-05-27T14:27:50.043386",
     "exception": false,
     "start_time": "2021-05-27T14:27:50.009609",
     "status": "completed"
    },
    "tags": []
   },
   "source": [
    "# IMPORTING THE LIBRARIES "
   ]
  },
  {
   "cell_type": "code",
   "execution_count": 1,
   "id": "smoking-property",
   "metadata": {
    "execution": {
     "iopub.execute_input": "2021-05-27T14:27:50.117235Z",
     "iopub.status.busy": "2021-05-27T14:27:50.115547Z",
     "iopub.status.idle": "2021-05-27T14:27:50.120551Z",
     "shell.execute_reply": "2021-05-27T14:27:50.121024Z",
     "shell.execute_reply.started": "2021-05-27T13:12:13.384283Z"
    },
    "papermill": {
     "duration": 0.042726,
     "end_time": "2021-05-27T14:27:50.121310",
     "exception": false,
     "start_time": "2021-05-27T14:27:50.078584",
     "status": "completed"
    },
    "tags": []
   },
   "outputs": [],
   "source": [
    "import numpy as np\n",
    "import matplotlib.pyplot as plt\n",
    "import pandas as pd"
   ]
  },
  {
   "cell_type": "markdown",
   "id": "intimate-north",
   "metadata": {
    "papermill": {
     "duration": 0.031994,
     "end_time": "2021-05-27T14:27:50.188334",
     "exception": false,
     "start_time": "2021-05-27T14:27:50.156340",
     "status": "completed"
    },
    "tags": []
   },
   "source": [
    "# IMPORTING THE DATASET"
   ]
  },
  {
   "cell_type": "code",
   "execution_count": 2,
   "id": "single-integration",
   "metadata": {
    "execution": {
     "iopub.execute_input": "2021-05-27T14:27:50.258213Z",
     "iopub.status.busy": "2021-05-27T14:27:50.257542Z",
     "iopub.status.idle": "2021-05-27T14:27:50.304418Z",
     "shell.execute_reply": "2021-05-27T14:27:50.304982Z",
     "shell.execute_reply.started": "2021-05-27T13:12:21.251337Z"
    },
    "papermill": {
     "duration": 0.08458,
     "end_time": "2021-05-27T14:27:50.305177",
     "exception": false,
     "start_time": "2021-05-27T14:27:50.220597",
     "status": "completed"
    },
    "tags": []
   },
   "outputs": [],
   "source": [
    "data = pd.read_csv('../input/churn-modelling/Churn_Modelling.csv')"
   ]
  },
  {
   "cell_type": "code",
   "execution_count": 3,
   "id": "creative-shirt",
   "metadata": {
    "execution": {
     "iopub.execute_input": "2021-05-27T14:27:50.375951Z",
     "iopub.status.busy": "2021-05-27T14:27:50.374958Z",
     "iopub.status.idle": "2021-05-27T14:27:50.411815Z",
     "shell.execute_reply": "2021-05-27T14:27:50.412430Z",
     "shell.execute_reply.started": "2021-05-27T13:13:00.508432Z"
    },
    "papermill": {
     "duration": 0.073227,
     "end_time": "2021-05-27T14:27:50.412604",
     "exception": false,
     "start_time": "2021-05-27T14:27:50.339377",
     "status": "completed"
    },
    "tags": []
   },
   "outputs": [
    {
     "data": {
      "text/html": [
       "<div>\n",
       "<style scoped>\n",
       "    .dataframe tbody tr th:only-of-type {\n",
       "        vertical-align: middle;\n",
       "    }\n",
       "\n",
       "    .dataframe tbody tr th {\n",
       "        vertical-align: top;\n",
       "    }\n",
       "\n",
       "    .dataframe thead th {\n",
       "        text-align: right;\n",
       "    }\n",
       "</style>\n",
       "<table border=\"1\" class=\"dataframe\">\n",
       "  <thead>\n",
       "    <tr style=\"text-align: right;\">\n",
       "      <th></th>\n",
       "      <th>RowNumber</th>\n",
       "      <th>CustomerId</th>\n",
       "      <th>Surname</th>\n",
       "      <th>CreditScore</th>\n",
       "      <th>Geography</th>\n",
       "      <th>Gender</th>\n",
       "      <th>Age</th>\n",
       "      <th>Tenure</th>\n",
       "      <th>Balance</th>\n",
       "      <th>NumOfProducts</th>\n",
       "      <th>HasCrCard</th>\n",
       "      <th>IsActiveMember</th>\n",
       "      <th>EstimatedSalary</th>\n",
       "      <th>Exited</th>\n",
       "    </tr>\n",
       "  </thead>\n",
       "  <tbody>\n",
       "    <tr>\n",
       "      <th>0</th>\n",
       "      <td>1</td>\n",
       "      <td>15634602</td>\n",
       "      <td>Hargrave</td>\n",
       "      <td>619</td>\n",
       "      <td>France</td>\n",
       "      <td>Female</td>\n",
       "      <td>42</td>\n",
       "      <td>2</td>\n",
       "      <td>0.00</td>\n",
       "      <td>1</td>\n",
       "      <td>1</td>\n",
       "      <td>1</td>\n",
       "      <td>101348.88</td>\n",
       "      <td>1</td>\n",
       "    </tr>\n",
       "    <tr>\n",
       "      <th>1</th>\n",
       "      <td>2</td>\n",
       "      <td>15647311</td>\n",
       "      <td>Hill</td>\n",
       "      <td>608</td>\n",
       "      <td>Spain</td>\n",
       "      <td>Female</td>\n",
       "      <td>41</td>\n",
       "      <td>1</td>\n",
       "      <td>83807.86</td>\n",
       "      <td>1</td>\n",
       "      <td>0</td>\n",
       "      <td>1</td>\n",
       "      <td>112542.58</td>\n",
       "      <td>0</td>\n",
       "    </tr>\n",
       "    <tr>\n",
       "      <th>2</th>\n",
       "      <td>3</td>\n",
       "      <td>15619304</td>\n",
       "      <td>Onio</td>\n",
       "      <td>502</td>\n",
       "      <td>France</td>\n",
       "      <td>Female</td>\n",
       "      <td>42</td>\n",
       "      <td>8</td>\n",
       "      <td>159660.80</td>\n",
       "      <td>3</td>\n",
       "      <td>1</td>\n",
       "      <td>0</td>\n",
       "      <td>113931.57</td>\n",
       "      <td>1</td>\n",
       "    </tr>\n",
       "    <tr>\n",
       "      <th>3</th>\n",
       "      <td>4</td>\n",
       "      <td>15701354</td>\n",
       "      <td>Boni</td>\n",
       "      <td>699</td>\n",
       "      <td>France</td>\n",
       "      <td>Female</td>\n",
       "      <td>39</td>\n",
       "      <td>1</td>\n",
       "      <td>0.00</td>\n",
       "      <td>2</td>\n",
       "      <td>0</td>\n",
       "      <td>0</td>\n",
       "      <td>93826.63</td>\n",
       "      <td>0</td>\n",
       "    </tr>\n",
       "    <tr>\n",
       "      <th>4</th>\n",
       "      <td>5</td>\n",
       "      <td>15737888</td>\n",
       "      <td>Mitchell</td>\n",
       "      <td>850</td>\n",
       "      <td>Spain</td>\n",
       "      <td>Female</td>\n",
       "      <td>43</td>\n",
       "      <td>2</td>\n",
       "      <td>125510.82</td>\n",
       "      <td>1</td>\n",
       "      <td>1</td>\n",
       "      <td>1</td>\n",
       "      <td>79084.10</td>\n",
       "      <td>0</td>\n",
       "    </tr>\n",
       "  </tbody>\n",
       "</table>\n",
       "</div>"
      ],
      "text/plain": [
       "   RowNumber  CustomerId   Surname  CreditScore Geography  Gender  Age  \\\n",
       "0          1    15634602  Hargrave          619    France  Female   42   \n",
       "1          2    15647311      Hill          608     Spain  Female   41   \n",
       "2          3    15619304      Onio          502    France  Female   42   \n",
       "3          4    15701354      Boni          699    France  Female   39   \n",
       "4          5    15737888  Mitchell          850     Spain  Female   43   \n",
       "\n",
       "   Tenure    Balance  NumOfProducts  HasCrCard  IsActiveMember  \\\n",
       "0       2       0.00              1          1               1   \n",
       "1       1   83807.86              1          0               1   \n",
       "2       8  159660.80              3          1               0   \n",
       "3       1       0.00              2          0               0   \n",
       "4       2  125510.82              1          1               1   \n",
       "\n",
       "   EstimatedSalary  Exited  \n",
       "0        101348.88       1  \n",
       "1        112542.58       0  \n",
       "2        113931.57       1  \n",
       "3         93826.63       0  \n",
       "4         79084.10       0  "
      ]
     },
     "execution_count": 3,
     "metadata": {},
     "output_type": "execute_result"
    }
   ],
   "source": [
    "data.head()"
   ]
  },
  {
   "cell_type": "markdown",
   "id": "thousand-questionnaire",
   "metadata": {
    "papermill": {
     "duration": 0.032776,
     "end_time": "2021-05-27T14:27:50.478154",
     "exception": false,
     "start_time": "2021-05-27T14:27:50.445378",
     "status": "completed"
    },
    "tags": []
   },
   "source": [
    "*we have to predict the customer in the bank that will be exited in the future or not.*"
   ]
  },
  {
   "cell_type": "code",
   "execution_count": 4,
   "id": "applicable-ghost",
   "metadata": {
    "execution": {
     "iopub.execute_input": "2021-05-27T14:27:50.547136Z",
     "iopub.status.busy": "2021-05-27T14:27:50.546168Z",
     "iopub.status.idle": "2021-05-27T14:27:50.551344Z",
     "shell.execute_reply": "2021-05-27T14:27:50.551856Z",
     "shell.execute_reply.started": "2021-05-27T13:16:21.201872Z"
    },
    "papermill": {
     "duration": 0.041327,
     "end_time": "2021-05-27T14:27:50.552048",
     "exception": false,
     "start_time": "2021-05-27T14:27:50.510721",
     "status": "completed"
    },
    "tags": []
   },
   "outputs": [],
   "source": [
    "# independent feature:\n",
    "X = data.iloc[:, 3:13]"
   ]
  },
  {
   "cell_type": "code",
   "execution_count": 5,
   "id": "pointed-mongolia",
   "metadata": {
    "execution": {
     "iopub.execute_input": "2021-05-27T14:27:50.621870Z",
     "iopub.status.busy": "2021-05-27T14:27:50.619807Z",
     "iopub.status.idle": "2021-05-27T14:27:50.624948Z",
     "shell.execute_reply": "2021-05-27T14:27:50.624286Z",
     "shell.execute_reply.started": "2021-05-27T13:16:28.361668Z"
    },
    "papermill": {
     "duration": 0.040619,
     "end_time": "2021-05-27T14:27:50.625102",
     "exception": false,
     "start_time": "2021-05-27T14:27:50.584483",
     "status": "completed"
    },
    "tags": []
   },
   "outputs": [],
   "source": [
    "# dependent feature :\n",
    "y = data.iloc[:, 13]"
   ]
  },
  {
   "cell_type": "code",
   "execution_count": 6,
   "id": "innovative-argentina",
   "metadata": {
    "execution": {
     "iopub.execute_input": "2021-05-27T14:27:50.705715Z",
     "iopub.status.busy": "2021-05-27T14:27:50.704922Z",
     "iopub.status.idle": "2021-05-27T14:27:50.708139Z",
     "shell.execute_reply": "2021-05-27T14:27:50.708883Z",
     "shell.execute_reply.started": "2021-05-27T13:16:34.652585Z"
    },
    "papermill": {
     "duration": 0.051334,
     "end_time": "2021-05-27T14:27:50.709100",
     "exception": false,
     "start_time": "2021-05-27T14:27:50.657766",
     "status": "completed"
    },
    "tags": []
   },
   "outputs": [
    {
     "data": {
      "text/html": [
       "<div>\n",
       "<style scoped>\n",
       "    .dataframe tbody tr th:only-of-type {\n",
       "        vertical-align: middle;\n",
       "    }\n",
       "\n",
       "    .dataframe tbody tr th {\n",
       "        vertical-align: top;\n",
       "    }\n",
       "\n",
       "    .dataframe thead th {\n",
       "        text-align: right;\n",
       "    }\n",
       "</style>\n",
       "<table border=\"1\" class=\"dataframe\">\n",
       "  <thead>\n",
       "    <tr style=\"text-align: right;\">\n",
       "      <th></th>\n",
       "      <th>CreditScore</th>\n",
       "      <th>Geography</th>\n",
       "      <th>Gender</th>\n",
       "      <th>Age</th>\n",
       "      <th>Tenure</th>\n",
       "      <th>Balance</th>\n",
       "      <th>NumOfProducts</th>\n",
       "      <th>HasCrCard</th>\n",
       "      <th>IsActiveMember</th>\n",
       "      <th>EstimatedSalary</th>\n",
       "    </tr>\n",
       "  </thead>\n",
       "  <tbody>\n",
       "    <tr>\n",
       "      <th>0</th>\n",
       "      <td>619</td>\n",
       "      <td>France</td>\n",
       "      <td>Female</td>\n",
       "      <td>42</td>\n",
       "      <td>2</td>\n",
       "      <td>0.00</td>\n",
       "      <td>1</td>\n",
       "      <td>1</td>\n",
       "      <td>1</td>\n",
       "      <td>101348.88</td>\n",
       "    </tr>\n",
       "    <tr>\n",
       "      <th>1</th>\n",
       "      <td>608</td>\n",
       "      <td>Spain</td>\n",
       "      <td>Female</td>\n",
       "      <td>41</td>\n",
       "      <td>1</td>\n",
       "      <td>83807.86</td>\n",
       "      <td>1</td>\n",
       "      <td>0</td>\n",
       "      <td>1</td>\n",
       "      <td>112542.58</td>\n",
       "    </tr>\n",
       "    <tr>\n",
       "      <th>2</th>\n",
       "      <td>502</td>\n",
       "      <td>France</td>\n",
       "      <td>Female</td>\n",
       "      <td>42</td>\n",
       "      <td>8</td>\n",
       "      <td>159660.80</td>\n",
       "      <td>3</td>\n",
       "      <td>1</td>\n",
       "      <td>0</td>\n",
       "      <td>113931.57</td>\n",
       "    </tr>\n",
       "    <tr>\n",
       "      <th>3</th>\n",
       "      <td>699</td>\n",
       "      <td>France</td>\n",
       "      <td>Female</td>\n",
       "      <td>39</td>\n",
       "      <td>1</td>\n",
       "      <td>0.00</td>\n",
       "      <td>2</td>\n",
       "      <td>0</td>\n",
       "      <td>0</td>\n",
       "      <td>93826.63</td>\n",
       "    </tr>\n",
       "    <tr>\n",
       "      <th>4</th>\n",
       "      <td>850</td>\n",
       "      <td>Spain</td>\n",
       "      <td>Female</td>\n",
       "      <td>43</td>\n",
       "      <td>2</td>\n",
       "      <td>125510.82</td>\n",
       "      <td>1</td>\n",
       "      <td>1</td>\n",
       "      <td>1</td>\n",
       "      <td>79084.10</td>\n",
       "    </tr>\n",
       "  </tbody>\n",
       "</table>\n",
       "</div>"
      ],
      "text/plain": [
       "   CreditScore Geography  Gender  Age  Tenure    Balance  NumOfProducts  \\\n",
       "0          619    France  Female   42       2       0.00              1   \n",
       "1          608     Spain  Female   41       1   83807.86              1   \n",
       "2          502    France  Female   42       8  159660.80              3   \n",
       "3          699    France  Female   39       1       0.00              2   \n",
       "4          850     Spain  Female   43       2  125510.82              1   \n",
       "\n",
       "   HasCrCard  IsActiveMember  EstimatedSalary  \n",
       "0          1               1        101348.88  \n",
       "1          0               1        112542.58  \n",
       "2          1               0        113931.57  \n",
       "3          0               0         93826.63  \n",
       "4          1               1         79084.10  "
      ]
     },
     "execution_count": 6,
     "metadata": {},
     "output_type": "execute_result"
    }
   ],
   "source": [
    "X.head()"
   ]
  },
  {
   "cell_type": "code",
   "execution_count": 7,
   "id": "intimate-overhead",
   "metadata": {
    "execution": {
     "iopub.execute_input": "2021-05-27T14:27:50.781142Z",
     "iopub.status.busy": "2021-05-27T14:27:50.780411Z",
     "iopub.status.idle": "2021-05-27T14:27:50.785844Z",
     "shell.execute_reply": "2021-05-27T14:27:50.786369Z",
     "shell.execute_reply.started": "2021-05-27T13:16:46.473109Z"
    },
    "papermill": {
     "duration": 0.042888,
     "end_time": "2021-05-27T14:27:50.786577",
     "exception": false,
     "start_time": "2021-05-27T14:27:50.743689",
     "status": "completed"
    },
    "tags": []
   },
   "outputs": [
    {
     "data": {
      "text/plain": [
       "0    1\n",
       "1    0\n",
       "2    1\n",
       "3    0\n",
       "4    0\n",
       "Name: Exited, dtype: int64"
      ]
     },
     "execution_count": 7,
     "metadata": {},
     "output_type": "execute_result"
    }
   ],
   "source": [
    "y.head()"
   ]
  },
  {
   "cell_type": "code",
   "execution_count": 8,
   "id": "raised-procedure",
   "metadata": {
    "execution": {
     "iopub.execute_input": "2021-05-27T14:27:50.858914Z",
     "iopub.status.busy": "2021-05-27T14:27:50.858260Z",
     "iopub.status.idle": "2021-05-27T14:27:50.870506Z",
     "shell.execute_reply": "2021-05-27T14:27:50.869856Z",
     "shell.execute_reply.started": "2021-05-27T13:16:56.614769Z"
    },
    "papermill": {
     "duration": 0.048778,
     "end_time": "2021-05-27T14:27:50.870670",
     "exception": false,
     "start_time": "2021-05-27T14:27:50.821892",
     "status": "completed"
    },
    "tags": []
   },
   "outputs": [],
   "source": [
    "# Create dummy variables :\n",
    "geography=pd.get_dummies(X[\"Geography\"],drop_first=True)"
   ]
  },
  {
   "cell_type": "code",
   "execution_count": 9,
   "id": "artistic-highway",
   "metadata": {
    "execution": {
     "iopub.execute_input": "2021-05-27T14:27:50.944110Z",
     "iopub.status.busy": "2021-05-27T14:27:50.943435Z",
     "iopub.status.idle": "2021-05-27T14:27:50.946876Z",
     "shell.execute_reply": "2021-05-27T14:27:50.947424Z",
     "shell.execute_reply.started": "2021-05-27T13:17:03.113016Z"
    },
    "papermill": {
     "duration": 0.043303,
     "end_time": "2021-05-27T14:27:50.947598",
     "exception": false,
     "start_time": "2021-05-27T14:27:50.904295",
     "status": "completed"
    },
    "tags": []
   },
   "outputs": [],
   "source": [
    "gender=pd.get_dummies(X['Gender'],drop_first=True)"
   ]
  },
  {
   "cell_type": "code",
   "execution_count": 10,
   "id": "weird-specialist",
   "metadata": {
    "execution": {
     "iopub.execute_input": "2021-05-27T14:27:51.022040Z",
     "iopub.status.busy": "2021-05-27T14:27:51.021287Z",
     "iopub.status.idle": "2021-05-27T14:27:51.029862Z",
     "shell.execute_reply": "2021-05-27T14:27:51.029292Z",
     "shell.execute_reply.started": "2021-05-27T13:17:11.462619Z"
    },
    "papermill": {
     "duration": 0.047131,
     "end_time": "2021-05-27T14:27:51.030038",
     "exception": false,
     "start_time": "2021-05-27T14:27:50.982907",
     "status": "completed"
    },
    "tags": []
   },
   "outputs": [],
   "source": [
    "# Concatenate the Data Frames : \n",
    "X=pd.concat([X,geography,gender],axis=1)"
   ]
  },
  {
   "cell_type": "code",
   "execution_count": 11,
   "id": "equivalent-candidate",
   "metadata": {
    "execution": {
     "iopub.execute_input": "2021-05-27T14:27:51.115068Z",
     "iopub.status.busy": "2021-05-27T14:27:51.114399Z",
     "iopub.status.idle": "2021-05-27T14:27:51.117444Z",
     "shell.execute_reply": "2021-05-27T14:27:51.118040Z",
     "shell.execute_reply.started": "2021-05-27T13:17:17.533214Z"
    },
    "papermill": {
     "duration": 0.054763,
     "end_time": "2021-05-27T14:27:51.118213",
     "exception": false,
     "start_time": "2021-05-27T14:27:51.063450",
     "status": "completed"
    },
    "tags": []
   },
   "outputs": [
    {
     "data": {
      "text/html": [
       "<div>\n",
       "<style scoped>\n",
       "    .dataframe tbody tr th:only-of-type {\n",
       "        vertical-align: middle;\n",
       "    }\n",
       "\n",
       "    .dataframe tbody tr th {\n",
       "        vertical-align: top;\n",
       "    }\n",
       "\n",
       "    .dataframe thead th {\n",
       "        text-align: right;\n",
       "    }\n",
       "</style>\n",
       "<table border=\"1\" class=\"dataframe\">\n",
       "  <thead>\n",
       "    <tr style=\"text-align: right;\">\n",
       "      <th></th>\n",
       "      <th>CreditScore</th>\n",
       "      <th>Geography</th>\n",
       "      <th>Gender</th>\n",
       "      <th>Age</th>\n",
       "      <th>Tenure</th>\n",
       "      <th>Balance</th>\n",
       "      <th>NumOfProducts</th>\n",
       "      <th>HasCrCard</th>\n",
       "      <th>IsActiveMember</th>\n",
       "      <th>EstimatedSalary</th>\n",
       "      <th>Germany</th>\n",
       "      <th>Spain</th>\n",
       "      <th>Male</th>\n",
       "    </tr>\n",
       "  </thead>\n",
       "  <tbody>\n",
       "    <tr>\n",
       "      <th>0</th>\n",
       "      <td>619</td>\n",
       "      <td>France</td>\n",
       "      <td>Female</td>\n",
       "      <td>42</td>\n",
       "      <td>2</td>\n",
       "      <td>0.00</td>\n",
       "      <td>1</td>\n",
       "      <td>1</td>\n",
       "      <td>1</td>\n",
       "      <td>101348.88</td>\n",
       "      <td>0</td>\n",
       "      <td>0</td>\n",
       "      <td>0</td>\n",
       "    </tr>\n",
       "    <tr>\n",
       "      <th>1</th>\n",
       "      <td>608</td>\n",
       "      <td>Spain</td>\n",
       "      <td>Female</td>\n",
       "      <td>41</td>\n",
       "      <td>1</td>\n",
       "      <td>83807.86</td>\n",
       "      <td>1</td>\n",
       "      <td>0</td>\n",
       "      <td>1</td>\n",
       "      <td>112542.58</td>\n",
       "      <td>0</td>\n",
       "      <td>1</td>\n",
       "      <td>0</td>\n",
       "    </tr>\n",
       "    <tr>\n",
       "      <th>2</th>\n",
       "      <td>502</td>\n",
       "      <td>France</td>\n",
       "      <td>Female</td>\n",
       "      <td>42</td>\n",
       "      <td>8</td>\n",
       "      <td>159660.80</td>\n",
       "      <td>3</td>\n",
       "      <td>1</td>\n",
       "      <td>0</td>\n",
       "      <td>113931.57</td>\n",
       "      <td>0</td>\n",
       "      <td>0</td>\n",
       "      <td>0</td>\n",
       "    </tr>\n",
       "    <tr>\n",
       "      <th>3</th>\n",
       "      <td>699</td>\n",
       "      <td>France</td>\n",
       "      <td>Female</td>\n",
       "      <td>39</td>\n",
       "      <td>1</td>\n",
       "      <td>0.00</td>\n",
       "      <td>2</td>\n",
       "      <td>0</td>\n",
       "      <td>0</td>\n",
       "      <td>93826.63</td>\n",
       "      <td>0</td>\n",
       "      <td>0</td>\n",
       "      <td>0</td>\n",
       "    </tr>\n",
       "    <tr>\n",
       "      <th>4</th>\n",
       "      <td>850</td>\n",
       "      <td>Spain</td>\n",
       "      <td>Female</td>\n",
       "      <td>43</td>\n",
       "      <td>2</td>\n",
       "      <td>125510.82</td>\n",
       "      <td>1</td>\n",
       "      <td>1</td>\n",
       "      <td>1</td>\n",
       "      <td>79084.10</td>\n",
       "      <td>0</td>\n",
       "      <td>1</td>\n",
       "      <td>0</td>\n",
       "    </tr>\n",
       "  </tbody>\n",
       "</table>\n",
       "</div>"
      ],
      "text/plain": [
       "   CreditScore Geography  Gender  Age  Tenure    Balance  NumOfProducts  \\\n",
       "0          619    France  Female   42       2       0.00              1   \n",
       "1          608     Spain  Female   41       1   83807.86              1   \n",
       "2          502    France  Female   42       8  159660.80              3   \n",
       "3          699    France  Female   39       1       0.00              2   \n",
       "4          850     Spain  Female   43       2  125510.82              1   \n",
       "\n",
       "   HasCrCard  IsActiveMember  EstimatedSalary  Germany  Spain  Male  \n",
       "0          1               1        101348.88        0      0     0  \n",
       "1          0               1        112542.58        0      1     0  \n",
       "2          1               0        113931.57        0      0     0  \n",
       "3          0               0         93826.63        0      0     0  \n",
       "4          1               1         79084.10        0      1     0  "
      ]
     },
     "execution_count": 11,
     "metadata": {},
     "output_type": "execute_result"
    }
   ],
   "source": [
    "X.head()"
   ]
  },
  {
   "cell_type": "code",
   "execution_count": 12,
   "id": "vanilla-copying",
   "metadata": {
    "execution": {
     "iopub.execute_input": "2021-05-27T14:27:51.191726Z",
     "iopub.status.busy": "2021-05-27T14:27:51.191082Z",
     "iopub.status.idle": "2021-05-27T14:27:51.198647Z",
     "shell.execute_reply": "2021-05-27T14:27:51.199229Z",
     "shell.execute_reply.started": "2021-05-27T13:17:26.586456Z"
    },
    "papermill": {
     "duration": 0.046091,
     "end_time": "2021-05-27T14:27:51.199412",
     "exception": false,
     "start_time": "2021-05-27T14:27:51.153321",
     "status": "completed"
    },
    "tags": []
   },
   "outputs": [],
   "source": [
    "# Drop Unnecessary columns :\n",
    "X=X.drop(['Geography','Gender'],axis=1)"
   ]
  },
  {
   "cell_type": "markdown",
   "id": "stable-future",
   "metadata": {
    "papermill": {
     "duration": 0.034002,
     "end_time": "2021-05-27T14:27:51.270454",
     "exception": false,
     "start_time": "2021-05-27T14:27:51.236452",
     "status": "completed"
    },
    "tags": []
   },
   "source": [
    "# TRAIN TEST SPLIT"
   ]
  },
  {
   "cell_type": "code",
   "execution_count": 13,
   "id": "arranged-northwest",
   "metadata": {
    "execution": {
     "iopub.execute_input": "2021-05-27T14:27:51.342160Z",
     "iopub.status.busy": "2021-05-27T14:27:51.341459Z",
     "iopub.status.idle": "2021-05-27T14:27:52.457157Z",
     "shell.execute_reply": "2021-05-27T14:27:52.456197Z",
     "shell.execute_reply.started": "2021-05-27T13:23:00.005620Z"
    },
    "papermill": {
     "duration": 1.152567,
     "end_time": "2021-05-27T14:27:52.457307",
     "exception": false,
     "start_time": "2021-05-27T14:27:51.304740",
     "status": "completed"
    },
    "tags": []
   },
   "outputs": [],
   "source": [
    "from sklearn.model_selection import train_test_split"
   ]
  },
  {
   "cell_type": "code",
   "execution_count": 14,
   "id": "hydraulic-agenda",
   "metadata": {
    "execution": {
     "iopub.execute_input": "2021-05-27T14:27:52.529141Z",
     "iopub.status.busy": "2021-05-27T14:27:52.528437Z",
     "iopub.status.idle": "2021-05-27T14:27:52.536389Z",
     "shell.execute_reply": "2021-05-27T14:27:52.536960Z",
     "shell.execute_reply.started": "2021-05-27T13:23:06.516732Z"
    },
    "papermill": {
     "duration": 0.045466,
     "end_time": "2021-05-27T14:27:52.537144",
     "exception": false,
     "start_time": "2021-05-27T14:27:52.491678",
     "status": "completed"
    },
    "tags": []
   },
   "outputs": [],
   "source": [
    "X_train, X_test, y_train, y_test = train_test_split(X, y, test_size = 0.2, random_state = 0)"
   ]
  },
  {
   "cell_type": "code",
   "execution_count": 15,
   "id": "insured-trail",
   "metadata": {
    "execution": {
     "iopub.execute_input": "2021-05-27T14:27:52.609796Z",
     "iopub.status.busy": "2021-05-27T14:27:52.609156Z",
     "iopub.status.idle": "2021-05-27T14:27:52.612392Z",
     "shell.execute_reply": "2021-05-27T14:27:52.612951Z",
     "shell.execute_reply.started": "2021-05-27T13:23:12.499830Z"
    },
    "papermill": {
     "duration": 0.040661,
     "end_time": "2021-05-27T14:27:52.613125",
     "exception": false,
     "start_time": "2021-05-27T14:27:52.572464",
     "status": "completed"
    },
    "tags": []
   },
   "outputs": [],
   "source": [
    "# Feature Scaling :\n",
    "from sklearn.preprocessing import StandardScaler"
   ]
  },
  {
   "cell_type": "code",
   "execution_count": 16,
   "id": "upper-release",
   "metadata": {
    "execution": {
     "iopub.execute_input": "2021-05-27T14:27:52.684026Z",
     "iopub.status.busy": "2021-05-27T14:27:52.683332Z",
     "iopub.status.idle": "2021-05-27T14:27:52.687987Z",
     "shell.execute_reply": "2021-05-27T14:27:52.687407Z",
     "shell.execute_reply.started": "2021-05-27T13:23:21.965102Z"
    },
    "papermill": {
     "duration": 0.041013,
     "end_time": "2021-05-27T14:27:52.688133",
     "exception": false,
     "start_time": "2021-05-27T14:27:52.647120",
     "status": "completed"
    },
    "tags": []
   },
   "outputs": [],
   "source": [
    "sc = StandardScaler()"
   ]
  },
  {
   "cell_type": "code",
   "execution_count": 17,
   "id": "every-distinction",
   "metadata": {
    "execution": {
     "iopub.execute_input": "2021-05-27T14:27:52.759464Z",
     "iopub.status.busy": "2021-05-27T14:27:52.758786Z",
     "iopub.status.idle": "2021-05-27T14:27:52.770902Z",
     "shell.execute_reply": "2021-05-27T14:27:52.771399Z",
     "shell.execute_reply.started": "2021-05-27T13:23:28.540915Z"
    },
    "papermill": {
     "duration": 0.049272,
     "end_time": "2021-05-27T14:27:52.771596",
     "exception": false,
     "start_time": "2021-05-27T14:27:52.722324",
     "status": "completed"
    },
    "tags": []
   },
   "outputs": [],
   "source": [
    "X_train = sc.fit_transform(X_train)"
   ]
  },
  {
   "cell_type": "code",
   "execution_count": 18,
   "id": "instant-shark",
   "metadata": {
    "execution": {
     "iopub.execute_input": "2021-05-27T14:27:52.847301Z",
     "iopub.status.busy": "2021-05-27T14:27:52.846579Z",
     "iopub.status.idle": "2021-05-27T14:27:52.849762Z",
     "shell.execute_reply": "2021-05-27T14:27:52.849172Z",
     "shell.execute_reply.started": "2021-05-27T13:23:38.963778Z"
    },
    "papermill": {
     "duration": 0.043942,
     "end_time": "2021-05-27T14:27:52.849907",
     "exception": false,
     "start_time": "2021-05-27T14:27:52.805965",
     "status": "completed"
    },
    "tags": []
   },
   "outputs": [],
   "source": [
    "X_test = sc.transform(X_test)"
   ]
  },
  {
   "cell_type": "code",
   "execution_count": 19,
   "id": "ordinary-confusion",
   "metadata": {
    "execution": {
     "iopub.execute_input": "2021-05-27T14:27:52.921713Z",
     "iopub.status.busy": "2021-05-27T14:27:52.920723Z",
     "iopub.status.idle": "2021-05-27T14:27:58.561024Z",
     "shell.execute_reply": "2021-05-27T14:27:58.559424Z",
     "shell.execute_reply.started": "2021-05-27T13:41:30.628776Z"
    },
    "papermill": {
     "duration": 5.677113,
     "end_time": "2021-05-27T14:27:58.561195",
     "exception": false,
     "start_time": "2021-05-27T14:27:52.884082",
     "status": "completed"
    },
    "tags": []
   },
   "outputs": [],
   "source": [
    "import keras\n",
    "from keras.models import Sequential\n",
    "from keras.layers import Dense\n",
    "from keras.layers import Dropout"
   ]
  },
  {
   "cell_type": "code",
   "execution_count": 20,
   "id": "congressional-block",
   "metadata": {
    "execution": {
     "iopub.execute_input": "2021-05-27T14:27:58.634384Z",
     "iopub.status.busy": "2021-05-27T14:27:58.633681Z",
     "iopub.status.idle": "2021-05-27T14:27:58.670779Z",
     "shell.execute_reply": "2021-05-27T14:27:58.670245Z",
     "shell.execute_reply.started": "2021-05-27T13:41:45.588584Z"
    },
    "papermill": {
     "duration": 0.07555,
     "end_time": "2021-05-27T14:27:58.670944",
     "exception": false,
     "start_time": "2021-05-27T14:27:58.595394",
     "status": "completed"
    },
    "tags": []
   },
   "outputs": [],
   "source": [
    "# Initialising the ANN\n",
    "classifier = Sequential()"
   ]
  },
  {
   "cell_type": "code",
   "execution_count": 21,
   "id": "criminal-consciousness",
   "metadata": {
    "execution": {
     "iopub.execute_input": "2021-05-27T14:27:58.752480Z",
     "iopub.status.busy": "2021-05-27T14:27:58.751762Z",
     "iopub.status.idle": "2021-05-27T14:27:58.789279Z",
     "shell.execute_reply": "2021-05-27T14:27:58.788687Z",
     "shell.execute_reply.started": "2021-05-27T14:02:24.891423Z"
    },
    "papermill": {
     "duration": 0.084367,
     "end_time": "2021-05-27T14:27:58.789428",
     "exception": false,
     "start_time": "2021-05-27T14:27:58.705061",
     "status": "completed"
    },
    "tags": []
   },
   "outputs": [],
   "source": [
    "# Adding the input layer and the first hidden layer\n",
    "classifier.add(Dense(units = 6, kernel_initializer = 'he_uniform',activation='relu',input_dim = 11))"
   ]
  },
  {
   "cell_type": "code",
   "execution_count": 22,
   "id": "checked-aberdeen",
   "metadata": {
    "execution": {
     "iopub.execute_input": "2021-05-27T14:27:58.866686Z",
     "iopub.status.busy": "2021-05-27T14:27:58.865729Z",
     "iopub.status.idle": "2021-05-27T14:27:58.875504Z",
     "shell.execute_reply": "2021-05-27T14:27:58.875983Z",
     "shell.execute_reply.started": "2021-05-27T14:03:32.317451Z"
    },
    "papermill": {
     "duration": 0.052732,
     "end_time": "2021-05-27T14:27:58.876181",
     "exception": false,
     "start_time": "2021-05-27T14:27:58.823449",
     "status": "completed"
    },
    "tags": []
   },
   "outputs": [],
   "source": [
    "# Adding the second hidden layer\n",
    "classifier.add(Dense(units = 6, kernel_initializer = 'he_uniform',activation='relu'))"
   ]
  },
  {
   "cell_type": "code",
   "execution_count": 23,
   "id": "severe-quest",
   "metadata": {
    "execution": {
     "iopub.execute_input": "2021-05-27T14:27:58.952674Z",
     "iopub.status.busy": "2021-05-27T14:27:58.951551Z",
     "iopub.status.idle": "2021-05-27T14:27:58.963007Z",
     "shell.execute_reply": "2021-05-27T14:27:58.962361Z",
     "shell.execute_reply.started": "2021-05-27T14:06:44.737202Z"
    },
    "papermill": {
     "duration": 0.053049,
     "end_time": "2021-05-27T14:27:58.963161",
     "exception": false,
     "start_time": "2021-05-27T14:27:58.910112",
     "status": "completed"
    },
    "tags": []
   },
   "outputs": [],
   "source": [
    "# Adding the output layer\n",
    "classifier.add(Dense(units = 1, kernel_initializer = 'glorot_uniform', activation = 'sigmoid'))"
   ]
  },
  {
   "cell_type": "code",
   "execution_count": 24,
   "id": "ordinary-management",
   "metadata": {
    "execution": {
     "iopub.execute_input": "2021-05-27T14:27:59.037369Z",
     "iopub.status.busy": "2021-05-27T14:27:59.036703Z",
     "iopub.status.idle": "2021-05-27T14:27:59.040230Z",
     "shell.execute_reply": "2021-05-27T14:27:59.040721Z",
     "shell.execute_reply.started": "2021-05-27T14:07:00.791465Z"
    },
    "papermill": {
     "duration": 0.043823,
     "end_time": "2021-05-27T14:27:59.040894",
     "exception": false,
     "start_time": "2021-05-27T14:27:58.997071",
     "status": "completed"
    },
    "tags": []
   },
   "outputs": [
    {
     "name": "stdout",
     "output_type": "stream",
     "text": [
      "Model: \"sequential\"\n",
      "_________________________________________________________________\n",
      "Layer (type)                 Output Shape              Param #   \n",
      "=================================================================\n",
      "dense (Dense)                (None, 6)                 72        \n",
      "_________________________________________________________________\n",
      "dense_1 (Dense)              (None, 6)                 42        \n",
      "_________________________________________________________________\n",
      "dense_2 (Dense)              (None, 1)                 7         \n",
      "=================================================================\n",
      "Total params: 121\n",
      "Trainable params: 121\n",
      "Non-trainable params: 0\n",
      "_________________________________________________________________\n"
     ]
    }
   ],
   "source": [
    "classifier.summary()"
   ]
  },
  {
   "cell_type": "code",
   "execution_count": 25,
   "id": "foster-express",
   "metadata": {
    "execution": {
     "iopub.execute_input": "2021-05-27T14:27:59.123228Z",
     "iopub.status.busy": "2021-05-27T14:27:59.122535Z",
     "iopub.status.idle": "2021-05-27T14:27:59.129996Z",
     "shell.execute_reply": "2021-05-27T14:27:59.129290Z",
     "shell.execute_reply.started": "2021-05-27T14:10:18.282057Z"
    },
    "papermill": {
     "duration": 0.055029,
     "end_time": "2021-05-27T14:27:59.130142",
     "exception": false,
     "start_time": "2021-05-27T14:27:59.075113",
     "status": "completed"
    },
    "tags": []
   },
   "outputs": [],
   "source": [
    "# Compiling the ANN\n",
    "classifier.compile(optimizer = 'Adam', loss = 'binary_crossentropy', metrics = ['accuracy'])"
   ]
  },
  {
   "cell_type": "code",
   "execution_count": 26,
   "id": "statewide-offense",
   "metadata": {
    "execution": {
     "iopub.execute_input": "2021-05-27T14:27:59.205656Z",
     "iopub.status.busy": "2021-05-27T14:27:59.204969Z",
     "iopub.status.idle": "2021-05-27T14:29:18.226726Z",
     "shell.execute_reply": "2021-05-27T14:29:18.225879Z",
     "shell.execute_reply.started": "2021-05-27T14:13:35.717019Z"
    },
    "papermill": {
     "duration": 79.062247,
     "end_time": "2021-05-27T14:29:18.226916",
     "exception": false,
     "start_time": "2021-05-27T14:27:59.164669",
     "status": "completed"
    },
    "tags": []
   },
   "outputs": [
    {
     "name": "stdout",
     "output_type": "stream",
     "text": [
      "Epoch 1/100\n",
      "536/536 [==============================] - 2s 3ms/step - loss: 0.6911 - accuracy: 0.5813 - val_loss: 0.5005 - val_accuracy: 0.7967\n",
      "Epoch 2/100\n",
      "536/536 [==============================] - 1s 1ms/step - loss: 0.4831 - accuracy: 0.7960 - val_loss: 0.4598 - val_accuracy: 0.8008\n",
      "Epoch 3/100\n",
      "536/536 [==============================] - 1s 1ms/step - loss: 0.4450 - accuracy: 0.8040 - val_loss: 0.4457 - val_accuracy: 0.8073\n",
      "Epoch 4/100\n",
      "536/536 [==============================] - 1s 1ms/step - loss: 0.4197 - accuracy: 0.8169 - val_loss: 0.4369 - val_accuracy: 0.8027\n",
      "Epoch 5/100\n",
      "536/536 [==============================] - 1s 2ms/step - loss: 0.4313 - accuracy: 0.8173 - val_loss: 0.4299 - val_accuracy: 0.8054\n",
      "Epoch 6/100\n",
      "536/536 [==============================] - 1s 1ms/step - loss: 0.4121 - accuracy: 0.8250 - val_loss: 0.4229 - val_accuracy: 0.8095\n",
      "Epoch 7/100\n",
      "536/536 [==============================] - 1s 1ms/step - loss: 0.4101 - accuracy: 0.8255 - val_loss: 0.4166 - val_accuracy: 0.8103\n",
      "Epoch 8/100\n",
      "536/536 [==============================] - 1s 1ms/step - loss: 0.4019 - accuracy: 0.8263 - val_loss: 0.4093 - val_accuracy: 0.8160\n",
      "Epoch 9/100\n",
      "536/536 [==============================] - 1s 1ms/step - loss: 0.3891 - accuracy: 0.8357 - val_loss: 0.4026 - val_accuracy: 0.8198\n",
      "Epoch 10/100\n",
      "536/536 [==============================] - 1s 1ms/step - loss: 0.3772 - accuracy: 0.8377 - val_loss: 0.3905 - val_accuracy: 0.8236\n",
      "Epoch 11/100\n",
      "536/536 [==============================] - 1s 1ms/step - loss: 0.3605 - accuracy: 0.8545 - val_loss: 0.3810 - val_accuracy: 0.8338\n",
      "Epoch 12/100\n",
      "536/536 [==============================] - 1s 1ms/step - loss: 0.3574 - accuracy: 0.8599 - val_loss: 0.3748 - val_accuracy: 0.8387\n",
      "Epoch 13/100\n",
      "536/536 [==============================] - 1s 1ms/step - loss: 0.3596 - accuracy: 0.8525 - val_loss: 0.3694 - val_accuracy: 0.8429\n",
      "Epoch 14/100\n",
      "536/536 [==============================] - 1s 1ms/step - loss: 0.3448 - accuracy: 0.8656 - val_loss: 0.3654 - val_accuracy: 0.8455\n",
      "Epoch 15/100\n",
      "536/536 [==============================] - 1s 1ms/step - loss: 0.3496 - accuracy: 0.8537 - val_loss: 0.3639 - val_accuracy: 0.8463\n",
      "Epoch 16/100\n",
      "536/536 [==============================] - 1s 1ms/step - loss: 0.3487 - accuracy: 0.8596 - val_loss: 0.3636 - val_accuracy: 0.8497\n",
      "Epoch 17/100\n",
      "536/536 [==============================] - 1s 1ms/step - loss: 0.3252 - accuracy: 0.8671 - val_loss: 0.3614 - val_accuracy: 0.8485\n",
      "Epoch 18/100\n",
      "536/536 [==============================] - 1s 1ms/step - loss: 0.3418 - accuracy: 0.8574 - val_loss: 0.3599 - val_accuracy: 0.8478\n",
      "Epoch 19/100\n",
      "536/536 [==============================] - 1s 2ms/step - loss: 0.3476 - accuracy: 0.8566 - val_loss: 0.3591 - val_accuracy: 0.8508\n",
      "Epoch 20/100\n",
      "536/536 [==============================] - 1s 1ms/step - loss: 0.3495 - accuracy: 0.8573 - val_loss: 0.3606 - val_accuracy: 0.8508\n",
      "Epoch 21/100\n",
      "536/536 [==============================] - 1s 1ms/step - loss: 0.3418 - accuracy: 0.8614 - val_loss: 0.3581 - val_accuracy: 0.8504\n",
      "Epoch 22/100\n",
      "536/536 [==============================] - 1s 1ms/step - loss: 0.3406 - accuracy: 0.8557 - val_loss: 0.3573 - val_accuracy: 0.8508\n",
      "Epoch 23/100\n",
      "536/536 [==============================] - 1s 1ms/step - loss: 0.3427 - accuracy: 0.8597 - val_loss: 0.3582 - val_accuracy: 0.8519\n",
      "Epoch 24/100\n",
      "536/536 [==============================] - 1s 1ms/step - loss: 0.3259 - accuracy: 0.8668 - val_loss: 0.3570 - val_accuracy: 0.8516\n",
      "Epoch 25/100\n",
      "536/536 [==============================] - 1s 1ms/step - loss: 0.3236 - accuracy: 0.8693 - val_loss: 0.3574 - val_accuracy: 0.8489\n",
      "Epoch 26/100\n",
      "536/536 [==============================] - 1s 1ms/step - loss: 0.3470 - accuracy: 0.8525 - val_loss: 0.3562 - val_accuracy: 0.8527\n",
      "Epoch 27/100\n",
      "536/536 [==============================] - 1s 1ms/step - loss: 0.3331 - accuracy: 0.8661 - val_loss: 0.3556 - val_accuracy: 0.8516\n",
      "Epoch 28/100\n",
      "536/536 [==============================] - 1s 1ms/step - loss: 0.3493 - accuracy: 0.8531 - val_loss: 0.3564 - val_accuracy: 0.8527\n",
      "Epoch 29/100\n",
      "536/536 [==============================] - 1s 2ms/step - loss: 0.3363 - accuracy: 0.8601 - val_loss: 0.3552 - val_accuracy: 0.8512\n",
      "Epoch 30/100\n",
      "536/536 [==============================] - 1s 1ms/step - loss: 0.3152 - accuracy: 0.8679 - val_loss: 0.3553 - val_accuracy: 0.8527\n",
      "Epoch 31/100\n",
      "536/536 [==============================] - 1s 1ms/step - loss: 0.3282 - accuracy: 0.8632 - val_loss: 0.3549 - val_accuracy: 0.8516\n",
      "Epoch 32/100\n",
      "536/536 [==============================] - 1s 1ms/step - loss: 0.3348 - accuracy: 0.8582 - val_loss: 0.3553 - val_accuracy: 0.8531\n",
      "Epoch 33/100\n",
      "536/536 [==============================] - 1s 2ms/step - loss: 0.3341 - accuracy: 0.8612 - val_loss: 0.3542 - val_accuracy: 0.8542\n",
      "Epoch 34/100\n",
      "536/536 [==============================] - 1s 1ms/step - loss: 0.3239 - accuracy: 0.8674 - val_loss: 0.3554 - val_accuracy: 0.8538\n",
      "Epoch 35/100\n",
      "536/536 [==============================] - 1s 1ms/step - loss: 0.3375 - accuracy: 0.8591 - val_loss: 0.3541 - val_accuracy: 0.8557\n",
      "Epoch 36/100\n",
      "536/536 [==============================] - 1s 1ms/step - loss: 0.3327 - accuracy: 0.8603 - val_loss: 0.3561 - val_accuracy: 0.8557\n",
      "Epoch 37/100\n",
      "536/536 [==============================] - 1s 1ms/step - loss: 0.3322 - accuracy: 0.8617 - val_loss: 0.3542 - val_accuracy: 0.8554\n",
      "Epoch 38/100\n",
      "536/536 [==============================] - 1s 1ms/step - loss: 0.3189 - accuracy: 0.8700 - val_loss: 0.3543 - val_accuracy: 0.8576\n",
      "Epoch 39/100\n",
      "536/536 [==============================] - 1s 1ms/step - loss: 0.3339 - accuracy: 0.8622 - val_loss: 0.3545 - val_accuracy: 0.8554\n",
      "Epoch 40/100\n",
      "536/536 [==============================] - 1s 1ms/step - loss: 0.3392 - accuracy: 0.8584 - val_loss: 0.3547 - val_accuracy: 0.8557\n",
      "Epoch 41/100\n",
      "536/536 [==============================] - 1s 2ms/step - loss: 0.3206 - accuracy: 0.8689 - val_loss: 0.3543 - val_accuracy: 0.8561\n",
      "Epoch 42/100\n",
      "536/536 [==============================] - 1s 1ms/step - loss: 0.3224 - accuracy: 0.8655 - val_loss: 0.3552 - val_accuracy: 0.8557\n",
      "Epoch 43/100\n",
      "536/536 [==============================] - 1s 1ms/step - loss: 0.3218 - accuracy: 0.8667 - val_loss: 0.3535 - val_accuracy: 0.8561\n",
      "Epoch 44/100\n",
      "536/536 [==============================] - 1s 1ms/step - loss: 0.3309 - accuracy: 0.8606 - val_loss: 0.3535 - val_accuracy: 0.8546\n",
      "Epoch 45/100\n",
      "536/536 [==============================] - 1s 1ms/step - loss: 0.3321 - accuracy: 0.8556 - val_loss: 0.3546 - val_accuracy: 0.8557\n",
      "Epoch 46/100\n",
      "536/536 [==============================] - 1s 1ms/step - loss: 0.3295 - accuracy: 0.8621 - val_loss: 0.3547 - val_accuracy: 0.8569\n",
      "Epoch 47/100\n",
      "536/536 [==============================] - 1s 1ms/step - loss: 0.3163 - accuracy: 0.8717 - val_loss: 0.3542 - val_accuracy: 0.8557\n",
      "Epoch 48/100\n",
      "536/536 [==============================] - 1s 1ms/step - loss: 0.3239 - accuracy: 0.8708 - val_loss: 0.3542 - val_accuracy: 0.8576\n",
      "Epoch 49/100\n",
      "536/536 [==============================] - 1s 1ms/step - loss: 0.3324 - accuracy: 0.8606 - val_loss: 0.3540 - val_accuracy: 0.8576\n",
      "Epoch 50/100\n",
      "536/536 [==============================] - 1s 1ms/step - loss: 0.3286 - accuracy: 0.8663 - val_loss: 0.3540 - val_accuracy: 0.8595\n",
      "Epoch 51/100\n",
      "536/536 [==============================] - 1s 1ms/step - loss: 0.3225 - accuracy: 0.8674 - val_loss: 0.3524 - val_accuracy: 0.8557\n",
      "Epoch 52/100\n",
      "536/536 [==============================] - 1s 1ms/step - loss: 0.3261 - accuracy: 0.8673 - val_loss: 0.3529 - val_accuracy: 0.8584\n",
      "Epoch 53/100\n",
      "536/536 [==============================] - 1s 1ms/step - loss: 0.3217 - accuracy: 0.8663 - val_loss: 0.3535 - val_accuracy: 0.8580\n",
      "Epoch 54/100\n",
      "536/536 [==============================] - 1s 1ms/step - loss: 0.3238 - accuracy: 0.8639 - val_loss: 0.3550 - val_accuracy: 0.8557\n",
      "Epoch 55/100\n",
      "536/536 [==============================] - 1s 1ms/step - loss: 0.3350 - accuracy: 0.8614 - val_loss: 0.3532 - val_accuracy: 0.8573\n",
      "Epoch 56/100\n",
      "536/536 [==============================] - 1s 1ms/step - loss: 0.3126 - accuracy: 0.8744 - val_loss: 0.3528 - val_accuracy: 0.8550\n",
      "Epoch 57/100\n",
      "536/536 [==============================] - 1s 1ms/step - loss: 0.3283 - accuracy: 0.8741 - val_loss: 0.3534 - val_accuracy: 0.8569\n",
      "Epoch 58/100\n",
      "536/536 [==============================] - 1s 1ms/step - loss: 0.3294 - accuracy: 0.8689 - val_loss: 0.3532 - val_accuracy: 0.8561\n",
      "Epoch 59/100\n",
      "536/536 [==============================] - 1s 1ms/step - loss: 0.3233 - accuracy: 0.8604 - val_loss: 0.3523 - val_accuracy: 0.8573\n",
      "Epoch 60/100\n",
      "536/536 [==============================] - 1s 1ms/step - loss: 0.3295 - accuracy: 0.8694 - val_loss: 0.3520 - val_accuracy: 0.8565\n",
      "Epoch 61/100\n",
      "536/536 [==============================] - 1s 1ms/step - loss: 0.3363 - accuracy: 0.8617 - val_loss: 0.3514 - val_accuracy: 0.8561\n",
      "Epoch 62/100\n",
      "536/536 [==============================] - 1s 1ms/step - loss: 0.3266 - accuracy: 0.8664 - val_loss: 0.3512 - val_accuracy: 0.8584\n",
      "Epoch 63/100\n",
      "536/536 [==============================] - 1s 1ms/step - loss: 0.3245 - accuracy: 0.8652 - val_loss: 0.3511 - val_accuracy: 0.8569\n",
      "Epoch 64/100\n",
      "536/536 [==============================] - 1s 1ms/step - loss: 0.3370 - accuracy: 0.8616 - val_loss: 0.3523 - val_accuracy: 0.8561\n",
      "Epoch 65/100\n",
      "536/536 [==============================] - 1s 1ms/step - loss: 0.3225 - accuracy: 0.8670 - val_loss: 0.3518 - val_accuracy: 0.8576\n",
      "Epoch 66/100\n",
      "536/536 [==============================] - 1s 1ms/step - loss: 0.3255 - accuracy: 0.8689 - val_loss: 0.3518 - val_accuracy: 0.8580\n",
      "Epoch 67/100\n",
      "536/536 [==============================] - 1s 1ms/step - loss: 0.3131 - accuracy: 0.8741 - val_loss: 0.3534 - val_accuracy: 0.8599\n",
      "Epoch 68/100\n",
      "536/536 [==============================] - 1s 1ms/step - loss: 0.3254 - accuracy: 0.8656 - val_loss: 0.3514 - val_accuracy: 0.8569\n",
      "Epoch 69/100\n",
      "536/536 [==============================] - 1s 1ms/step - loss: 0.3400 - accuracy: 0.8615 - val_loss: 0.3519 - val_accuracy: 0.8584\n",
      "Epoch 70/100\n",
      "536/536 [==============================] - 1s 1ms/step - loss: 0.3419 - accuracy: 0.8612 - val_loss: 0.3518 - val_accuracy: 0.8580\n",
      "Epoch 71/100\n",
      "536/536 [==============================] - 1s 1ms/step - loss: 0.3267 - accuracy: 0.8679 - val_loss: 0.3514 - val_accuracy: 0.8576\n",
      "Epoch 72/100\n",
      "536/536 [==============================] - 1s 1ms/step - loss: 0.3196 - accuracy: 0.8703 - val_loss: 0.3519 - val_accuracy: 0.8573\n",
      "Epoch 73/100\n",
      "536/536 [==============================] - 1s 1ms/step - loss: 0.3261 - accuracy: 0.8619 - val_loss: 0.3518 - val_accuracy: 0.8580\n",
      "Epoch 74/100\n",
      "536/536 [==============================] - 1s 1ms/step - loss: 0.3213 - accuracy: 0.8721 - val_loss: 0.3515 - val_accuracy: 0.8576\n",
      "Epoch 75/100\n",
      "536/536 [==============================] - 1s 1ms/step - loss: 0.3292 - accuracy: 0.8659 - val_loss: 0.3533 - val_accuracy: 0.8576\n",
      "Epoch 76/100\n",
      "536/536 [==============================] - 1s 1ms/step - loss: 0.3147 - accuracy: 0.8743 - val_loss: 0.3515 - val_accuracy: 0.8580\n",
      "Epoch 77/100\n",
      "536/536 [==============================] - 1s 1ms/step - loss: 0.3361 - accuracy: 0.8668 - val_loss: 0.3518 - val_accuracy: 0.8591\n",
      "Epoch 78/100\n",
      "536/536 [==============================] - 1s 1ms/step - loss: 0.3184 - accuracy: 0.8694 - val_loss: 0.3518 - val_accuracy: 0.8580\n",
      "Epoch 79/100\n",
      "536/536 [==============================] - 1s 1ms/step - loss: 0.3267 - accuracy: 0.8632 - val_loss: 0.3512 - val_accuracy: 0.8573\n",
      "Epoch 80/100\n",
      "536/536 [==============================] - 1s 1ms/step - loss: 0.3217 - accuracy: 0.8700 - val_loss: 0.3512 - val_accuracy: 0.8599\n",
      "Epoch 81/100\n",
      "536/536 [==============================] - 1s 1ms/step - loss: 0.3209 - accuracy: 0.8664 - val_loss: 0.3510 - val_accuracy: 0.8591\n",
      "Epoch 82/100\n",
      "536/536 [==============================] - 1s 1ms/step - loss: 0.3369 - accuracy: 0.8529 - val_loss: 0.3504 - val_accuracy: 0.8591\n",
      "Epoch 83/100\n",
      "536/536 [==============================] - 1s 2ms/step - loss: 0.3337 - accuracy: 0.8639 - val_loss: 0.3507 - val_accuracy: 0.8580\n",
      "Epoch 84/100\n",
      "536/536 [==============================] - 1s 1ms/step - loss: 0.3308 - accuracy: 0.8616 - val_loss: 0.3506 - val_accuracy: 0.8599\n",
      "Epoch 85/100\n",
      "536/536 [==============================] - 1s 1ms/step - loss: 0.3360 - accuracy: 0.8585 - val_loss: 0.3508 - val_accuracy: 0.8591\n",
      "Epoch 86/100\n",
      "536/536 [==============================] - 1s 1ms/step - loss: 0.3286 - accuracy: 0.8635 - val_loss: 0.3523 - val_accuracy: 0.8591\n",
      "Epoch 87/100\n",
      "536/536 [==============================] - 1s 1ms/step - loss: 0.3154 - accuracy: 0.8698 - val_loss: 0.3514 - val_accuracy: 0.8588\n",
      "Epoch 88/100\n",
      "536/536 [==============================] - 1s 1ms/step - loss: 0.3385 - accuracy: 0.8653 - val_loss: 0.3509 - val_accuracy: 0.8573\n",
      "Epoch 89/100\n",
      "536/536 [==============================] - 1s 1ms/step - loss: 0.3263 - accuracy: 0.8677 - val_loss: 0.3519 - val_accuracy: 0.8588\n",
      "Epoch 90/100\n",
      "536/536 [==============================] - 1s 1ms/step - loss: 0.3301 - accuracy: 0.8640 - val_loss: 0.3524 - val_accuracy: 0.8561\n",
      "Epoch 91/100\n",
      "536/536 [==============================] - 1s 1ms/step - loss: 0.3364 - accuracy: 0.8612 - val_loss: 0.3516 - val_accuracy: 0.8584\n",
      "Epoch 92/100\n",
      "536/536 [==============================] - 1s 1ms/step - loss: 0.3256 - accuracy: 0.8627 - val_loss: 0.3514 - val_accuracy: 0.8569\n",
      "Epoch 93/100\n",
      "536/536 [==============================] - 1s 1ms/step - loss: 0.3167 - accuracy: 0.8678 - val_loss: 0.3517 - val_accuracy: 0.8588\n",
      "Epoch 94/100\n",
      "536/536 [==============================] - 1s 1ms/step - loss: 0.3218 - accuracy: 0.8663 - val_loss: 0.3517 - val_accuracy: 0.8603\n",
      "Epoch 95/100\n",
      "536/536 [==============================] - 1s 1ms/step - loss: 0.3335 - accuracy: 0.8641 - val_loss: 0.3521 - val_accuracy: 0.8591\n",
      "Epoch 96/100\n",
      "536/536 [==============================] - 1s 1ms/step - loss: 0.3253 - accuracy: 0.8658 - val_loss: 0.3512 - val_accuracy: 0.8580\n",
      "Epoch 97/100\n",
      "536/536 [==============================] - 1s 1ms/step - loss: 0.3276 - accuracy: 0.8647 - val_loss: 0.3526 - val_accuracy: 0.8565\n",
      "Epoch 98/100\n",
      "536/536 [==============================] - 1s 1ms/step - loss: 0.3348 - accuracy: 0.8640 - val_loss: 0.3514 - val_accuracy: 0.8580\n",
      "Epoch 99/100\n",
      "536/536 [==============================] - 1s 1ms/step - loss: 0.3208 - accuracy: 0.8690 - val_loss: 0.3522 - val_accuracy: 0.8603\n",
      "Epoch 100/100\n",
      "536/536 [==============================] - 1s 1ms/step - loss: 0.3269 - accuracy: 0.8668 - val_loss: 0.3517 - val_accuracy: 0.8569\n"
     ]
    }
   ],
   "source": [
    "# Fitting the ANN to the Training set\n",
    "model_history=classifier.fit(X_train, y_train,validation_split=0.33, batch_size = 10, epochs= 100)"
   ]
  },
  {
   "cell_type": "code",
   "execution_count": 27,
   "id": "impaired-motivation",
   "metadata": {
    "execution": {
     "iopub.execute_input": "2021-05-27T14:29:19.036219Z",
     "iopub.status.busy": "2021-05-27T14:29:19.035258Z",
     "iopub.status.idle": "2021-05-27T14:29:19.038817Z",
     "shell.execute_reply": "2021-05-27T14:29:19.038342Z",
     "shell.execute_reply.started": "2021-05-27T14:18:44.015959Z"
    },
    "papermill": {
     "duration": 0.40717,
     "end_time": "2021-05-27T14:29:19.038978",
     "exception": false,
     "start_time": "2021-05-27T14:29:18.631808",
     "status": "completed"
    },
    "tags": []
   },
   "outputs": [
    {
     "data": {
      "text/plain": [
       "dict_keys(['loss', 'accuracy', 'val_loss', 'val_accuracy'])"
      ]
     },
     "execution_count": 27,
     "metadata": {},
     "output_type": "execute_result"
    }
   ],
   "source": [
    "# list all data in history\n",
    "model_history.history.keys()"
   ]
  },
  {
   "cell_type": "code",
   "execution_count": 28,
   "id": "possible-holmes",
   "metadata": {
    "execution": {
     "iopub.execute_input": "2021-05-27T14:29:19.872000Z",
     "iopub.status.busy": "2021-05-27T14:29:19.871291Z",
     "iopub.status.idle": "2021-05-27T14:29:20.052027Z",
     "shell.execute_reply": "2021-05-27T14:29:20.051465Z",
     "shell.execute_reply.started": "2021-05-27T14:19:35.144615Z"
    },
    "papermill": {
     "duration": 0.604861,
     "end_time": "2021-05-27T14:29:20.052183",
     "exception": false,
     "start_time": "2021-05-27T14:29:19.447322",
     "status": "completed"
    },
    "tags": []
   },
   "outputs": [
    {
     "data": {
      "image/png": "[encoded data removed]",
      "text/plain": [
       "<Figure size 432x288 with 1 Axes>"
      ]
     },
     "metadata": {
      "needs_background": "light"
     },
     "output_type": "display_data"
    }
   ],
   "source": [
    "# summarize history for accuracy\n",
    "plt.plot(model_history.history['accuracy'])\n",
    "plt.plot(model_history.history['val_accuracy'])\n",
    "plt.title('model accuracy')\n",
    "plt.ylabel('accuracy')\n",
    "plt.xlabel('epoch')\n",
    "plt.legend(['train', 'test'], loc='upper left')\n",
    "plt.show()"
   ]
  },
  {
   "cell_type": "code",
   "execution_count": 29,
   "id": "architectural-vision",
   "metadata": {
    "execution": {
     "iopub.execute_input": "2021-05-27T14:29:20.892161Z",
     "iopub.status.busy": "2021-05-27T14:29:20.883873Z",
     "iopub.status.idle": "2021-05-27T14:29:21.021477Z",
     "shell.execute_reply": "2021-05-27T14:29:21.020821Z",
     "shell.execute_reply.started": "2021-05-27T14:19:59.156340Z"
    },
    "papermill": {
     "duration": 0.562499,
     "end_time": "2021-05-27T14:29:21.021629",
     "exception": false,
     "start_time": "2021-05-27T14:29:20.459130",
     "status": "completed"
    },
    "tags": []
   },
   "outputs": [
    {
     "data": {
      "image/png": "[encoded data removed]",
      "text/plain": [
       "<Figure size 432x288 with 1 Axes>"
      ]
     },
     "metadata": {
      "needs_background": "light"
     },
     "output_type": "display_data"
    }
   ],
   "source": [
    "# summarize history for loss\n",
    "plt.plot(model_history.history['loss'])\n",
    "plt.plot(model_history.history['val_loss'])\n",
    "plt.title('model loss')\n",
    "plt.ylabel('loss')\n",
    "plt.xlabel('epoch')\n",
    "plt.legend(['train', 'test'], loc='upper left')\n",
    "plt.show()"
   ]
  },
  {
   "cell_type": "code",
   "execution_count": 30,
   "id": "acknowledged-firmware",
   "metadata": {
    "execution": {
     "iopub.execute_input": "2021-05-27T14:29:21.868148Z",
     "iopub.status.busy": "2021-05-27T14:29:21.867174Z",
     "iopub.status.idle": "2021-05-27T14:29:22.004326Z",
     "shell.execute_reply": "2021-05-27T14:29:22.003624Z",
     "shell.execute_reply.started": "2021-05-27T14:15:48.123113Z"
    },
    "papermill": {
     "duration": 0.54809,
     "end_time": "2021-05-27T14:29:22.004516",
     "exception": false,
     "start_time": "2021-05-27T14:29:21.456426",
     "status": "completed"
    },
    "tags": []
   },
   "outputs": [],
   "source": [
    "# Predicting the Test set results\n",
    "y_pred = classifier.predict(X_test)"
   ]
  },
  {
   "cell_type": "code",
   "execution_count": 31,
   "id": "blind-fundamental",
   "metadata": {
    "execution": {
     "iopub.execute_input": "2021-05-27T14:29:22.815195Z",
     "iopub.status.busy": "2021-05-27T14:29:22.814548Z",
     "iopub.status.idle": "2021-05-27T14:29:22.818258Z",
     "shell.execute_reply": "2021-05-27T14:29:22.817734Z",
     "shell.execute_reply.started": "2021-05-27T14:15:49.991191Z"
    },
    "papermill": {
     "duration": 0.409749,
     "end_time": "2021-05-27T14:29:22.818401",
     "exception": false,
     "start_time": "2021-05-27T14:29:22.408652",
     "status": "completed"
    },
    "tags": []
   },
   "outputs": [],
   "source": [
    "y_pred = (y_pred > 0.5)"
   ]
  },
  {
   "cell_type": "code",
   "execution_count": 32,
   "id": "competitive-patent",
   "metadata": {
    "execution": {
     "iopub.execute_input": "2021-05-27T14:29:23.624535Z",
     "iopub.status.busy": "2021-05-27T14:29:23.623817Z",
     "iopub.status.idle": "2021-05-27T14:29:23.628442Z",
     "shell.execute_reply": "2021-05-27T14:29:23.627878Z",
     "shell.execute_reply.started": "2021-05-27T14:16:34.021739Z"
    },
    "papermill": {
     "duration": 0.410446,
     "end_time": "2021-05-27T14:29:23.628595",
     "exception": false,
     "start_time": "2021-05-27T14:29:23.218149",
     "status": "completed"
    },
    "tags": []
   },
   "outputs": [
    {
     "data": {
      "text/plain": [
       "array([[False],\n",
       "       [False],\n",
       "       [False],\n",
       "       ...,\n",
       "       [False],\n",
       "       [False],\n",
       "       [False]])"
      ]
     },
     "execution_count": 32,
     "metadata": {},
     "output_type": "execute_result"
    }
   ],
   "source": [
    "y_pred"
   ]
  },
  {
   "cell_type": "code",
   "execution_count": 33,
   "id": "general-stewart",
   "metadata": {
    "execution": {
     "iopub.execute_input": "2021-05-27T14:29:24.439177Z",
     "iopub.status.busy": "2021-05-27T14:29:24.438466Z",
     "iopub.status.idle": "2021-05-27T14:29:24.441084Z",
     "shell.execute_reply": "2021-05-27T14:29:24.441515Z",
     "shell.execute_reply.started": "2021-05-27T14:16:06.802515Z"
    },
    "papermill": {
     "duration": 0.410167,
     "end_time": "2021-05-27T14:29:24.441695",
     "exception": false,
     "start_time": "2021-05-27T14:29:24.031528",
     "status": "completed"
    },
    "tags": []
   },
   "outputs": [],
   "source": [
    "# Making the Confusion Matrix\n",
    "from sklearn.metrics import confusion_matrix"
   ]
  },
  {
   "cell_type": "code",
   "execution_count": 34,
   "id": "ethical-student",
   "metadata": {
    "execution": {
     "iopub.execute_input": "2021-05-27T14:29:25.249171Z",
     "iopub.status.busy": "2021-05-27T14:29:25.248484Z",
     "iopub.status.idle": "2021-05-27T14:29:25.261771Z",
     "shell.execute_reply": "2021-05-27T14:29:25.261182Z",
     "shell.execute_reply.started": "2021-05-27T14:16:08.431719Z"
    },
    "papermill": {
     "duration": 0.41951,
     "end_time": "2021-05-27T14:29:25.261917",
     "exception": false,
     "start_time": "2021-05-27T14:29:24.842407",
     "status": "completed"
    },
    "tags": []
   },
   "outputs": [],
   "source": [
    "cm = confusion_matrix(y_test, y_pred)"
   ]
  },
  {
   "cell_type": "code",
   "execution_count": 35,
   "id": "disturbed-nashville",
   "metadata": {
    "execution": {
     "iopub.execute_input": "2021-05-27T14:29:26.066800Z",
     "iopub.status.busy": "2021-05-27T14:29:26.066038Z",
     "iopub.status.idle": "2021-05-27T14:29:26.070463Z",
     "shell.execute_reply": "2021-05-27T14:29:26.069787Z",
     "shell.execute_reply.started": "2021-05-27T14:16:40.272377Z"
    },
    "papermill": {
     "duration": 0.408068,
     "end_time": "2021-05-27T14:29:26.070617",
     "exception": false,
     "start_time": "2021-05-27T14:29:25.662549",
     "status": "completed"
    },
    "tags": []
   },
   "outputs": [
    {
     "data": {
      "text/plain": [
       "array([[1509,   86],\n",
       "       [ 187,  218]])"
      ]
     },
     "execution_count": 35,
     "metadata": {},
     "output_type": "execute_result"
    }
   ],
   "source": [
    "cm"
   ]
  },
  {
   "cell_type": "code",
   "execution_count": 36,
   "id": "tutorial-crown",
   "metadata": {
    "execution": {
     "iopub.execute_input": "2021-05-27T14:29:26.926767Z",
     "iopub.status.busy": "2021-05-27T14:29:26.925769Z",
     "iopub.status.idle": "2021-05-27T14:29:26.929032Z",
     "shell.execute_reply": "2021-05-27T14:29:26.928383Z",
     "shell.execute_reply.started": "2021-05-27T14:17:01.042284Z"
    },
    "papermill": {
     "duration": 0.458472,
     "end_time": "2021-05-27T14:29:26.929182",
     "exception": false,
     "start_time": "2021-05-27T14:29:26.470710",
     "status": "completed"
    },
    "tags": []
   },
   "outputs": [],
   "source": [
    "# Calculate the Accuracy\n",
    "from sklearn.metrics import accuracy_score"
   ]
  },
  {
   "cell_type": "code",
   "execution_count": 37,
   "id": "instrumental-moses",
   "metadata": {
    "execution": {
     "iopub.execute_input": "2021-05-27T14:29:27.744115Z",
     "iopub.status.busy": "2021-05-27T14:29:27.743123Z",
     "iopub.status.idle": "2021-05-27T14:29:27.748162Z",
     "shell.execute_reply": "2021-05-27T14:29:27.748719Z",
     "shell.execute_reply.started": "2021-05-27T14:17:03.032563Z"
    },
    "papermill": {
     "duration": 0.415826,
     "end_time": "2021-05-27T14:29:27.748898",
     "exception": false,
     "start_time": "2021-05-27T14:29:27.333072",
     "status": "completed"
    },
    "tags": []
   },
   "outputs": [],
   "source": [
    "score=accuracy_score(y_pred,y_test)"
   ]
  },
  {
   "cell_type": "code",
   "execution_count": 38,
   "id": "advanced-discretion",
   "metadata": {
    "execution": {
     "iopub.execute_input": "2021-05-27T14:29:28.563062Z",
     "iopub.status.busy": "2021-05-27T14:29:28.562093Z",
     "iopub.status.idle": "2021-05-27T14:29:28.567588Z",
     "shell.execute_reply": "2021-05-27T14:29:28.568182Z",
     "shell.execute_reply.started": "2021-05-27T14:17:06.361602Z"
    },
    "papermill": {
     "duration": 0.414032,
     "end_time": "2021-05-27T14:29:28.568355",
     "exception": false,
     "start_time": "2021-05-27T14:29:28.154323",
     "status": "completed"
    },
    "tags": []
   },
   "outputs": [
    {
     "data": {
      "text/plain": [
       "0.8635"
      ]
     },
     "execution_count": 38,
     "metadata": {},
     "output_type": "execute_result"
    }
   ],
   "source": [
    "score"
   ]
  }
 ],
 "metadata": {
  "kernelspec": {
   "display_name": "Python 3",
   "language": "python",
   "name": "python3"
  },
  "language_info": {
   "codemirror_mode": {
    "name": "ipython",
    "version": 3
   },
   "file_extension": ".py",
   "mimetype": "text/x-python",
   "name": "python",
   "nbconvert_exporter": "python",
   "pygments_lexer": "ipython3",
   "version": "3.7.9"
  },
  "papermill": {
   "default_parameters": {},
   "duration": 106.411975,
   "end_time": "2021-05-27T14:29:30.085586",
   "environment_variables": {},
   "exception": null,
   "input_path": "__notebook__.ipynb",
   "output_path": "__notebook__.ipynb",
   "parameters": {},
   "start_time": "2021-05-27T14:27:43.673611",
   "version": "2.3.2"
  }
 },
 "nbformat": 4,
 "nbformat_minor": 5
}
